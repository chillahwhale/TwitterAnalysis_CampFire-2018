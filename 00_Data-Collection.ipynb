{
 "cells": [
  {
   "cell_type": "code",
   "execution_count": 1,
   "metadata": {},
   "outputs": [],
   "source": [
    "import pandas as pd\n",
    "import GetOldTweets3 as got\n",
    "# https://github.com/Mottl/GetOldTweets3"
   ]
  },
  {
   "cell_type": "code",
   "execution_count": 2,
   "metadata": {},
   "outputs": [],
   "source": [
    "# function to get twitter info and organize in dataframe\n",
    "def get_twitter_info():\n",
    "    tweet_df[\"id\"] = tweet_df[\"got_criteria\"].apply(lambda x: x.id)\n",
    "    tweet_df[\"tweet_text\"] = tweet_df[\"got_criteria\"].apply(lambda x: x.text)\n",
    "    tweet_df[\"timestamp\"] = tweet_df[\"got_criteria\"].apply(lambda x: x.date)\n",
    "    tweet_df[\"hashtags\"] = tweet_df[\"got_criteria\"].apply(lambda x: x.hashtags)\n",
    "    tweet_df[\"username\"] = tweet_df[\"got_criteria\"].apply(lambda x: x.username)\n",
    "    tweet_df[\"mentions\"] = tweet_df[\"got_criteria\"].apply(lambda x: x.mentions)\n",
    "    tweet_df[\"rewtweets\"] = tweet_df[\"got_criteria\"].apply(lambda x: x.retweets)\n",
    "    tweet_df[\"replies\"] = tweet_df[\"got_criteria\"].apply(lambda x: x.replies)\n",
    "    tweet_df[\"link\"] = tweet_df[\"got_criteria\"].apply(lambda x: x.permalink)\n",
    "# https://medium.com/@robbiegeoghegan/download-twitter-data-with-10-lines-of-code-42eb2ba1ab0f"
   ]
  },
  {
   "cell_type": "markdown",
   "metadata": {},
   "source": [
    "*NOTE:* the code below creates a dateframe based on the features in the function above. The dataframes are location-based. We received error messages when saving all cities into the `locations` variable. As manual workaround, we updated each city in the `locations` variable manually.\n",
    "\n",
    "The cities included are as follows: `Butte County`, `Paradise`, `Chico`, `Durham`, `Oroville`, `Magalia`. This is pulled from the location tag of a given tweet."
   ]
  },
  {
   "cell_type": "code",
   "execution_count": 18,
   "metadata": {},
   "outputs": [],
   "source": [
    "#specify location\n",
    "locations = [\"Paradise, CA\"]\n",
    "\n",
    "#get old tweets\n",
    "##date range pulled from for fire: 11/8/2018 - 11/26/2018\n",
    "##date range pulled from pre fire: 11/1/2018 - 11/7/2018\n",
    "tweetCriteria_list = []\n",
    "for location in locations:\n",
    "    tweetCriteria = got.manager.TweetCriteria().setSince('2018-11-08')\\\n",
    "                                            .setUntil('2018-11-26')\\\n",
    "                                            .setNear(location)\\\n",
    "                                            .setWithin('100mi')\n",
    "    tweetCriteria_list.append(tweetCriteria)\n",
    "    \n",
    "#create twitter info for each city\n",
    "tweet_dict = {}\n",
    "for criteria, location in zip(tweetCriteria_list, locations):\n",
    "    tweets = got.manager.TweetManager.getTweets(criteria)\n",
    "    tweet_dict[location] = tweets\n",
    "    \n",
    "#create df\n",
    "tweet_df = pd.DataFrame(dict([ (k,pd.Series(v)) for k,v in tweet_dict.items() ]))\n",
    "tweet_df['tweet_count'] = tweet_df.index\n",
    "tweet_df = pd.melt(tweet_df, id_vars=[\"tweet_count\"], var_name='City', value_name='got_criteria')\n",
    "# tweet_df = tweet_df.dropna()\n",
    "\n",
    "#extract twitter information\n",
    "get_twitter_info()\n",
    "tweet_df = tweet_df.drop(\"got_criteria\", 1)"
   ]
  },
  {
   "cell_type": "code",
   "execution_count": 19,
   "metadata": {},
   "outputs": [
    {
     "data": {
      "text/plain": [
       "(160, 11)"
      ]
     },
     "execution_count": 19,
     "metadata": {},
     "output_type": "execute_result"
    }
   ],
   "source": [
    "#save copy of df based on city specified in location\n",
    "paradise = tweet_df.copy()\n",
    "paradise.shape"
   ]
  },
  {
   "cell_type": "code",
   "execution_count": 20,
   "metadata": {},
   "outputs": [],
   "source": [
    "#save out raw city csv \n",
    "paradise.to_csv('./data/paradise.csv', index=False)"
   ]
  },
  {
   "cell_type": "code",
   "execution_count": 25,
   "metadata": {},
   "outputs": [],
   "source": [
    "## raw dataframes shape summary\n",
    "\n",
    "## during fire: \n",
    "# paradise (817, 11)\n",
    "# butte (902, 11)\n",
    "# chico (811, 11)\n",
    "# oroville (202, 11)\n",
    "# magalia (764, 11)\n",
    "# durham (862, 11)\n",
    "\n",
    "## pre-fire:\n",
    "# paradise_pre (145, 11)\n",
    "# butte_pre (166, 11)\n",
    "# chico_pre (141, 11)\n",
    "# oroville_pre (53, 11)\n",
    "# magalia_pre (144, 11)\n",
    "# durham_pre (160, 11)\n"
   ]
  },
  {
   "cell_type": "markdown",
   "metadata": {},
   "source": [
    "### Create single dataframe for tweets during fire"
   ]
  },
  {
   "cell_type": "code",
   "execution_count": 20,
   "metadata": {},
   "outputs": [],
   "source": [
    "# read in raw city files\n",
    "paradise = pd.read_csv('./data/paradise.csv')\n",
    "butte = pd.read_csv('./data/butte.csv')\n",
    "chico = pd.read_csv('./data/chico.csv')\n",
    "magalia = pd.read_csv('./data/magalia.csv')\n",
    "oroville = pd.read_csv('./data/oroville.csv')"
   ]
  },
  {
   "cell_type": "code",
   "execution_count": 21,
   "metadata": {},
   "outputs": [
    {
     "data": {
      "text/plain": [
       "(4358, 11)"
      ]
     },
     "execution_count": 21,
     "metadata": {},
     "output_type": "execute_result"
    }
   ],
   "source": [
    "# concatenate raw city files into single df\n",
    "cities = pd.concat([paradise, butte, chico, durham, magalia, oroville])\n",
    "cities.shape"
   ]
  },
  {
   "cell_type": "code",
   "execution_count": 22,
   "metadata": {},
   "outputs": [],
   "source": [
    "# save out raw, concatenated cities file\n",
    "cities.to_csv('./data/cities_raw.csv', index=False)"
   ]
  },
  {
   "cell_type": "code",
   "execution_count": 26,
   "metadata": {},
   "outputs": [
    {
     "data": {
      "text/html": [
       "<div>\n",
       "<style scoped>\n",
       "    .dataframe tbody tr th:only-of-type {\n",
       "        vertical-align: middle;\n",
       "    }\n",
       "\n",
       "    .dataframe tbody tr th {\n",
       "        vertical-align: top;\n",
       "    }\n",
       "\n",
       "    .dataframe thead th {\n",
       "        text-align: right;\n",
       "    }\n",
       "</style>\n",
       "<table border=\"1\" class=\"dataframe\">\n",
       "  <thead>\n",
       "    <tr style=\"text-align: right;\">\n",
       "      <th></th>\n",
       "      <th>tweet_count</th>\n",
       "      <th>City</th>\n",
       "      <th>id</th>\n",
       "      <th>tweet_text</th>\n",
       "      <th>timestamp</th>\n",
       "      <th>hashtags</th>\n",
       "      <th>username</th>\n",
       "      <th>mentions</th>\n",
       "      <th>rewtweets</th>\n",
       "      <th>replies</th>\n",
       "      <th>link</th>\n",
       "    </tr>\n",
       "  </thead>\n",
       "  <tbody>\n",
       "    <tr>\n",
       "      <th>0</th>\n",
       "      <td>0</td>\n",
       "      <td>Butte County</td>\n",
       "      <td>1066843491555205120</td>\n",
       "      <td>Lord Farquad Quad Squat Squad @Chico, Californ...</td>\n",
       "      <td>2018-11-25 23:58:04+00:00</td>\n",
       "      <td>NaN</td>\n",
       "      <td>areoandmilk</td>\n",
       "      <td>NaN</td>\n",
       "      <td>0</td>\n",
       "      <td>0</td>\n",
       "      <td>https://twitter.com/areoandmilk/status/1066843...</td>\n",
       "    </tr>\n",
       "    <tr>\n",
       "      <th>1</th>\n",
       "      <td>1</td>\n",
       "      <td>Butte County</td>\n",
       "      <td>1066842521601400832</td>\n",
       "      <td>winter edition #queenadailypic released. @Soda...</td>\n",
       "      <td>2018-11-25 23:54:12+00:00</td>\n",
       "      <td>#queenadailypic</td>\n",
       "      <td>leenathequeena</td>\n",
       "      <td>NaN</td>\n",
       "      <td>0</td>\n",
       "      <td>0</td>\n",
       "      <td>https://twitter.com/leenathequeena/status/1066...</td>\n",
       "    </tr>\n",
       "    <tr>\n",
       "      <th>2</th>\n",
       "      <td>2</td>\n",
       "      <td>Butte County</td>\n",
       "      <td>1066841740060098562</td>\n",
       "      <td>Drinking a Def Leppard Pale by @ElysianBrewing...</td>\n",
       "      <td>2018-11-25 23:51:06+00:00</td>\n",
       "      <td>NaN</td>\n",
       "      <td>geradellsworth</td>\n",
       "      <td>@ElysianBrewing @Golden1Center</td>\n",
       "      <td>0</td>\n",
       "      <td>0</td>\n",
       "      <td>https://twitter.com/geradellsworth/status/1066...</td>\n",
       "    </tr>\n",
       "    <tr>\n",
       "      <th>3</th>\n",
       "      <td>3</td>\n",
       "      <td>Butte County</td>\n",
       "      <td>1066841178782482433</td>\n",
       "      <td>The forgotten. #LimeBike #Reno @Reno, Nevada h...</td>\n",
       "      <td>2018-11-25 23:48:52+00:00</td>\n",
       "      <td>#LimeBike #Reno</td>\n",
       "      <td>alittlegordie</td>\n",
       "      <td>NaN</td>\n",
       "      <td>0</td>\n",
       "      <td>0</td>\n",
       "      <td>https://twitter.com/alittlegordie/status/10668...</td>\n",
       "    </tr>\n",
       "    <tr>\n",
       "      <th>5</th>\n",
       "      <td>5</td>\n",
       "      <td>Butte County</td>\n",
       "      <td>1066839617196961792</td>\n",
       "      <td>SSCC is United and moving Forward !!! The powe...</td>\n",
       "      <td>2018-11-25 23:42:40+00:00</td>\n",
       "      <td>#heritageoffaith</td>\n",
       "      <td>LesSimmons</td>\n",
       "      <td>@sscc7710</td>\n",
       "      <td>1</td>\n",
       "      <td>0</td>\n",
       "      <td>https://twitter.com/LesSimmons/status/10668396...</td>\n",
       "    </tr>\n",
       "    <tr>\n",
       "      <th>...</th>\n",
       "      <td>...</td>\n",
       "      <td>...</td>\n",
       "      <td>...</td>\n",
       "      <td>...</td>\n",
       "      <td>...</td>\n",
       "      <td>...</td>\n",
       "      <td>...</td>\n",
       "      <td>...</td>\n",
       "      <td>...</td>\n",
       "      <td>...</td>\n",
       "      <td>...</td>\n",
       "    </tr>\n",
       "    <tr>\n",
       "      <th>196</th>\n",
       "      <td>196</td>\n",
       "      <td>Oroville, CA</td>\n",
       "      <td>1060237957473464320</td>\n",
       "      <td>4th stop on #FarmCityWeek at Look Ahead Veteri...</td>\n",
       "      <td>2018-11-07 18:30:01+00:00</td>\n",
       "      <td>#FarmCityWeek #sacvalley</td>\n",
       "      <td>WCWDwebcam</td>\n",
       "      <td>NaN</td>\n",
       "      <td>0</td>\n",
       "      <td>0</td>\n",
       "      <td>https://twitter.com/WCWDwebcam/status/10602379...</td>\n",
       "    </tr>\n",
       "    <tr>\n",
       "      <th>197</th>\n",
       "      <td>197</td>\n",
       "      <td>Oroville, CA</td>\n",
       "      <td>1060216596306620416</td>\n",
       "      <td>Morse Mandarin Farm visit on #FarmCityWeek tou...</td>\n",
       "      <td>2018-11-07 17:05:09+00:00</td>\n",
       "      <td>#FarmCityWeek #SacValley</td>\n",
       "      <td>WCWDwebcam</td>\n",
       "      <td>NaN</td>\n",
       "      <td>0</td>\n",
       "      <td>0</td>\n",
       "      <td>https://twitter.com/WCWDwebcam/status/10602165...</td>\n",
       "    </tr>\n",
       "    <tr>\n",
       "      <th>198</th>\n",
       "      <td>198</td>\n",
       "      <td>Oroville, CA</td>\n",
       "      <td>1060191924236226561</td>\n",
       "      <td>Feather: Running http://whatsrunning.billdurr....</td>\n",
       "      <td>2018-11-07 15:27:06+00:00</td>\n",
       "      <td>NaN</td>\n",
       "      <td>whats_running</td>\n",
       "      <td>NaN</td>\n",
       "      <td>0</td>\n",
       "      <td>0</td>\n",
       "      <td>https://twitter.com/whats_running/status/10601...</td>\n",
       "    </tr>\n",
       "    <tr>\n",
       "      <th>199</th>\n",
       "      <td>199</td>\n",
       "      <td>Oroville, CA</td>\n",
       "      <td>1060056825175961600</td>\n",
       "      <td>The sunset the other night on my drive home fr...</td>\n",
       "      <td>2018-11-07 06:30:16+00:00</td>\n",
       "      <td>NaN</td>\n",
       "      <td>SeanSullivan_23</td>\n",
       "      <td>NaN</td>\n",
       "      <td>0</td>\n",
       "      <td>0</td>\n",
       "      <td>https://twitter.com/SeanSullivan_23/status/106...</td>\n",
       "    </tr>\n",
       "    <tr>\n",
       "      <th>200</th>\n",
       "      <td>200</td>\n",
       "      <td>Oroville, CA</td>\n",
       "      <td>1060010687685160960</td>\n",
       "      <td>Feather: Running</td>\n",
       "      <td>2018-11-07 03:26:56+00:00</td>\n",
       "      <td>NaN</td>\n",
       "      <td>whats_running</td>\n",
       "      <td>NaN</td>\n",
       "      <td>0</td>\n",
       "      <td>0</td>\n",
       "      <td>https://twitter.com/whats_running/status/10600...</td>\n",
       "    </tr>\n",
       "  </tbody>\n",
       "</table>\n",
       "<p>2549 rows × 11 columns</p>\n",
       "</div>"
      ],
      "text/plain": [
       "     tweet_count          City                   id  \\\n",
       "0              0  Butte County  1066843491555205120   \n",
       "1              1  Butte County  1066842521601400832   \n",
       "2              2  Butte County  1066841740060098562   \n",
       "3              3  Butte County  1066841178782482433   \n",
       "5              5  Butte County  1066839617196961792   \n",
       "..           ...           ...                  ...   \n",
       "196          196  Oroville, CA  1060237957473464320   \n",
       "197          197  Oroville, CA  1060216596306620416   \n",
       "198          198  Oroville, CA  1060191924236226561   \n",
       "199          199  Oroville, CA  1060056825175961600   \n",
       "200          200  Oroville, CA  1060010687685160960   \n",
       "\n",
       "                                            tweet_text  \\\n",
       "0    Lord Farquad Quad Squat Squad @Chico, Californ...   \n",
       "1    winter edition #queenadailypic released. @Soda...   \n",
       "2    Drinking a Def Leppard Pale by @ElysianBrewing...   \n",
       "3    The forgotten. #LimeBike #Reno @Reno, Nevada h...   \n",
       "5    SSCC is United and moving Forward !!! The powe...   \n",
       "..                                                 ...   \n",
       "196  4th stop on #FarmCityWeek at Look Ahead Veteri...   \n",
       "197  Morse Mandarin Farm visit on #FarmCityWeek tou...   \n",
       "198  Feather: Running http://whatsrunning.billdurr....   \n",
       "199  The sunset the other night on my drive home fr...   \n",
       "200                                   Feather: Running   \n",
       "\n",
       "                     timestamp                  hashtags         username  \\\n",
       "0    2018-11-25 23:58:04+00:00                       NaN      areoandmilk   \n",
       "1    2018-11-25 23:54:12+00:00           #queenadailypic   leenathequeena   \n",
       "2    2018-11-25 23:51:06+00:00                       NaN   geradellsworth   \n",
       "3    2018-11-25 23:48:52+00:00           #LimeBike #Reno    alittlegordie   \n",
       "5    2018-11-25 23:42:40+00:00          #heritageoffaith       LesSimmons   \n",
       "..                         ...                       ...              ...   \n",
       "196  2018-11-07 18:30:01+00:00  #FarmCityWeek #sacvalley       WCWDwebcam   \n",
       "197  2018-11-07 17:05:09+00:00  #FarmCityWeek #SacValley       WCWDwebcam   \n",
       "198  2018-11-07 15:27:06+00:00                       NaN    whats_running   \n",
       "199  2018-11-07 06:30:16+00:00                       NaN  SeanSullivan_23   \n",
       "200  2018-11-07 03:26:56+00:00                       NaN    whats_running   \n",
       "\n",
       "                           mentions  rewtweets  replies  \\\n",
       "0                               NaN          0        0   \n",
       "1                               NaN          0        0   \n",
       "2    @ElysianBrewing @Golden1Center          0        0   \n",
       "3                               NaN          0        0   \n",
       "5                         @sscc7710          1        0   \n",
       "..                              ...        ...      ...   \n",
       "196                             NaN          0        0   \n",
       "197                             NaN          0        0   \n",
       "198                             NaN          0        0   \n",
       "199                             NaN          0        0   \n",
       "200                             NaN          0        0   \n",
       "\n",
       "                                                  link  \n",
       "0    https://twitter.com/areoandmilk/status/1066843...  \n",
       "1    https://twitter.com/leenathequeena/status/1066...  \n",
       "2    https://twitter.com/geradellsworth/status/1066...  \n",
       "3    https://twitter.com/alittlegordie/status/10668...  \n",
       "5    https://twitter.com/LesSimmons/status/10668396...  \n",
       "..                                                 ...  \n",
       "196  https://twitter.com/WCWDwebcam/status/10602379...  \n",
       "197  https://twitter.com/WCWDwebcam/status/10602165...  \n",
       "198  https://twitter.com/whats_running/status/10601...  \n",
       "199  https://twitter.com/SeanSullivan_23/status/106...  \n",
       "200  https://twitter.com/whats_running/status/10600...  \n",
       "\n",
       "[2549 rows x 11 columns]"
      ]
     },
     "execution_count": 26,
     "metadata": {},
     "output_type": "execute_result"
    }
   ],
   "source": [
    "# check duplicates\n",
    "dups = cities[(cities['id'].duplicated() == True)]\n",
    "dups"
   ]
  },
  {
   "cell_type": "code",
   "execution_count": 29,
   "metadata": {},
   "outputs": [
    {
     "data": {
      "text/plain": [
       "(1809, 11)"
      ]
     },
     "execution_count": 29,
     "metadata": {},
     "output_type": "execute_result"
    }
   ],
   "source": [
    "# drop duplicates\n",
    "cities.drop_duplicates(subset =\"id\", \n",
    "                     keep = 'first', inplace = True) \n",
    "cities.drop_duplicates(subset =\"id\", \n",
    "                     keep = 'first', inplace = True) \n",
    "cities.shape"
   ]
  },
  {
   "cell_type": "code",
   "execution_count": 30,
   "metadata": {},
   "outputs": [
    {
     "data": {
      "text/html": [
       "<div>\n",
       "<style scoped>\n",
       "    .dataframe tbody tr th:only-of-type {\n",
       "        vertical-align: middle;\n",
       "    }\n",
       "\n",
       "    .dataframe tbody tr th {\n",
       "        vertical-align: top;\n",
       "    }\n",
       "\n",
       "    .dataframe thead th {\n",
       "        text-align: right;\n",
       "    }\n",
       "</style>\n",
       "<table border=\"1\" class=\"dataframe\">\n",
       "  <thead>\n",
       "    <tr style=\"text-align: right;\">\n",
       "      <th></th>\n",
       "      <th>tweet_count</th>\n",
       "      <th>City</th>\n",
       "      <th>id</th>\n",
       "      <th>tweet_text</th>\n",
       "      <th>timestamp</th>\n",
       "      <th>hashtags</th>\n",
       "      <th>username</th>\n",
       "      <th>mentions</th>\n",
       "      <th>rewtweets</th>\n",
       "      <th>replies</th>\n",
       "      <th>link</th>\n",
       "    </tr>\n",
       "  </thead>\n",
       "  <tbody>\n",
       "    <tr>\n",
       "      <th>0</th>\n",
       "      <td>0</td>\n",
       "      <td>Paradise, CA</td>\n",
       "      <td>1066843491555205120</td>\n",
       "      <td>Lord Farquad Quad Squat Squad @Chico, Californ...</td>\n",
       "      <td>2018-11-25 23:58:04+00:00</td>\n",
       "      <td>NaN</td>\n",
       "      <td>areoandmilk</td>\n",
       "      <td>NaN</td>\n",
       "      <td>0</td>\n",
       "      <td>0</td>\n",
       "      <td>https://twitter.com/areoandmilk/status/1066843...</td>\n",
       "    </tr>\n",
       "    <tr>\n",
       "      <th>1</th>\n",
       "      <td>1</td>\n",
       "      <td>Paradise, CA</td>\n",
       "      <td>1066842521601400832</td>\n",
       "      <td>winter edition #queenadailypic released. @Soda...</td>\n",
       "      <td>2018-11-25 23:54:12+00:00</td>\n",
       "      <td>#queenadailypic</td>\n",
       "      <td>leenathequeena</td>\n",
       "      <td>NaN</td>\n",
       "      <td>0</td>\n",
       "      <td>0</td>\n",
       "      <td>https://twitter.com/leenathequeena/status/1066...</td>\n",
       "    </tr>\n",
       "    <tr>\n",
       "      <th>2</th>\n",
       "      <td>2</td>\n",
       "      <td>Paradise, CA</td>\n",
       "      <td>1066841740060098562</td>\n",
       "      <td>Drinking a Def Leppard Pale by @ElysianBrewing...</td>\n",
       "      <td>2018-11-25 23:51:06+00:00</td>\n",
       "      <td>NaN</td>\n",
       "      <td>geradellsworth</td>\n",
       "      <td>@ElysianBrewing @Golden1Center</td>\n",
       "      <td>0</td>\n",
       "      <td>0</td>\n",
       "      <td>https://twitter.com/geradellsworth/status/1066...</td>\n",
       "    </tr>\n",
       "    <tr>\n",
       "      <th>3</th>\n",
       "      <td>3</td>\n",
       "      <td>Paradise, CA</td>\n",
       "      <td>1066841178782482433</td>\n",
       "      <td>The forgotten. #LimeBike #Reno @Reno, Nevada h...</td>\n",
       "      <td>2018-11-25 23:48:52+00:00</td>\n",
       "      <td>#LimeBike #Reno</td>\n",
       "      <td>alittlegordie</td>\n",
       "      <td>NaN</td>\n",
       "      <td>0</td>\n",
       "      <td>0</td>\n",
       "      <td>https://twitter.com/alittlegordie/status/10668...</td>\n",
       "    </tr>\n",
       "    <tr>\n",
       "      <th>4</th>\n",
       "      <td>4</td>\n",
       "      <td>Paradise, CA</td>\n",
       "      <td>1066839617196961792</td>\n",
       "      <td>SSCC is United and moving Forward !!! The powe...</td>\n",
       "      <td>2018-11-25 23:42:40+00:00</td>\n",
       "      <td>#heritageoffaith</td>\n",
       "      <td>LesSimmons</td>\n",
       "      <td>@sscc7710</td>\n",
       "      <td>1</td>\n",
       "      <td>0</td>\n",
       "      <td>https://twitter.com/LesSimmons/status/10668396...</td>\n",
       "    </tr>\n",
       "  </tbody>\n",
       "</table>\n",
       "</div>"
      ],
      "text/plain": [
       "   tweet_count          City                   id  \\\n",
       "0            0  Paradise, CA  1066843491555205120   \n",
       "1            1  Paradise, CA  1066842521601400832   \n",
       "2            2  Paradise, CA  1066841740060098562   \n",
       "3            3  Paradise, CA  1066841178782482433   \n",
       "4            4  Paradise, CA  1066839617196961792   \n",
       "\n",
       "                                          tweet_text  \\\n",
       "0  Lord Farquad Quad Squat Squad @Chico, Californ...   \n",
       "1  winter edition #queenadailypic released. @Soda...   \n",
       "2  Drinking a Def Leppard Pale by @ElysianBrewing...   \n",
       "3  The forgotten. #LimeBike #Reno @Reno, Nevada h...   \n",
       "4  SSCC is United and moving Forward !!! The powe...   \n",
       "\n",
       "                   timestamp          hashtags        username  \\\n",
       "0  2018-11-25 23:58:04+00:00               NaN     areoandmilk   \n",
       "1  2018-11-25 23:54:12+00:00   #queenadailypic  leenathequeena   \n",
       "2  2018-11-25 23:51:06+00:00               NaN  geradellsworth   \n",
       "3  2018-11-25 23:48:52+00:00   #LimeBike #Reno   alittlegordie   \n",
       "4  2018-11-25 23:42:40+00:00  #heritageoffaith      LesSimmons   \n",
       "\n",
       "                         mentions  rewtweets  replies  \\\n",
       "0                             NaN          0        0   \n",
       "1                             NaN          0        0   \n",
       "2  @ElysianBrewing @Golden1Center          0        0   \n",
       "3                             NaN          0        0   \n",
       "4                       @sscc7710          1        0   \n",
       "\n",
       "                                                link  \n",
       "0  https://twitter.com/areoandmilk/status/1066843...  \n",
       "1  https://twitter.com/leenathequeena/status/1066...  \n",
       "2  https://twitter.com/geradellsworth/status/1066...  \n",
       "3  https://twitter.com/alittlegordie/status/10668...  \n",
       "4  https://twitter.com/LesSimmons/status/10668396...  "
      ]
     },
     "execution_count": 30,
     "metadata": {},
     "output_type": "execute_result"
    }
   ],
   "source": [
    "cities.head()"
   ]
  },
  {
   "cell_type": "code",
   "execution_count": 31,
   "metadata": {},
   "outputs": [],
   "source": [
    "# save out cleaned cities file \n",
    "cities.to_csv('./data/cities_clean.csv', index=False)"
   ]
  },
  {
   "cell_type": "markdown",
   "metadata": {},
   "source": [
    "### Create single dataframe for tweets 1-week before fire\n",
    "*repeat same process as above*"
   ]
  },
  {
   "cell_type": "code",
   "execution_count": 22,
   "metadata": {},
   "outputs": [],
   "source": [
    "paradise_pre = pd.read_csv('./data/paradise_pre.csv')\n",
    "butte_pre = pd.read_csv('./data/butte_pre.csv')\n",
    "chico_pre = pd.read_csv('./data/chico_pre.csv')\n",
    "magalia_pre = pd.read_csv('./data/magalia_pre.csv')\n",
    "oroville_pre = pd.read_csv('./data/oroville_pre.csv')"
   ]
  },
  {
   "cell_type": "code",
   "execution_count": 23,
   "metadata": {},
   "outputs": [
    {
     "data": {
      "text/plain": [
       "(809, 11)"
      ]
     },
     "execution_count": 23,
     "metadata": {},
     "output_type": "execute_result"
    }
   ],
   "source": [
    "pre = pd.concat([paradise_pre, butte_pre, chico_pre, durham_pre, magalia_pre, oroville_pre])\n",
    "pre.shape"
   ]
  },
  {
   "cell_type": "code",
   "execution_count": 24,
   "metadata": {},
   "outputs": [
    {
     "data": {
      "text/plain": [
       "(342, 11)"
      ]
     },
     "execution_count": 24,
     "metadata": {},
     "output_type": "execute_result"
    }
   ],
   "source": [
    "pre.drop_duplicates(subset =\"id\", \n",
    "                     keep = 'first', inplace = True) \n",
    "pre.shape"
   ]
  },
  {
   "cell_type": "code",
   "execution_count": 25,
   "metadata": {},
   "outputs": [
    {
     "data": {
      "text/plain": [
       "(342, 11)"
      ]
     },
     "execution_count": 25,
     "metadata": {},
     "output_type": "execute_result"
    }
   ],
   "source": [
    "pre.drop_duplicates(subset =\"id\", \n",
    "                     keep = 'first', inplace = True) \n",
    "pre.shape"
   ]
  },
  {
   "cell_type": "code",
   "execution_count": 27,
   "metadata": {},
   "outputs": [],
   "source": [
    "pre.to_csv('./data/pre-fire.csv', index=False)"
   ]
  },
  {
   "cell_type": "code",
   "execution_count": 29,
   "metadata": {},
   "outputs": [],
   "source": [
    "check_dups = pd.read_csv('./data/pre-fire.csv', index_col=0)"
   ]
  },
  {
   "cell_type": "code",
   "execution_count": 30,
   "metadata": {},
   "outputs": [
    {
     "data": {
      "text/plain": [
       "(342, 10)"
      ]
     },
     "execution_count": 30,
     "metadata": {},
     "output_type": "execute_result"
    }
   ],
   "source": [
    "check_dups.shape"
   ]
  },
  {
   "cell_type": "code",
   "execution_count": 31,
   "metadata": {},
   "outputs": [
    {
     "data": {
      "text/plain": [
       "(183, 10)"
      ]
     },
     "execution_count": 31,
     "metadata": {},
     "output_type": "execute_result"
    }
   ],
   "source": [
    "check_dups.drop_duplicates(subset =\"id\", \n",
    "                     keep = 'first', inplace = True) \n",
    "check_dups.shape"
   ]
  },
  {
   "cell_type": "code",
   "execution_count": 32,
   "metadata": {},
   "outputs": [],
   "source": [
    "check_dups.to_csv('./data/pre-fire.csv', index=False)"
   ]
  },
  {
   "cell_type": "markdown",
   "metadata": {},
   "source": [
    "### Create single dataframe for with tweets before and during fire"
   ]
  },
  {
   "cell_type": "code",
   "execution_count": null,
   "metadata": {},
   "outputs": [],
   "source": [
    "cities = pd.read_csv('./data/cities_clean.csv')\n",
    "pre = pd.read_csv('./data/pre-fire.csv')"
   ]
  },
  {
   "cell_type": "code",
   "execution_count": null,
   "metadata": {},
   "outputs": [],
   "source": [
    "df = pd.concat([cities, pre])\n",
    "df.shape"
   ]
  },
  {
   "cell_type": "code",
   "execution_count": null,
   "metadata": {},
   "outputs": [],
   "source": [
    "df['timestamp'] = pd.to_datetime(df['timestamp'])"
   ]
  },
  {
   "cell_type": "code",
   "execution_count": null,
   "metadata": {},
   "outputs": [],
   "source": [
    "df['day'] = df.timestamp.dt.day\n",
    "df['hour'] = df.timestamp.dt.hour\n",
    "df['minute'] = df.timestamp.dt.minute"
   ]
  },
  {
   "cell_type": "code",
   "execution_count": null,
   "metadata": {},
   "outputs": [],
   "source": [
    "df.to_csv('./data/stacked_v1.csv')"
   ]
  },
  {
   "cell_type": "code",
   "execution_count": null,
   "metadata": {},
   "outputs": [],
   "source": []
  }
 ],
 "metadata": {
  "kernelspec": {
   "display_name": "Python 3",
   "language": "python",
   "name": "python3"
  },
  "language_info": {
   "codemirror_mode": {
    "name": "ipython",
    "version": 3
   },
   "file_extension": ".py",
   "mimetype": "text/x-python",
   "name": "python",
   "nbconvert_exporter": "python",
   "pygments_lexer": "ipython3",
   "version": "3.7.6"
  }
 },
 "nbformat": 4,
 "nbformat_minor": 4
}
