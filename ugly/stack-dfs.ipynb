{
 "cells": [
  {
   "cell_type": "code",
   "execution_count": 1,
   "metadata": {},
   "outputs": [],
   "source": [
    "import numpy as np\n",
    "import pandas as pd\n",
    "import matplotlib.pyplot as plt\n",
    "from sklearn.cluster import KMeans\n",
    "from sklearn.metrics import silhouette_score\n",
    "from sklearn.preprocessing import StandardScaler\n",
    "from sklearn.feature_extraction.text import TfidfVectorizer, CountVectorizer\n",
    "\n",
    "%matplotlib inline"
   ]
  },
  {
   "cell_type": "code",
   "execution_count": 2,
   "metadata": {},
   "outputs": [],
   "source": [
    "cities = pd.read_csv('./data/cities_clean.csv')\n",
    "pre = pd.read_csv('./data/pre-fire.csv')"
   ]
  },
  {
   "cell_type": "code",
   "execution_count": 3,
   "metadata": {},
   "outputs": [
    {
     "name": "stdout",
     "output_type": "stream",
     "text": [
      "(1809, 11)\n",
      "(183, 10)\n"
     ]
    }
   ],
   "source": [
    "print(cities.shape)\n",
    "print(pre.shape)"
   ]
  },
  {
   "cell_type": "code",
   "execution_count": 4,
   "metadata": {},
   "outputs": [
    {
     "data": {
      "text/plain": [
       "(947, 11)"
      ]
     },
     "execution_count": 4,
     "metadata": {},
     "output_type": "execute_result"
    }
   ],
   "source": [
    "cities.drop_duplicates(subset =\"id\", \n",
    "                     keep = 'first', inplace = True) \n",
    "cities.shape"
   ]
  },
  {
   "cell_type": "code",
   "execution_count": 6,
   "metadata": {},
   "outputs": [
    {
     "data": {
      "text/plain": [
       "(1130, 11)"
      ]
     },
     "execution_count": 6,
     "metadata": {},
     "output_type": "execute_result"
    }
   ],
   "source": [
    "df = pd.concat([cities, pre])\n",
    "df.shape"
   ]
  },
  {
   "cell_type": "code",
   "execution_count": 8,
   "metadata": {},
   "outputs": [
    {
     "data": {
      "text/plain": [
       "tweet_count    float64\n",
       "City            object\n",
       "id               int64\n",
       "tweet_text      object\n",
       "timestamp       object\n",
       "hashtags        object\n",
       "username        object\n",
       "mentions        object\n",
       "rewtweets        int64\n",
       "replies          int64\n",
       "link            object\n",
       "dtype: object"
      ]
     },
     "execution_count": 8,
     "metadata": {},
     "output_type": "execute_result"
    }
   ],
   "source": [
    "df.dtypes"
   ]
  },
  {
   "cell_type": "code",
   "execution_count": 11,
   "metadata": {},
   "outputs": [],
   "source": [
    "df['timestamp'] = pd.to_datetime(df['timestamp'])"
   ]
  },
  {
   "cell_type": "code",
   "execution_count": 12,
   "metadata": {},
   "outputs": [
    {
     "data": {
      "text/plain": [
       "tweet_count                float64\n",
       "City                        object\n",
       "id                           int64\n",
       "tweet_text                  object\n",
       "timestamp      datetime64[ns, UTC]\n",
       "hashtags                    object\n",
       "username                    object\n",
       "mentions                    object\n",
       "rewtweets                    int64\n",
       "replies                      int64\n",
       "link                        object\n",
       "dtype: object"
      ]
     },
     "execution_count": 12,
     "metadata": {},
     "output_type": "execute_result"
    }
   ],
   "source": [
    "df.dtypes"
   ]
  },
  {
   "cell_type": "code",
   "execution_count": 15,
   "metadata": {
    "collapsed": true
   },
   "outputs": [
    {
     "name": "stdout",
     "output_type": "stream",
     "text": [
      "Original Dataframe:\n",
      "   tweet_count          City                   id  \\\n",
      "0          0.0  Paradise, CA  1066843491555205120   \n",
      "1          1.0  Paradise, CA  1066842521601400832   \n",
      "2          2.0  Paradise, CA  1066841740060098562   \n",
      "3          3.0  Paradise, CA  1066841178782482433   \n",
      "4          4.0  Paradise, CA  1066839617196961792   \n",
      "\n",
      "                                          tweet_text  \\\n",
      "0  Lord Farquad Quad Squat Squad @Chico, Californ...   \n",
      "1  winter edition #queenadailypic released. @Soda...   \n",
      "2  Drinking a Def Leppard Pale by @ElysianBrewing...   \n",
      "3  The forgotten. #LimeBike #Reno @Reno, Nevada h...   \n",
      "4  SSCC is United and moving Forward !!! The powe...   \n",
      "\n",
      "                  timestamp          hashtags        username  \\\n",
      "0 2018-11-25 23:58:04+00:00               NaN     areoandmilk   \n",
      "1 2018-11-25 23:54:12+00:00   #queenadailypic  leenathequeena   \n",
      "2 2018-11-25 23:51:06+00:00               NaN  geradellsworth   \n",
      "3 2018-11-25 23:48:52+00:00   #LimeBike #Reno   alittlegordie   \n",
      "4 2018-11-25 23:42:40+00:00  #heritageoffaith      LesSimmons   \n",
      "\n",
      "                         mentions  rewtweets  replies  \\\n",
      "0                             NaN          0        0   \n",
      "1                             NaN          0        0   \n",
      "2  @ElysianBrewing @Golden1Center          0        0   \n",
      "3                             NaN          0        0   \n",
      "4                       @sscc7710          1        0   \n",
      "\n",
      "                                                link  \n",
      "0  https://twitter.com/areoandmilk/status/1066843...  \n",
      "1  https://twitter.com/leenathequeena/status/1066...  \n",
      "2  https://twitter.com/geradellsworth/status/1066...  \n",
      "3  https://twitter.com/alittlegordie/status/10668...  \n",
      "4  https://twitter.com/LesSimmons/status/10668396...  \n",
      "\n",
      "Year:\n",
      "0    2018\n",
      "1    2018\n",
      "2    2018\n",
      "3    2018\n",
      "4    2018\n",
      "Name: timestamp, dtype: int64\n",
      "\n",
      "Month:\n",
      "0    11\n",
      "1    11\n",
      "2    11\n",
      "3    11\n",
      "4    11\n",
      "Name: timestamp, dtype: int64\n",
      "\n",
      "Day:\n",
      "0    25\n",
      "1    25\n",
      "2    25\n",
      "3    25\n",
      "4    25\n",
      "Name: timestamp, dtype: int64\n",
      "\n",
      "Hour:\n",
      "0    23\n",
      "1    23\n",
      "2    23\n",
      "3    23\n",
      "4    23\n",
      "Name: timestamp, dtype: int64\n",
      "\n",
      "Minute:\n",
      "0    58\n",
      "1    54\n",
      "2    51\n",
      "3    48\n",
      "4    42\n",
      "Name: timestamp, dtype: int64\n",
      "\n",
      "Second:\n",
      "0     4\n",
      "1    12\n",
      "2     6\n",
      "3    52\n",
      "4    40\n",
      "Name: timestamp, dtype: int64\n"
     ]
    }
   ],
   "source": [
    "print(\"Original Dataframe:\")\n",
    "print(df.head())\n",
    "print(\"\\nYear:\")\n",
    "print(df.timestamp.dt.year.head())\n",
    "print(\"\\nMonth:\")\n",
    "print(df.timestamp.dt.month.head())\n",
    "print(\"\\nDay:\")\n",
    "print(df.timestamp.dt.day.head())\n",
    "print(\"\\nHour:\")\n",
    "print(df.timestamp.dt.hour.head())\n",
    "print(\"\\nMinute:\")\n",
    "print(df.timestamp.dt.minute.head())\n",
    "print(\"\\nSecond:\")\n",
    "print(df.timestamp.dt.second.head())"
   ]
  },
  {
   "cell_type": "code",
   "execution_count": 16,
   "metadata": {},
   "outputs": [],
   "source": [
    "df['day'] = df.timestamp.dt.day\n",
    "df['hour'] = df.timestamp.dt.hour\n",
    "df['minute'] = df.timestamp.dt.minute"
   ]
  },
  {
   "cell_type": "code",
   "execution_count": 17,
   "metadata": {},
   "outputs": [
    {
     "data": {
      "text/html": [
       "<div>\n",
       "<style scoped>\n",
       "    .dataframe tbody tr th:only-of-type {\n",
       "        vertical-align: middle;\n",
       "    }\n",
       "\n",
       "    .dataframe tbody tr th {\n",
       "        vertical-align: top;\n",
       "    }\n",
       "\n",
       "    .dataframe thead th {\n",
       "        text-align: right;\n",
       "    }\n",
       "</style>\n",
       "<table border=\"1\" class=\"dataframe\">\n",
       "  <thead>\n",
       "    <tr style=\"text-align: right;\">\n",
       "      <th></th>\n",
       "      <th>tweet_count</th>\n",
       "      <th>City</th>\n",
       "      <th>id</th>\n",
       "      <th>tweet_text</th>\n",
       "      <th>timestamp</th>\n",
       "      <th>hashtags</th>\n",
       "      <th>username</th>\n",
       "      <th>mentions</th>\n",
       "      <th>rewtweets</th>\n",
       "      <th>replies</th>\n",
       "      <th>link</th>\n",
       "      <th>day</th>\n",
       "      <th>hour</th>\n",
       "      <th>minute</th>\n",
       "    </tr>\n",
       "  </thead>\n",
       "  <tbody>\n",
       "    <tr>\n",
       "      <th>0</th>\n",
       "      <td>0.0</td>\n",
       "      <td>Paradise, CA</td>\n",
       "      <td>1066843491555205120</td>\n",
       "      <td>Lord Farquad Quad Squat Squad @Chico, Californ...</td>\n",
       "      <td>2018-11-25 23:58:04+00:00</td>\n",
       "      <td>NaN</td>\n",
       "      <td>areoandmilk</td>\n",
       "      <td>NaN</td>\n",
       "      <td>0</td>\n",
       "      <td>0</td>\n",
       "      <td>https://twitter.com/areoandmilk/status/1066843...</td>\n",
       "      <td>25</td>\n",
       "      <td>23</td>\n",
       "      <td>58</td>\n",
       "    </tr>\n",
       "    <tr>\n",
       "      <th>1</th>\n",
       "      <td>1.0</td>\n",
       "      <td>Paradise, CA</td>\n",
       "      <td>1066842521601400832</td>\n",
       "      <td>winter edition #queenadailypic released. @Soda...</td>\n",
       "      <td>2018-11-25 23:54:12+00:00</td>\n",
       "      <td>#queenadailypic</td>\n",
       "      <td>leenathequeena</td>\n",
       "      <td>NaN</td>\n",
       "      <td>0</td>\n",
       "      <td>0</td>\n",
       "      <td>https://twitter.com/leenathequeena/status/1066...</td>\n",
       "      <td>25</td>\n",
       "      <td>23</td>\n",
       "      <td>54</td>\n",
       "    </tr>\n",
       "    <tr>\n",
       "      <th>2</th>\n",
       "      <td>2.0</td>\n",
       "      <td>Paradise, CA</td>\n",
       "      <td>1066841740060098562</td>\n",
       "      <td>Drinking a Def Leppard Pale by @ElysianBrewing...</td>\n",
       "      <td>2018-11-25 23:51:06+00:00</td>\n",
       "      <td>NaN</td>\n",
       "      <td>geradellsworth</td>\n",
       "      <td>@ElysianBrewing @Golden1Center</td>\n",
       "      <td>0</td>\n",
       "      <td>0</td>\n",
       "      <td>https://twitter.com/geradellsworth/status/1066...</td>\n",
       "      <td>25</td>\n",
       "      <td>23</td>\n",
       "      <td>51</td>\n",
       "    </tr>\n",
       "    <tr>\n",
       "      <th>3</th>\n",
       "      <td>3.0</td>\n",
       "      <td>Paradise, CA</td>\n",
       "      <td>1066841178782482433</td>\n",
       "      <td>The forgotten. #LimeBike #Reno @Reno, Nevada h...</td>\n",
       "      <td>2018-11-25 23:48:52+00:00</td>\n",
       "      <td>#LimeBike #Reno</td>\n",
       "      <td>alittlegordie</td>\n",
       "      <td>NaN</td>\n",
       "      <td>0</td>\n",
       "      <td>0</td>\n",
       "      <td>https://twitter.com/alittlegordie/status/10668...</td>\n",
       "      <td>25</td>\n",
       "      <td>23</td>\n",
       "      <td>48</td>\n",
       "    </tr>\n",
       "    <tr>\n",
       "      <th>4</th>\n",
       "      <td>4.0</td>\n",
       "      <td>Paradise, CA</td>\n",
       "      <td>1066839617196961792</td>\n",
       "      <td>SSCC is United and moving Forward !!! The powe...</td>\n",
       "      <td>2018-11-25 23:42:40+00:00</td>\n",
       "      <td>#heritageoffaith</td>\n",
       "      <td>LesSimmons</td>\n",
       "      <td>@sscc7710</td>\n",
       "      <td>1</td>\n",
       "      <td>0</td>\n",
       "      <td>https://twitter.com/LesSimmons/status/10668396...</td>\n",
       "      <td>25</td>\n",
       "      <td>23</td>\n",
       "      <td>42</td>\n",
       "    </tr>\n",
       "  </tbody>\n",
       "</table>\n",
       "</div>"
      ],
      "text/plain": [
       "   tweet_count          City                   id  \\\n",
       "0          0.0  Paradise, CA  1066843491555205120   \n",
       "1          1.0  Paradise, CA  1066842521601400832   \n",
       "2          2.0  Paradise, CA  1066841740060098562   \n",
       "3          3.0  Paradise, CA  1066841178782482433   \n",
       "4          4.0  Paradise, CA  1066839617196961792   \n",
       "\n",
       "                                          tweet_text  \\\n",
       "0  Lord Farquad Quad Squat Squad @Chico, Californ...   \n",
       "1  winter edition #queenadailypic released. @Soda...   \n",
       "2  Drinking a Def Leppard Pale by @ElysianBrewing...   \n",
       "3  The forgotten. #LimeBike #Reno @Reno, Nevada h...   \n",
       "4  SSCC is United and moving Forward !!! The powe...   \n",
       "\n",
       "                  timestamp          hashtags        username  \\\n",
       "0 2018-11-25 23:58:04+00:00               NaN     areoandmilk   \n",
       "1 2018-11-25 23:54:12+00:00   #queenadailypic  leenathequeena   \n",
       "2 2018-11-25 23:51:06+00:00               NaN  geradellsworth   \n",
       "3 2018-11-25 23:48:52+00:00   #LimeBike #Reno   alittlegordie   \n",
       "4 2018-11-25 23:42:40+00:00  #heritageoffaith      LesSimmons   \n",
       "\n",
       "                         mentions  rewtweets  replies  \\\n",
       "0                             NaN          0        0   \n",
       "1                             NaN          0        0   \n",
       "2  @ElysianBrewing @Golden1Center          0        0   \n",
       "3                             NaN          0        0   \n",
       "4                       @sscc7710          1        0   \n",
       "\n",
       "                                                link  day  hour  minute  \n",
       "0  https://twitter.com/areoandmilk/status/1066843...   25    23      58  \n",
       "1  https://twitter.com/leenathequeena/status/1066...   25    23      54  \n",
       "2  https://twitter.com/geradellsworth/status/1066...   25    23      51  \n",
       "3  https://twitter.com/alittlegordie/status/10668...   25    23      48  \n",
       "4  https://twitter.com/LesSimmons/status/10668396...   25    23      42  "
      ]
     },
     "execution_count": 17,
     "metadata": {},
     "output_type": "execute_result"
    }
   ],
   "source": [
    "df.head()"
   ]
  },
  {
   "cell_type": "code",
   "execution_count": 21,
   "metadata": {},
   "outputs": [
    {
     "data": {
      "text/plain": [
       "tweet_count     183\n",
       "City              0\n",
       "id                0\n",
       "tweet_text        0\n",
       "timestamp         0\n",
       "hashtags        559\n",
       "username          0\n",
       "mentions       1003\n",
       "rewtweets         0\n",
       "replies           0\n",
       "link              0\n",
       "day               0\n",
       "hour              0\n",
       "minute            0\n",
       "dtype: int64"
      ]
     },
     "execution_count": 21,
     "metadata": {},
     "output_type": "execute_result"
    }
   ],
   "source": [
    "df.isna().sum()"
   ]
  },
  {
   "cell_type": "code",
   "execution_count": 22,
   "metadata": {},
   "outputs": [],
   "source": [
    "df.to_csv('./data/stacked_v1.csv')"
   ]
  },
  {
   "cell_type": "code",
   "execution_count": null,
   "metadata": {},
   "outputs": [],
   "source": []
  }
 ],
 "metadata": {
  "kernelspec": {
   "display_name": "Python 3",
   "language": "python",
   "name": "python3"
  },
  "language_info": {
   "codemirror_mode": {
    "name": "ipython",
    "version": 3
   },
   "file_extension": ".py",
   "mimetype": "text/x-python",
   "name": "python",
   "nbconvert_exporter": "python",
   "pygments_lexer": "ipython3",
   "version": "3.7.6"
  }
 },
 "nbformat": 4,
 "nbformat_minor": 4
}
