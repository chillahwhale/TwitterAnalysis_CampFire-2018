{
 "cells": [
  {
   "cell_type": "code",
   "execution_count": 11,
   "metadata": {
    "ExecuteTime": {
     "end_time": "2020-05-14T21:45:58.470561Z",
     "start_time": "2020-05-14T21:45:58.467535Z"
    }
   },
   "outputs": [],
   "source": [
    "import numpy as np\n",
    "import pandas as pd\n",
    "from twitter_nlp_toolkit.tweet_sentiment_classifier import tweet_sentiment_classifier\n",
    "from twitter_nlp_toolkit.file_fetcher import file_fetcher\n",
    "from zipfile import ZipFile\n",
    "import os"
   ]
  },
  {
   "cell_type": "markdown",
   "metadata": {
    "ExecuteTime": {
     "end_time": "2020-05-13T22:41:31.816513Z",
     "start_time": "2020-05-13T22:41:23.402374Z"
    }
   },
   "source": [
    "Using this library: https://github.com/eschibli/twitter-toolbox"
   ]
  },
  {
   "cell_type": "code",
   "execution_count": 12,
   "metadata": {
    "ExecuteTime": {
     "end_time": "2020-05-14T21:45:58.488862Z",
     "start_time": "2020-05-14T21:45:58.472801Z"
    }
   },
   "outputs": [
    {
     "data": {
      "text/plain": [
       "(1130, 20)"
      ]
     },
     "execution_count": 12,
     "metadata": {},
     "output_type": "execute_result"
    }
   ],
   "source": [
    "df = pd.read_csv('./datasets/stacked_clean_again.csv')\n",
    "df.shape"
   ]
  },
  {
   "cell_type": "code",
   "execution_count": 13,
   "metadata": {
    "ExecuteTime": {
     "end_time": "2020-05-14T21:45:58.507859Z",
     "start_time": "2020-05-14T21:45:58.491329Z"
    }
   },
   "outputs": [
    {
     "data": {
      "text/html": [
       "<div>\n",
       "<style scoped>\n",
       "    .dataframe tbody tr th:only-of-type {\n",
       "        vertical-align: middle;\n",
       "    }\n",
       "\n",
       "    .dataframe tbody tr th {\n",
       "        vertical-align: top;\n",
       "    }\n",
       "\n",
       "    .dataframe thead th {\n",
       "        text-align: right;\n",
       "    }\n",
       "</style>\n",
       "<table border=\"1\" class=\"dataframe\">\n",
       "  <thead>\n",
       "    <tr style=\"text-align: right;\">\n",
       "      <th></th>\n",
       "      <th>tweet_count</th>\n",
       "      <th>City</th>\n",
       "      <th>id</th>\n",
       "      <th>tweet_text</th>\n",
       "      <th>timestamp</th>\n",
       "      <th>hashtags</th>\n",
       "      <th>username</th>\n",
       "      <th>mentions</th>\n",
       "      <th>rewtweets</th>\n",
       "      <th>replies</th>\n",
       "      <th>link</th>\n",
       "      <th>day</th>\n",
       "      <th>hour</th>\n",
       "      <th>minute</th>\n",
       "      <th>during_fire</th>\n",
       "      <th>is-fire-related</th>\n",
       "      <th>text_nourl</th>\n",
       "      <th>key_score</th>\n",
       "      <th>from_locations</th>\n",
       "      <th>sent</th>\n",
       "    </tr>\n",
       "  </thead>\n",
       "  <tbody>\n",
       "    <tr>\n",
       "      <th>0</th>\n",
       "      <td>366.0</td>\n",
       "      <td>Paradise, CA</td>\n",
       "      <td>1.060000e+18</td>\n",
       "      <td>::paradise baby:: meet jd, the grandson of my ...</td>\n",
       "      <td>2018-11-16 16:31:06+00:00</td>\n",
       "      <td>#campfire</td>\n",
       "      <td>trekcass</td>\n",
       "      <td>@JulieRems</td>\n",
       "      <td>0</td>\n",
       "      <td>0</td>\n",
       "      <td>https://twitter.com/trekcass/status/1063469521...</td>\n",
       "      <td>16</td>\n",
       "      <td>16</td>\n",
       "      <td>31</td>\n",
       "      <td>1</td>\n",
       "      <td>1</td>\n",
       "      <td>::paradise baby:: meet JD, the grandson of my ...</td>\n",
       "      <td>2</td>\n",
       "      <td>Paradise, CA</td>\n",
       "      <td>1</td>\n",
       "    </tr>\n",
       "    <tr>\n",
       "      <th>1</th>\n",
       "      <td>700.0</td>\n",
       "      <td>Paradise, CA</td>\n",
       "      <td>1.060000e+18</td>\n",
       "      <td>¡coño! #campfire @chico, california https://ww...</td>\n",
       "      <td>2018-11-09 19:29:06+00:00</td>\n",
       "      <td>#CampFire</td>\n",
       "      <td>VXO</td>\n",
       "      <td>NaN</td>\n",
       "      <td>0</td>\n",
       "      <td>0</td>\n",
       "      <td>https://twitter.com/VXO/status/106097760184037...</td>\n",
       "      <td>9</td>\n",
       "      <td>19</td>\n",
       "      <td>29</td>\n",
       "      <td>1</td>\n",
       "      <td>1</td>\n",
       "      <td>¡Coño! #CampFire @Chico, California</td>\n",
       "      <td>1</td>\n",
       "      <td>Chico, CA</td>\n",
       "      <td>1</td>\n",
       "    </tr>\n",
       "    <tr>\n",
       "      <th>2</th>\n",
       "      <td>494.0</td>\n",
       "      <td>Paradise, CA</td>\n",
       "      <td>1.060000e+18</td>\n",
       "      <td>. . . . . #photography #instapics #photographe...</td>\n",
       "      <td>2018-11-13 15:51:31+00:00</td>\n",
       "      <td>#photography #instapics #photographersofig #pi...</td>\n",
       "      <td>sidewayseightp</td>\n",
       "      <td>NaN</td>\n",
       "      <td>0</td>\n",
       "      <td>0</td>\n",
       "      <td>https://twitter.com/sidewayseightp/status/1062...</td>\n",
       "      <td>13</td>\n",
       "      <td>15</td>\n",
       "      <td>51</td>\n",
       "      <td>1</td>\n",
       "      <td>0</td>\n",
       "      <td>. . . . . #photography #instapics #photographe...</td>\n",
       "      <td>0</td>\n",
       "      <td>Chico, CA</td>\n",
       "      <td>1</td>\n",
       "    </tr>\n",
       "    <tr>\n",
       "      <th>3</th>\n",
       "      <td>53.0</td>\n",
       "      <td>Paradise, CA</td>\n",
       "      <td>1.070000e+18</td>\n",
       "      <td>.@stucam7771 nailed it! the man in the white h...</td>\n",
       "      <td>2018-11-24 11:29:40+00:00</td>\n",
       "      <td>NaN</td>\n",
       "      <td>XLComedy</td>\n",
       "      <td>@stucam7771</td>\n",
       "      <td>1</td>\n",
       "      <td>0</td>\n",
       "      <td>https://twitter.com/XLComedy/status/1066292766...</td>\n",
       "      <td>24</td>\n",
       "      <td>11</td>\n",
       "      <td>29</td>\n",
       "      <td>1</td>\n",
       "      <td>1</td>\n",
       "      <td>.@Stucam7771 nailed it! The man in the White H...</td>\n",
       "      <td>1</td>\n",
       "      <td>Paradise, CA</td>\n",
       "      <td>1</td>\n",
       "    </tr>\n",
       "    <tr>\n",
       "      <th>4</th>\n",
       "      <td>201.0</td>\n",
       "      <td>Oroville, CA</td>\n",
       "      <td>1.060000e+18</td>\n",
       "      <td>‘merurica... #voted #uklastudios #uklapictures...</td>\n",
       "      <td>2018-11-07 02:02:51+00:00</td>\n",
       "      <td>#voted #uklastudios #uklapictures</td>\n",
       "      <td>UKLA_Music</td>\n",
       "      <td>NaN</td>\n",
       "      <td>0</td>\n",
       "      <td>0</td>\n",
       "      <td>https://twitter.com/UKLA_Music/status/10599895...</td>\n",
       "      <td>7</td>\n",
       "      <td>2</td>\n",
       "      <td>2</td>\n",
       "      <td>0</td>\n",
       "      <td>0</td>\n",
       "      <td>‘Merurica... #voted #uklastudios #uklapictures...</td>\n",
       "      <td>0</td>\n",
       "      <td>Gridley, CA</td>\n",
       "      <td>1</td>\n",
       "    </tr>\n",
       "  </tbody>\n",
       "</table>\n",
       "</div>"
      ],
      "text/plain": [
       "   tweet_count          City            id  \\\n",
       "0        366.0  Paradise, CA  1.060000e+18   \n",
       "1        700.0  Paradise, CA  1.060000e+18   \n",
       "2        494.0  Paradise, CA  1.060000e+18   \n",
       "3         53.0  Paradise, CA  1.070000e+18   \n",
       "4        201.0  Oroville, CA  1.060000e+18   \n",
       "\n",
       "                                          tweet_text  \\\n",
       "0  ::paradise baby:: meet jd, the grandson of my ...   \n",
       "1  ¡coño! #campfire @chico, california https://ww...   \n",
       "2  . . . . . #photography #instapics #photographe...   \n",
       "3  .@stucam7771 nailed it! the man in the white h...   \n",
       "4  ‘merurica... #voted #uklastudios #uklapictures...   \n",
       "\n",
       "                   timestamp  \\\n",
       "0  2018-11-16 16:31:06+00:00   \n",
       "1  2018-11-09 19:29:06+00:00   \n",
       "2  2018-11-13 15:51:31+00:00   \n",
       "3  2018-11-24 11:29:40+00:00   \n",
       "4  2018-11-07 02:02:51+00:00   \n",
       "\n",
       "                                            hashtags        username  \\\n",
       "0                                          #campfire        trekcass   \n",
       "1                                          #CampFire             VXO   \n",
       "2  #photography #instapics #photographersofig #pi...  sidewayseightp   \n",
       "3                                                NaN        XLComedy   \n",
       "4                  #voted #uklastudios #uklapictures      UKLA_Music   \n",
       "\n",
       "      mentions  rewtweets  replies  \\\n",
       "0   @JulieRems          0        0   \n",
       "1          NaN          0        0   \n",
       "2          NaN          0        0   \n",
       "3  @stucam7771          1        0   \n",
       "4          NaN          0        0   \n",
       "\n",
       "                                                link  day  hour  minute  \\\n",
       "0  https://twitter.com/trekcass/status/1063469521...   16    16      31   \n",
       "1  https://twitter.com/VXO/status/106097760184037...    9    19      29   \n",
       "2  https://twitter.com/sidewayseightp/status/1062...   13    15      51   \n",
       "3  https://twitter.com/XLComedy/status/1066292766...   24    11      29   \n",
       "4  https://twitter.com/UKLA_Music/status/10599895...    7     2       2   \n",
       "\n",
       "   during_fire  is-fire-related  \\\n",
       "0            1                1   \n",
       "1            1                1   \n",
       "2            1                0   \n",
       "3            1                1   \n",
       "4            0                0   \n",
       "\n",
       "                                          text_nourl  key_score  \\\n",
       "0  ::paradise baby:: meet JD, the grandson of my ...          2   \n",
       "1               ¡Coño! #CampFire @Chico, California           1   \n",
       "2  . . . . . #photography #instapics #photographe...          0   \n",
       "3  .@Stucam7771 nailed it! The man in the White H...          1   \n",
       "4  ‘Merurica... #voted #uklastudios #uklapictures...          0   \n",
       "\n",
       "  from_locations  sent  \n",
       "0   Paradise, CA     1  \n",
       "1      Chico, CA     1  \n",
       "2      Chico, CA     1  \n",
       "3   Paradise, CA     1  \n",
       "4    Gridley, CA     1  "
      ]
     },
     "execution_count": 13,
     "metadata": {},
     "output_type": "execute_result"
    }
   ],
   "source": [
    "df.head()"
   ]
  },
  {
   "cell_type": "code",
   "execution_count": 14,
   "metadata": {
    "ExecuteTime": {
     "end_time": "2020-05-14T21:45:58.512399Z",
     "start_time": "2020-05-14T21:45:58.510066Z"
    }
   },
   "outputs": [],
   "source": [
    "chunk = 1 # Fraction of data to train on - you can reduce for debugging for speed\n",
    "model_path = '.models'"
   ]
  },
  {
   "cell_type": "code",
   "execution_count": 15,
   "metadata": {
    "ExecuteTime": {
     "end_time": "2020-05-14T21:46:56.336241Z",
     "start_time": "2020-05-14T21:45:58.514271Z"
    }
   },
   "outputs": [
    {
     "name": "stdout",
     "output_type": "stream",
     "text": [
      "Model model_full_bow_30k loading...\n",
      "Model model_full_bow_30k loaded\n",
      "Model model_bootstrap_glove_50N_200D_30k loading...\n",
      "Module not found - are you sure it is imported?\n",
      "Model bert_model_8B_1e-05L_20000.0T_Twitter_0finetuned_1 loading...\n",
      "Module not found - are you sure it is imported?\n",
      "Model model_full_glove_30N_200D_30k loading...\n",
      "Module not found - are you sure it is imported?\n",
      "Model model_full_glove_10N_100D loading...\n",
      "Module not found - are you sure it is imported?\n",
      "Downloading ensemble\n"
     ]
    },
    {
     "name": "stderr",
     "output_type": "stream",
     "text": [
      "small_ensemble.zip: 100%|##########| 469M/469M [00:46<00:00, 10.6MB/s] \n"
     ]
    },
    {
     "name": "stdout",
     "output_type": "stream",
     "text": [
      "Model model_full_bow_30k loading...\n",
      "Model model_full_bow_30k loaded\n",
      "Model model_bootstrap_glove_50N_200D_30k loading...\n",
      "Module not found - are you sure it is imported?\n",
      "Model bert_model_8B_1e-05L_20000.0T_Twitter_0finetuned_1 loading...\n",
      "Module not found - are you sure it is imported?\n",
      "Model model_full_glove_30N_200D_30k loading...\n",
      "Module not found - are you sure it is imported?\n",
      "Model model_full_glove_10N_100D loading...\n",
      "Module not found - are you sure it is imported?\n"
     ]
    }
   ],
   "source": [
    "classifier = tweet_sentiment_classifier.SentimentAnalyzer()\n",
    "classifier.load_small_ensemble()"
   ]
  },
  {
   "cell_type": "code",
   "execution_count": 16,
   "metadata": {
    "ExecuteTime": {
     "end_time": "2020-05-14T21:46:56.793385Z",
     "start_time": "2020-05-14T21:46:56.338142Z"
    }
   },
   "outputs": [
    {
     "data": {
      "text/plain": [
       "array([1., 0., 1., 0.])"
      ]
     },
     "execution_count": 16,
     "metadata": {},
     "output_type": "execute_result"
    }
   ],
   "source": [
    "classifier.predict(['I am happy', 'I am sad', 'I am cheerful', 'I am mad'])"
   ]
  },
  {
   "cell_type": "code",
   "execution_count": 17,
   "metadata": {
    "ExecuteTime": {
     "end_time": "2020-05-14T21:46:58.506561Z",
     "start_time": "2020-05-14T21:46:56.795137Z"
    }
   },
   "outputs": [],
   "source": [
    "df['sent'] = classifier.predict(df['text_nourl'])"
   ]
  },
  {
   "cell_type": "code",
   "execution_count": 18,
   "metadata": {
    "ExecuteTime": {
     "end_time": "2020-05-14T21:46:58.535943Z",
     "start_time": "2020-05-14T21:46:58.510124Z"
    }
   },
   "outputs": [],
   "source": [
    "df.to_csv('./datasets/stacked_sentiment_again.csv', index=False)"
   ]
  },
  {
   "cell_type": "code",
   "execution_count": null,
   "metadata": {
    "ExecuteTime": {
     "end_time": "2020-05-13T23:42:46.461731Z",
     "start_time": "2020-05-13T23:42:46.459250Z"
    }
   },
   "outputs": [],
   "source": [
    "# pd.set_option('display.max_colwidth', None)\n",
    "# pd.set_option('display.max_rows', None)"
   ]
  },
  {
   "cell_type": "code",
   "execution_count": null,
   "metadata": {
    "ExecuteTime": {
     "end_time": "2020-05-14T03:07:24.265542Z",
     "start_time": "2020-05-14T03:07:24.097010Z"
    }
   },
   "outputs": [],
   "source": [
    "df2['sent'].value_counts(normalize=True)"
   ]
  },
  {
   "cell_type": "code",
   "execution_count": null,
   "metadata": {
    "ExecuteTime": {
     "end_time": "2020-05-14T03:07:22.502775Z",
     "start_time": "2020-05-14T03:07:22.489191Z"
    }
   },
   "outputs": [],
   "source": [
    "df2 = df[df['key_score']>0]\n",
    "df2[['text_nourl', 'sent', 'key_score']]"
   ]
  },
  {
   "cell_type": "code",
   "execution_count": null,
   "metadata": {},
   "outputs": [],
   "source": []
  }
 ],
 "metadata": {
  "kernelspec": {
   "display_name": "Python 3",
   "language": "python",
   "name": "python3"
  },
  "language_info": {
   "codemirror_mode": {
    "name": "ipython",
    "version": 3
   },
   "file_extension": ".py",
   "mimetype": "text/x-python",
   "name": "python",
   "nbconvert_exporter": "python",
   "pygments_lexer": "ipython3",
   "version": "3.7.6"
  }
 },
 "nbformat": 4,
 "nbformat_minor": 4
}
