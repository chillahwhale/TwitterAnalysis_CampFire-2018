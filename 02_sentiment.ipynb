{
 "cells": [
  {
   "cell_type": "code",
   "execution_count": 1,
   "metadata": {
    "ExecuteTime": {
     "end_time": "2020-05-14T02:44:33.063854Z",
     "start_time": "2020-05-14T02:44:31.449492Z"
    }
   },
   "outputs": [],
   "source": [
    "import numpy as np\n",
    "import pandas as pd\n",
    "from twitter_nlp_toolkit.tweet_sentiment_classifier import tweet_sentiment_classifier\n",
    "from twitter_nlp_toolkit.file_fetcher import file_fetcher\n",
    "from zipfile import ZipFile\n",
    "import os"
   ]
  },
  {
   "cell_type": "markdown",
   "metadata": {
    "ExecuteTime": {
     "end_time": "2020-05-13T22:41:31.816513Z",
     "start_time": "2020-05-13T22:41:23.402374Z"
    }
   },
   "source": [
    "Using this library: https://github.com/eschibli/twitter-toolbox"
   ]
  },
  {
   "cell_type": "code",
   "execution_count": 8,
   "metadata": {
    "ExecuteTime": {
     "end_time": "2020-05-14T03:07:03.270765Z",
     "start_time": "2020-05-14T03:07:03.254462Z"
    }
   },
   "outputs": [
    {
     "data": {
      "text/plain": [
       "(1130, 18)"
      ]
     },
     "execution_count": 8,
     "metadata": {},
     "output_type": "execute_result"
    }
   ],
   "source": [
    "df = pd.read_csv('./datasets/stacked_clean.csv')\n",
    "df.shape"
   ]
  },
  {
   "cell_type": "code",
   "execution_count": 9,
   "metadata": {
    "ExecuteTime": {
     "end_time": "2020-05-14T03:07:04.645286Z",
     "start_time": "2020-05-14T03:07:04.628858Z"
    }
   },
   "outputs": [
    {
     "data": {
      "text/html": [
       "<div>\n",
       "<style scoped>\n",
       "    .dataframe tbody tr th:only-of-type {\n",
       "        vertical-align: middle;\n",
       "    }\n",
       "\n",
       "    .dataframe tbody tr th {\n",
       "        vertical-align: top;\n",
       "    }\n",
       "\n",
       "    .dataframe thead th {\n",
       "        text-align: right;\n",
       "    }\n",
       "</style>\n",
       "<table border=\"1\" class=\"dataframe\">\n",
       "  <thead>\n",
       "    <tr style=\"text-align: right;\">\n",
       "      <th></th>\n",
       "      <th>tweet_count</th>\n",
       "      <th>City</th>\n",
       "      <th>id</th>\n",
       "      <th>tweet_text</th>\n",
       "      <th>timestamp</th>\n",
       "      <th>hashtags</th>\n",
       "      <th>username</th>\n",
       "      <th>mentions</th>\n",
       "      <th>rewtweets</th>\n",
       "      <th>replies</th>\n",
       "      <th>link</th>\n",
       "      <th>day</th>\n",
       "      <th>hour</th>\n",
       "      <th>minute</th>\n",
       "      <th>during_fire</th>\n",
       "      <th>text_nourl</th>\n",
       "      <th>key_score</th>\n",
       "      <th>from_locations</th>\n",
       "    </tr>\n",
       "  </thead>\n",
       "  <tbody>\n",
       "    <tr>\n",
       "      <th>0</th>\n",
       "      <td>NaN</td>\n",
       "      <td>Paradise, CA</td>\n",
       "      <td>1.057787e+18</td>\n",
       "      <td>Chico CA Wed Oct 31st PM Forecast: TONIGHT Mos...</td>\n",
       "      <td>2018-11-01 00:10:34+00:00</td>\n",
       "      <td>NaN</td>\n",
       "      <td>_ChicoCA</td>\n",
       "      <td>NaN</td>\n",
       "      <td>0</td>\n",
       "      <td>0</td>\n",
       "      <td>https://twitter.com/_ChicoCA/status/1057786941...</td>\n",
       "      <td>1</td>\n",
       "      <td>0</td>\n",
       "      <td>10</td>\n",
       "      <td>0</td>\n",
       "      <td>Chico CA Wed Oct 31st PM Forecast: TONIGHT Mos...</td>\n",
       "      <td>0</td>\n",
       "      <td>Chico, CA</td>\n",
       "    </tr>\n",
       "    <tr>\n",
       "      <th>1</th>\n",
       "      <td>NaN</td>\n",
       "      <td>Paradise, CA</td>\n",
       "      <td>1.057787e+18</td>\n",
       "      <td>Happy Halloween from Harry Potter and Danaerys...</td>\n",
       "      <td>2018-11-01 00:12:17+00:00</td>\n",
       "      <td>NaN</td>\n",
       "      <td>itoddsmama</td>\n",
       "      <td>NaN</td>\n",
       "      <td>0</td>\n",
       "      <td>0</td>\n",
       "      <td>https://twitter.com/itoddsmama/status/10577873...</td>\n",
       "      <td>1</td>\n",
       "      <td>0</td>\n",
       "      <td>12</td>\n",
       "      <td>0</td>\n",
       "      <td>Happy Halloween from Harry Potter and Danaerys...</td>\n",
       "      <td>0</td>\n",
       "      <td>Chico, CA</td>\n",
       "    </tr>\n",
       "    <tr>\n",
       "      <th>2</th>\n",
       "      <td>NaN</td>\n",
       "      <td>Paradise, CA</td>\n",
       "      <td>1.057788e+18</td>\n",
       "      <td>happy halloween • @Chico, California https://w...</td>\n",
       "      <td>2018-11-01 00:12:58+00:00</td>\n",
       "      <td>NaN</td>\n",
       "      <td>hannahmariexx_</td>\n",
       "      <td>NaN</td>\n",
       "      <td>0</td>\n",
       "      <td>0</td>\n",
       "      <td>https://twitter.com/hannahmariexx_/status/1057...</td>\n",
       "      <td>1</td>\n",
       "      <td>0</td>\n",
       "      <td>12</td>\n",
       "      <td>0</td>\n",
       "      <td>happy halloween • @Chico, California</td>\n",
       "      <td>0</td>\n",
       "      <td>Chico, CA</td>\n",
       "    </tr>\n",
       "    <tr>\n",
       "      <th>3</th>\n",
       "      <td>NaN</td>\n",
       "      <td>Oroville, CA</td>\n",
       "      <td>1.057789e+18</td>\n",
       "      <td>Just posted a video @Ukla Studios https://www....</td>\n",
       "      <td>2018-11-01 00:18:43+00:00</td>\n",
       "      <td>NaN</td>\n",
       "      <td>UKLA_Music</td>\n",
       "      <td>NaN</td>\n",
       "      <td>0</td>\n",
       "      <td>0</td>\n",
       "      <td>https://twitter.com/UKLA_Music/status/10577889...</td>\n",
       "      <td>1</td>\n",
       "      <td>0</td>\n",
       "      <td>18</td>\n",
       "      <td>0</td>\n",
       "      <td>Just posted a video @Ukla Studios</td>\n",
       "      <td>0</td>\n",
       "      <td>Gridley, CA</td>\n",
       "    </tr>\n",
       "    <tr>\n",
       "      <th>4</th>\n",
       "      <td>NaN</td>\n",
       "      <td>Oroville, CA</td>\n",
       "      <td>1.057789e+18</td>\n",
       "      <td>Just posted a video @Ukla Studios https://www....</td>\n",
       "      <td>2018-11-01 00:19:37+00:00</td>\n",
       "      <td>NaN</td>\n",
       "      <td>UKLA_Music</td>\n",
       "      <td>NaN</td>\n",
       "      <td>0</td>\n",
       "      <td>0</td>\n",
       "      <td>https://twitter.com/UKLA_Music/status/10577892...</td>\n",
       "      <td>1</td>\n",
       "      <td>0</td>\n",
       "      <td>19</td>\n",
       "      <td>0</td>\n",
       "      <td>Just posted a video @Ukla Studios</td>\n",
       "      <td>0</td>\n",
       "      <td>Gridley, CA</td>\n",
       "    </tr>\n",
       "  </tbody>\n",
       "</table>\n",
       "</div>"
      ],
      "text/plain": [
       "   tweet_count          City            id  \\\n",
       "0          NaN  Paradise, CA  1.057787e+18   \n",
       "1          NaN  Paradise, CA  1.057787e+18   \n",
       "2          NaN  Paradise, CA  1.057788e+18   \n",
       "3          NaN  Oroville, CA  1.057789e+18   \n",
       "4          NaN  Oroville, CA  1.057789e+18   \n",
       "\n",
       "                                          tweet_text  \\\n",
       "0  Chico CA Wed Oct 31st PM Forecast: TONIGHT Mos...   \n",
       "1  Happy Halloween from Harry Potter and Danaerys...   \n",
       "2  happy halloween • @Chico, California https://w...   \n",
       "3  Just posted a video @Ukla Studios https://www....   \n",
       "4  Just posted a video @Ukla Studios https://www....   \n",
       "\n",
       "                   timestamp hashtags        username mentions  rewtweets  \\\n",
       "0  2018-11-01 00:10:34+00:00      NaN        _ChicoCA      NaN          0   \n",
       "1  2018-11-01 00:12:17+00:00      NaN      itoddsmama      NaN          0   \n",
       "2  2018-11-01 00:12:58+00:00      NaN  hannahmariexx_      NaN          0   \n",
       "3  2018-11-01 00:18:43+00:00      NaN      UKLA_Music      NaN          0   \n",
       "4  2018-11-01 00:19:37+00:00      NaN      UKLA_Music      NaN          0   \n",
       "\n",
       "   replies                                               link  day  hour  \\\n",
       "0        0  https://twitter.com/_ChicoCA/status/1057786941...    1     0   \n",
       "1        0  https://twitter.com/itoddsmama/status/10577873...    1     0   \n",
       "2        0  https://twitter.com/hannahmariexx_/status/1057...    1     0   \n",
       "3        0  https://twitter.com/UKLA_Music/status/10577889...    1     0   \n",
       "4        0  https://twitter.com/UKLA_Music/status/10577892...    1     0   \n",
       "\n",
       "   minute  during_fire                                         text_nourl  \\\n",
       "0      10            0  Chico CA Wed Oct 31st PM Forecast: TONIGHT Mos...   \n",
       "1      12            0  Happy Halloween from Harry Potter and Danaerys...   \n",
       "2      12            0              happy halloween • @Chico, California    \n",
       "3      18            0                 Just posted a video @Ukla Studios    \n",
       "4      19            0                 Just posted a video @Ukla Studios    \n",
       "\n",
       "   key_score from_locations  \n",
       "0          0      Chico, CA  \n",
       "1          0      Chico, CA  \n",
       "2          0      Chico, CA  \n",
       "3          0    Gridley, CA  \n",
       "4          0    Gridley, CA  "
      ]
     },
     "execution_count": 9,
     "metadata": {},
     "output_type": "execute_result"
    }
   ],
   "source": [
    "df.head()"
   ]
  },
  {
   "cell_type": "code",
   "execution_count": 4,
   "metadata": {
    "ExecuteTime": {
     "end_time": "2020-05-14T02:44:38.924690Z",
     "start_time": "2020-05-14T02:44:38.922148Z"
    }
   },
   "outputs": [],
   "source": [
    "chunk = 1 # Fraction of data to train on - you can reduce for debugging for speed\n",
    "model_path = '.models'"
   ]
  },
  {
   "cell_type": "code",
   "execution_count": 5,
   "metadata": {
    "ExecuteTime": {
     "end_time": "2020-05-14T02:45:41.000938Z",
     "start_time": "2020-05-14T02:44:43.823479Z"
    }
   },
   "outputs": [
    {
     "name": "stdout",
     "output_type": "stream",
     "text": [
      "Model model_full_bow_30k loading...\n",
      "Module not found - are you sure it is imported?\n",
      "Model model_bootstrap_glove_50N_200D_30k loading...\n",
      "Module not found - are you sure it is imported?\n",
      "Model bert_model_8B_1e-05L_20000.0T_Twitter_0finetuned_1 loading...\n",
      "Module not found - are you sure it is imported?\n",
      "Model model_full_glove_30N_200D_30k loading...\n",
      "Module not found - are you sure it is imported?\n",
      "Model model_full_glove_10N_100D loading...\n",
      "Module not found - are you sure it is imported?\n",
      "Downloading ensemble\n"
     ]
    },
    {
     "name": "stderr",
     "output_type": "stream",
     "text": [
      "small_ensemble.zip: 100%|##########| 469M/469M [00:46<00:00, 10.7MB/s] \n"
     ]
    },
    {
     "name": "stdout",
     "output_type": "stream",
     "text": [
      "Model model_full_bow_30k loading...\n",
      "Model model_full_bow_30k loaded\n",
      "Model model_bootstrap_glove_50N_200D_30k loading...\n",
      "Module not found - are you sure it is imported?\n",
      "Model bert_model_8B_1e-05L_20000.0T_Twitter_0finetuned_1 loading...\n",
      "Module not found - are you sure it is imported?\n",
      "Model model_full_glove_30N_200D_30k loading...\n",
      "Module not found - are you sure it is imported?\n",
      "Model model_full_glove_10N_100D loading...\n",
      "Module not found - are you sure it is imported?\n"
     ]
    }
   ],
   "source": [
    "classifier = tweet_sentiment_classifier.SentimentAnalyzer()\n",
    "classifier.load_small_ensemble()"
   ]
  },
  {
   "cell_type": "code",
   "execution_count": 6,
   "metadata": {
    "ExecuteTime": {
     "end_time": "2020-05-14T02:46:28.272889Z",
     "start_time": "2020-05-14T02:46:27.357342Z"
    }
   },
   "outputs": [
    {
     "data": {
      "text/plain": [
       "array([1., 0., 1., 0.])"
      ]
     },
     "execution_count": 6,
     "metadata": {},
     "output_type": "execute_result"
    }
   ],
   "source": [
    "classifier.predict(['I am happy', 'I am sad', 'I am cheerful', 'I am mad'])"
   ]
  },
  {
   "cell_type": "code",
   "execution_count": 10,
   "metadata": {
    "ExecuteTime": {
     "end_time": "2020-05-14T03:07:12.647751Z",
     "start_time": "2020-05-14T03:07:10.939003Z"
    }
   },
   "outputs": [],
   "source": [
    "df['sent'] = classifier.predict(df['text_nourl'])"
   ]
  },
  {
   "cell_type": "code",
   "execution_count": null,
   "metadata": {
    "ExecuteTime": {
     "end_time": "2020-05-13T23:42:46.461731Z",
     "start_time": "2020-05-13T23:42:46.459250Z"
    }
   },
   "outputs": [],
   "source": [
    "# pd.set_option('display.max_colwidth', None)\n",
    "# pd.set_option('display.max_rows', None)"
   ]
  },
  {
   "cell_type": "code",
   "execution_count": 11,
   "metadata": {
    "ExecuteTime": {
     "end_time": "2020-05-14T03:07:22.502775Z",
     "start_time": "2020-05-14T03:07:22.489191Z"
    }
   },
   "outputs": [
    {
     "data": {
      "text/html": [
       "<div>\n",
       "<style scoped>\n",
       "    .dataframe tbody tr th:only-of-type {\n",
       "        vertical-align: middle;\n",
       "    }\n",
       "\n",
       "    .dataframe tbody tr th {\n",
       "        vertical-align: top;\n",
       "    }\n",
       "\n",
       "    .dataframe thead th {\n",
       "        text-align: right;\n",
       "    }\n",
       "</style>\n",
       "<table border=\"1\" class=\"dataframe\">\n",
       "  <thead>\n",
       "    <tr style=\"text-align: right;\">\n",
       "      <th></th>\n",
       "      <th>text_nourl</th>\n",
       "      <th>sent</th>\n",
       "      <th>key_score</th>\n",
       "    </tr>\n",
       "  </thead>\n",
       "  <tbody>\n",
       "    <tr>\n",
       "      <th>101</th>\n",
       "      <td>#GrandeFire unofficial new fire report; detail...</td>\n",
       "      <td>1.0</td>\n",
       "      <td>1</td>\n",
       "    </tr>\n",
       "    <tr>\n",
       "      <th>126</th>\n",
       "      <td>#FrogFire unofficial new fire report; details ...</td>\n",
       "      <td>1.0</td>\n",
       "      <td>1</td>\n",
       "    </tr>\n",
       "    <tr>\n",
       "      <th>136</th>\n",
       "      <td>Paying it forward- “Friends helping Friends” f...</td>\n",
       "      <td>1.0</td>\n",
       "      <td>1</td>\n",
       "    </tr>\n",
       "    <tr>\n",
       "      <th>240</th>\n",
       "      <td>OMFreakingG! #realfood #chinooksalmon #kingsal...</td>\n",
       "      <td>1.0</td>\n",
       "      <td>1</td>\n",
       "    </tr>\n",
       "    <tr>\n",
       "      <th>244</th>\n",
       "      <td>Fire in the feather river canyon. @Chico, Cali...</td>\n",
       "      <td>1.0</td>\n",
       "      <td>1</td>\n",
       "    </tr>\n",
       "    <tr>\n",
       "      <th>...</th>\n",
       "      <td>...</td>\n",
       "      <td>...</td>\n",
       "      <td>...</td>\n",
       "    </tr>\n",
       "    <tr>\n",
       "      <th>1088</th>\n",
       "      <td>Perspective on the Camp Fire. Hard to fathom.....</td>\n",
       "      <td>0.0</td>\n",
       "      <td>2</td>\n",
       "    </tr>\n",
       "    <tr>\n",
       "      <th>1097</th>\n",
       "      <td>Camp fire closure in #Oroville on Hwy 70 Both ...</td>\n",
       "      <td>0.0</td>\n",
       "      <td>1</td>\n",
       "    </tr>\n",
       "    <tr>\n",
       "      <th>1099</th>\n",
       "      <td>I have never felt so honored and grateful to s...</td>\n",
       "      <td>1.0</td>\n",
       "      <td>1</td>\n",
       "    </tr>\n",
       "    <tr>\n",
       "      <th>1100</th>\n",
       "      <td>THANK YOU calfire . . . . . #flyinghorsedesign...</td>\n",
       "      <td>1.0</td>\n",
       "      <td>1</td>\n",
       "    </tr>\n",
       "    <tr>\n",
       "      <th>1103</th>\n",
       "      <td>#campfire is out but the tragic depths of what...</td>\n",
       "      <td>0.0</td>\n",
       "      <td>1</td>\n",
       "    </tr>\n",
       "  </tbody>\n",
       "</table>\n",
       "<p>474 rows × 3 columns</p>\n",
       "</div>"
      ],
      "text/plain": [
       "                                             text_nourl  sent  key_score\n",
       "101   #GrandeFire unofficial new fire report; detail...   1.0          1\n",
       "126   #FrogFire unofficial new fire report; details ...   1.0          1\n",
       "136   Paying it forward- “Friends helping Friends” f...   1.0          1\n",
       "240   OMFreakingG! #realfood #chinooksalmon #kingsal...   1.0          1\n",
       "244   Fire in the feather river canyon. @Chico, Cali...   1.0          1\n",
       "...                                                 ...   ...        ...\n",
       "1088  Perspective on the Camp Fire. Hard to fathom.....   0.0          2\n",
       "1097  Camp fire closure in #Oroville on Hwy 70 Both ...   0.0          1\n",
       "1099  I have never felt so honored and grateful to s...   1.0          1\n",
       "1100  THANK YOU calfire . . . . . #flyinghorsedesign...   1.0          1\n",
       "1103  #campfire is out but the tragic depths of what...   0.0          1\n",
       "\n",
       "[474 rows x 3 columns]"
      ]
     },
     "execution_count": 11,
     "metadata": {},
     "output_type": "execute_result"
    }
   ],
   "source": [
    "df2 = df[df['key_score']>0]\n",
    "df2[['text_nourl', 'sent', 'key_score']]"
   ]
  },
  {
   "cell_type": "code",
   "execution_count": 12,
   "metadata": {
    "ExecuteTime": {
     "end_time": "2020-05-14T03:07:24.265542Z",
     "start_time": "2020-05-14T03:07:24.097010Z"
    }
   },
   "outputs": [
    {
     "data": {
      "text/plain": [
       "0.0    0.506329\n",
       "1.0    0.493671\n",
       "Name: sent, dtype: float64"
      ]
     },
     "execution_count": 12,
     "metadata": {},
     "output_type": "execute_result"
    }
   ],
   "source": [
    "df2['sent'].value_counts(normalize=True)"
   ]
  },
  {
   "cell_type": "code",
   "execution_count": 13,
   "metadata": {
    "ExecuteTime": {
     "end_time": "2020-05-14T03:08:02.716589Z",
     "start_time": "2020-05-14T03:08:02.690404Z"
    }
   },
   "outputs": [],
   "source": [
    "df.to_csv('./datasets/stacked_sentiment.csv', index=False)"
   ]
  },
  {
   "cell_type": "code",
   "execution_count": null,
   "metadata": {},
   "outputs": [],
   "source": []
  }
 ],
 "metadata": {
  "kernelspec": {
   "display_name": "Python 3",
   "language": "python",
   "name": "python3"
  },
  "language_info": {
   "codemirror_mode": {
    "name": "ipython",
    "version": 3
   },
   "file_extension": ".py",
   "mimetype": "text/x-python",
   "name": "python",
   "nbconvert_exporter": "python",
   "pygments_lexer": "ipython3",
   "version": "3.7.6"
  }
 },
 "nbformat": 4,
 "nbformat_minor": 4
}
