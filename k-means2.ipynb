{
 "cells": [
  {
   "cell_type": "code",
   "execution_count": 1,
   "metadata": {
    "ExecuteTime": {
     "end_time": "2020-05-14T21:47:42.555033Z",
     "start_time": "2020-05-14T21:47:41.235602Z"
    }
   },
   "outputs": [],
   "source": [
    "import numpy as np\n",
    "import pandas as pd\n",
    "import matplotlib.pyplot as plt\n",
    "from sklearn.cluster import KMeans\n",
    "from sklearn.metrics import silhouette_score\n",
    "from sklearn.preprocessing import StandardScaler\n",
    "from sklearn.feature_extraction.text import TfidfVectorizer, CountVectorizer\n",
    "\n",
    "%matplotlib inline"
   ]
  },
  {
   "cell_type": "code",
   "execution_count": 2,
   "metadata": {
    "ExecuteTime": {
     "end_time": "2020-05-14T21:47:43.164691Z",
     "start_time": "2020-05-14T21:47:43.145918Z"
    }
   },
   "outputs": [
    {
     "data": {
      "text/plain": [
       "(1130, 20)"
      ]
     },
     "execution_count": 2,
     "metadata": {},
     "output_type": "execute_result"
    }
   ],
   "source": [
    "df = pd.read_csv('./datasets/stacked_sentiment_again.csv')\n",
    "df.shape"
   ]
  },
  {
   "cell_type": "code",
   "execution_count": 49,
   "metadata": {
    "ExecuteTime": {
     "end_time": "2020-05-14T23:36:14.484989Z",
     "start_time": "2020-05-14T23:36:14.478961Z"
    }
   },
   "outputs": [],
   "source": [
    "# Trying to find an optimal amount of clusters\n",
    "def kmeans_check_ks(df, ks):\n",
    "    vectorizer = TfidfVectorizer(stop_words='english', ngram_range=(1,1))\n",
    "    X = vectorizer.fit_transform(df['text_nourl'])\n",
    "    # don't need to scale since Tfidf does that automatically\n",
    "\n",
    "    scores = []\n",
    "    for k in range(2, ks+1):\n",
    "        km = KMeans(n_clusters=k, random_state=2018)\n",
    "        km.fit(X)\n",
    "        sil = silhouette_score(X, km.labels_)\n",
    "        intertia = km.inertia_\n",
    "        scores.append((k, sil, intertia))\n",
    "\n",
    "    scores_df = pd.DataFrame(scores, columns=['K', 'SilhouetteScore', 'Inertia'])\n",
    "    scores_df.sort_values('SilhouetteScore', ascending=False, inplace=True)\n",
    "    return scores_df"
   ]
  },
  {
   "cell_type": "markdown",
   "metadata": {},
   "source": [
    "### Basic k-means on all text - We are not using any filters\n",
    "- Followed steps in [this](https://towardsdatascience.com/applying-machine-learning-to-classify-an-unsupervised-text-document-e7bb6265f52) article"
   ]
  },
  {
   "cell_type": "code",
   "execution_count": 3,
   "metadata": {
    "ExecuteTime": {
     "end_time": "2020-05-14T21:47:44.317702Z",
     "start_time": "2020-05-14T21:47:44.288582Z"
    }
   },
   "outputs": [],
   "source": [
    "# We need to vectorize first and turn all words into their roots\n",
    "vectorizer_a = TfidfVectorizer(stop_words='english')\n",
    "X_all = vectorizer.fit_transform(df['text_nourl'])\n",
    "\n",
    "# Checking with 3 clusters\n",
    "true_k = 3\n",
    "model_all = KMeans(n_clusters=true_k, random_state=2018)\n",
    "model_all.fit(X)\n",
    "\n",
    "# Viewing clusters of words\n",
    "order_centroids = model_all.cluster_centers_.argsort()[:, ::-1]\n",
    "terms = vectorizer_a.get_feature_names()\n",
    "\n",
    "for i in range(true_k):\n",
    "    print(f'Cluster %d:' % i),\n",
    "    for ind in order_centroids[i, :10]:\n",
    "        print(f'%s' % terms[ind])"
   ]
  },
  {
   "cell_type": "markdown",
   "metadata": {},
   "source": [
    "### Basic k-means on fire-related tweets\n",
    "- follow steps in [this](https://towardsdatascience.com/applying-machine-learning-to-classify-an-unsupervised-text-document-e7bb6265f52) article"
   ]
  },
  {
   "cell_type": "code",
   "execution_count": 18,
   "metadata": {
    "ExecuteTime": {
     "end_time": "2020-05-14T21:49:06.832387Z",
     "start_time": "2020-05-14T21:49:06.826895Z"
    }
   },
   "outputs": [
    {
     "data": {
      "text/plain": [
       "(616, 20)"
      ]
     },
     "execution_count": 18,
     "metadata": {},
     "output_type": "execute_result"
    }
   ],
   "source": [
    "# Manually coded each tweet if it was related to the fire.  \n",
    "# Pulling it into a new dataframe\n",
    "fire = df[(df['is-fire-related'] == 1)].copy()\n",
    "fire.shape"
   ]
  },
  {
   "cell_type": "code",
   "execution_count": 52,
   "metadata": {
    "ExecuteTime": {
     "end_time": "2020-05-14T23:48:03.138327Z",
     "start_time": "2020-05-14T23:48:02.686668Z"
    },
    "collapsed": true
   },
   "outputs": [
    {
     "name": "stdout",
     "output_type": "stream",
     "text": [
      "Cluster 0:\n",
      "rd\n",
      "traffic\n",
      "closure\n",
      "ca\n",
      "nb\n",
      "sb\n",
      "camp\n",
      "89\n",
      "hwy\n",
      "70\n",
      "Cluster 1:\n",
      "took\n",
      "forget\n",
      "hoping\n",
      "away\n",
      "return\n",
      "lost\n",
      "day\n",
      "replace\n",
      "able\n",
      "paradise\n",
      "Cluster 2:\n",
      "california\n",
      "campfire\n",
      "chico\n",
      "paradise\n",
      "ca\n",
      "buttecounty\n",
      "000\n",
      "acres\n",
      "camp\n",
      "contained\n"
     ]
    }
   ],
   "source": [
    "# Vectorizing and fitting a Kmeans with 3 clusters\n",
    "vectorizer_f = TfidfVectorizer(stop_words='english')\n",
    "X_fire = vectorizer_f.fit_transform(fire['text_nourl'])\n",
    "\n",
    "true_k = 3\n",
    "model_3f = KMeans(n_clusters=true_k, random_state=2018)\n",
    "model_3f.fit(X)\n",
    "\n",
    "order_centroids = model_3f.cluster_centers_.argsort()[:, ::-1]\n",
    "terms = vectorizer_f.get_feature_names()\n",
    "\n",
    "# Viewing clusters\n",
    "for i in range(true_k):\n",
    "    print(f'Cluster %d:' % i),\n",
    "    for ind in order_centroids[i, :10]:\n",
    "        print(f'%s' % terms[ind])"
   ]
  },
  {
   "cell_type": "markdown",
   "metadata": {
    "ExecuteTime": {
     "end_time": "2020-05-14T21:49:10.759048Z",
     "start_time": "2020-05-14T21:49:10.757019Z"
    }
   },
   "source": [
    "### 3 clusters\n",
    "- cluster 0: Traffic and road related\n",
    "- cluster 1: Emotional\n",
    "- cluster 2: California"
   ]
  },
  {
   "cell_type": "code",
   "execution_count": 53,
   "metadata": {
    "ExecuteTime": {
     "end_time": "2020-05-14T23:48:08.542361Z",
     "start_time": "2020-05-14T23:48:07.868600Z"
    },
    "collapsed": true
   },
   "outputs": [
    {
     "name": "stdout",
     "output_type": "stream",
     "text": [
      "Cluster 0:\n",
      "rd\n",
      "closure\n",
      "traffic\n",
      "pentz\n",
      "wb\n",
      "eb\n",
      "durham\n",
      "pearson\n",
      "camp\n",
      "neal\n",
      "Cluster 1:\n",
      "took\n",
      "forget\n",
      "hoping\n",
      "away\n",
      "return\n",
      "lost\n",
      "day\n",
      "replace\n",
      "able\n",
      "paradise\n",
      "Cluster 2:\n",
      "california\n",
      "chico\n",
      "paradise\n",
      "campfire\n",
      "camp\n",
      "just\n",
      "calfire\n",
      "people\n",
      "help\n",
      "today\n",
      "Cluster 3:\n",
      "ca\n",
      "nb\n",
      "sb\n",
      "89\n",
      "hwy\n",
      "70\n",
      "traffic\n",
      "closure\n",
      "camp\n",
      "oroville\n",
      "Cluster 4:\n",
      "ca\n",
      "info\n",
      "unofficial\n",
      "disclaimers\n",
      "incorrect\n",
      "officials\n",
      "safety\n",
      "images\n",
      "sacramento\n",
      "update\n"
     ]
    }
   ],
   "source": [
    "# Fitting with 5 clusters\n",
    "true_k = 5\n",
    "model_5f = KMeans(n_clusters=true_k, random_state=2018)\n",
    "model_5f.fit(X_fire)\n",
    "\n",
    "order_centroids = model_5f.cluster_centers_.argsort()[:, ::-1]\n",
    "terms = vectorizer_f.get_feature_names()\n",
    "\n",
    "# Viewing clusters\n",
    "for i in range(true_k):\n",
    "    print(f'Cluster %d:' % i),\n",
    "    for ind in order_centroids[i, :10]:\n",
    "        print(f'%s' % terms[ind])"
   ]
  },
  {
   "cell_type": "markdown",
   "metadata": {
    "ExecuteTime": {
     "end_time": "2020-05-14T21:49:13.888402Z",
     "start_time": "2020-05-14T21:49:13.886110Z"
    }
   },
   "source": [
    "### 5 clusters:\n",
    "- 0: Traffic \n",
    "- 1: Emotional (negative sentiment)\n",
    "- 2: California\n",
    "- 3: Traffic\n",
    "- 4: Informational"
   ]
  },
  {
   "cell_type": "code",
   "execution_count": 29,
   "metadata": {
    "ExecuteTime": {
     "end_time": "2020-05-14T21:49:18.148106Z",
     "start_time": "2020-05-14T21:49:17.760636Z"
    },
    "collapsed": true
   },
   "outputs": [
    {
     "data": {
      "text/html": [
       "<div>\n",
       "<style scoped>\n",
       "    .dataframe tbody tr th:only-of-type {\n",
       "        vertical-align: middle;\n",
       "    }\n",
       "\n",
       "    .dataframe tbody tr th {\n",
       "        vertical-align: top;\n",
       "    }\n",
       "\n",
       "    .dataframe thead th {\n",
       "        text-align: right;\n",
       "    }\n",
       "</style>\n",
       "<table border=\"1\" class=\"dataframe\">\n",
       "  <thead>\n",
       "    <tr style=\"text-align: right;\">\n",
       "      <th></th>\n",
       "      <th>tweet_count</th>\n",
       "      <th>City</th>\n",
       "      <th>id</th>\n",
       "      <th>tweet_text</th>\n",
       "      <th>timestamp</th>\n",
       "      <th>hashtags</th>\n",
       "      <th>username</th>\n",
       "      <th>mentions</th>\n",
       "      <th>rewtweets</th>\n",
       "      <th>replies</th>\n",
       "      <th>...</th>\n",
       "      <th>day</th>\n",
       "      <th>hour</th>\n",
       "      <th>minute</th>\n",
       "      <th>during_fire</th>\n",
       "      <th>is-fire-related</th>\n",
       "      <th>text_nourl</th>\n",
       "      <th>key_score</th>\n",
       "      <th>from_locations</th>\n",
       "      <th>sent</th>\n",
       "      <th>clusters</th>\n",
       "    </tr>\n",
       "  </thead>\n",
       "  <tbody>\n",
       "    <tr>\n",
       "      <th>0</th>\n",
       "      <td>366.0</td>\n",
       "      <td>Paradise, CA</td>\n",
       "      <td>1.060000e+18</td>\n",
       "      <td>::paradise baby:: meet jd, the grandson of my ...</td>\n",
       "      <td>2018-11-16 16:31:06+00:00</td>\n",
       "      <td>#campfire</td>\n",
       "      <td>trekcass</td>\n",
       "      <td>@JulieRems</td>\n",
       "      <td>0</td>\n",
       "      <td>0</td>\n",
       "      <td>...</td>\n",
       "      <td>16</td>\n",
       "      <td>16</td>\n",
       "      <td>31</td>\n",
       "      <td>1</td>\n",
       "      <td>1</td>\n",
       "      <td>::paradise baby:: meet JD, the grandson of my ...</td>\n",
       "      <td>2</td>\n",
       "      <td>Paradise, CA</td>\n",
       "      <td>1.0</td>\n",
       "      <td>0</td>\n",
       "    </tr>\n",
       "    <tr>\n",
       "      <th>1</th>\n",
       "      <td>700.0</td>\n",
       "      <td>Paradise, CA</td>\n",
       "      <td>1.060000e+18</td>\n",
       "      <td>¡coño! #campfire @chico, california https://ww...</td>\n",
       "      <td>2018-11-09 19:29:06+00:00</td>\n",
       "      <td>#CampFire</td>\n",
       "      <td>VXO</td>\n",
       "      <td>NaN</td>\n",
       "      <td>0</td>\n",
       "      <td>0</td>\n",
       "      <td>...</td>\n",
       "      <td>9</td>\n",
       "      <td>19</td>\n",
       "      <td>29</td>\n",
       "      <td>1</td>\n",
       "      <td>1</td>\n",
       "      <td>¡Coño! #CampFire @Chico, California</td>\n",
       "      <td>1</td>\n",
       "      <td>Chico, CA</td>\n",
       "      <td>1.0</td>\n",
       "      <td>0</td>\n",
       "    </tr>\n",
       "    <tr>\n",
       "      <th>3</th>\n",
       "      <td>53.0</td>\n",
       "      <td>Paradise, CA</td>\n",
       "      <td>1.070000e+18</td>\n",
       "      <td>.@stucam7771 nailed it! the man in the white h...</td>\n",
       "      <td>2018-11-24 11:29:40+00:00</td>\n",
       "      <td>NaN</td>\n",
       "      <td>XLComedy</td>\n",
       "      <td>@stucam7771</td>\n",
       "      <td>1</td>\n",
       "      <td>0</td>\n",
       "      <td>...</td>\n",
       "      <td>24</td>\n",
       "      <td>11</td>\n",
       "      <td>29</td>\n",
       "      <td>1</td>\n",
       "      <td>1</td>\n",
       "      <td>.@Stucam7771 nailed it! The man in the White H...</td>\n",
       "      <td>1</td>\n",
       "      <td>Paradise, CA</td>\n",
       "      <td>1.0</td>\n",
       "      <td>0</td>\n",
       "    </tr>\n",
       "    <tr>\n",
       "      <th>5</th>\n",
       "      <td>429.0</td>\n",
       "      <td>Paradise, CA</td>\n",
       "      <td>1.060000e+18</td>\n",
       "      <td>“and the peace of god, which transcends all un...</td>\n",
       "      <td>2018-11-15 01:20:54+00:00</td>\n",
       "      <td>#firefighter #calfire #firstresponders</td>\n",
       "      <td>AaronComfortDog</td>\n",
       "      <td>NaN</td>\n",
       "      <td>1</td>\n",
       "      <td>0</td>\n",
       "      <td>...</td>\n",
       "      <td>15</td>\n",
       "      <td>1</td>\n",
       "      <td>20</td>\n",
       "      <td>1</td>\n",
       "      <td>1</td>\n",
       "      <td>“And the peace of God, which transcends all un...</td>\n",
       "      <td>2</td>\n",
       "      <td>Chico, CA</td>\n",
       "      <td>1.0</td>\n",
       "      <td>0</td>\n",
       "    </tr>\n",
       "    <tr>\n",
       "      <th>8</th>\n",
       "      <td>185.0</td>\n",
       "      <td>Paradise, CA</td>\n",
       "      <td>1.070000e+18</td>\n",
       "      <td>“from the ashes, a fire shall be woken, a ligh...</td>\n",
       "      <td>2018-11-20 23:28:54+00:00</td>\n",
       "      <td>NaN</td>\n",
       "      <td>Marcella_renai</td>\n",
       "      <td>NaN</td>\n",
       "      <td>0</td>\n",
       "      <td>0</td>\n",
       "      <td>...</td>\n",
       "      <td>20</td>\n",
       "      <td>23</td>\n",
       "      <td>28</td>\n",
       "      <td>1</td>\n",
       "      <td>1</td>\n",
       "      <td>“From the ashes, a fire shall be woken, A ligh...</td>\n",
       "      <td>1</td>\n",
       "      <td>Chico, CA</td>\n",
       "      <td>1.0</td>\n",
       "      <td>0</td>\n",
       "    </tr>\n",
       "  </tbody>\n",
       "</table>\n",
       "<p>5 rows × 21 columns</p>\n",
       "</div>"
      ],
      "text/plain": [
       "   tweet_count          City            id  \\\n",
       "0        366.0  Paradise, CA  1.060000e+18   \n",
       "1        700.0  Paradise, CA  1.060000e+18   \n",
       "3         53.0  Paradise, CA  1.070000e+18   \n",
       "5        429.0  Paradise, CA  1.060000e+18   \n",
       "8        185.0  Paradise, CA  1.070000e+18   \n",
       "\n",
       "                                          tweet_text  \\\n",
       "0  ::paradise baby:: meet jd, the grandson of my ...   \n",
       "1  ¡coño! #campfire @chico, california https://ww...   \n",
       "3  .@stucam7771 nailed it! the man in the white h...   \n",
       "5  “and the peace of god, which transcends all un...   \n",
       "8  “from the ashes, a fire shall be woken, a ligh...   \n",
       "\n",
       "                   timestamp                                hashtags  \\\n",
       "0  2018-11-16 16:31:06+00:00                               #campfire   \n",
       "1  2018-11-09 19:29:06+00:00                               #CampFire   \n",
       "3  2018-11-24 11:29:40+00:00                                     NaN   \n",
       "5  2018-11-15 01:20:54+00:00  #firefighter #calfire #firstresponders   \n",
       "8  2018-11-20 23:28:54+00:00                                     NaN   \n",
       "\n",
       "          username     mentions  rewtweets  replies  ... day  hour  minute  \\\n",
       "0         trekcass   @JulieRems          0        0  ...  16    16      31   \n",
       "1              VXO          NaN          0        0  ...   9    19      29   \n",
       "3         XLComedy  @stucam7771          1        0  ...  24    11      29   \n",
       "5  AaronComfortDog          NaN          1        0  ...  15     1      20   \n",
       "8   Marcella_renai          NaN          0        0  ...  20    23      28   \n",
       "\n",
       "   during_fire  is-fire-related  \\\n",
       "0            1                1   \n",
       "1            1                1   \n",
       "3            1                1   \n",
       "5            1                1   \n",
       "8            1                1   \n",
       "\n",
       "                                          text_nourl key_score  \\\n",
       "0  ::paradise baby:: meet JD, the grandson of my ...         2   \n",
       "1               ¡Coño! #CampFire @Chico, California          1   \n",
       "3  .@Stucam7771 nailed it! The man in the White H...         1   \n",
       "5  “And the peace of God, which transcends all un...         2   \n",
       "8  “From the ashes, a fire shall be woken, A ligh...         1   \n",
       "\n",
       "   from_locations sent  clusters  \n",
       "0    Paradise, CA  1.0         0  \n",
       "1       Chico, CA  1.0         0  \n",
       "3    Paradise, CA  1.0         0  \n",
       "5       Chico, CA  1.0         0  \n",
       "8       Chico, CA  1.0         0  \n",
       "\n",
       "[5 rows x 21 columns]"
      ]
     },
     "execution_count": 29,
     "metadata": {},
     "output_type": "execute_result"
    }
   ],
   "source": [
    "# Fitting each tweet to a cluster\n",
    "fire['clusters'] = fire['text_nourl'].apply(lambda x: int(model_5f.predict(vectorizer_f.transform([x]))[0]))\n",
    "fire.head()"
   ]
  },
  {
   "cell_type": "code",
   "execution_count": 41,
   "metadata": {
    "ExecuteTime": {
     "end_time": "2020-05-14T21:51:56.261033Z",
     "start_time": "2020-05-14T21:51:56.242918Z"
    }
   },
   "outputs": [],
   "source": [
    "fire.to_csv('./datasets/clustered_fires.csv', index = False) # exporting"
   ]
  },
  {
   "cell_type": "code",
   "execution_count": null,
   "metadata": {
    "ExecuteTime": {
     "end_time": "2020-05-14T19:53:10.789539Z",
     "start_time": "2020-05-14T19:53:10.738769Z"
    }
   },
   "outputs": [],
   "source": [
    "fire[(fire['key_score'] > 0) & (fire['text_nourl'].str.contains('fire'))][['text_nourl', 'key_score', 'clusters']]"
   ]
  },
  {
   "cell_type": "code",
   "execution_count": 50,
   "metadata": {
    "ExecuteTime": {
     "end_time": "2020-05-14T23:36:53.678833Z",
     "start_time": "2020-05-14T23:36:39.997912Z"
    }
   },
   "outputs": [],
   "source": [
    "fire_scores_2 = kmeans_check_ks(fire, 20)\n",
    "\n",
    "fire_scores_2"
   ]
  },
  {
   "cell_type": "code",
   "execution_count": 46,
   "metadata": {
    "ExecuteTime": {
     "end_time": "2020-05-14T23:33:45.270725Z",
     "start_time": "2020-05-14T23:32:59.326666Z"
    },
    "collapsed": true
   },
   "outputs": [
    {
     "data": {
      "text/html": [
       "<div>\n",
       "<style scoped>\n",
       "    .dataframe tbody tr th:only-of-type {\n",
       "        vertical-align: middle;\n",
       "    }\n",
       "\n",
       "    .dataframe tbody tr th {\n",
       "        vertical-align: top;\n",
       "    }\n",
       "\n",
       "    .dataframe thead th {\n",
       "        text-align: right;\n",
       "    }\n",
       "</style>\n",
       "<table border=\"1\" class=\"dataframe\">\n",
       "  <thead>\n",
       "    <tr style=\"text-align: right;\">\n",
       "      <th></th>\n",
       "      <th>K</th>\n",
       "      <th>SilhouetteScore</th>\n",
       "      <th>Inertia</th>\n",
       "    </tr>\n",
       "  </thead>\n",
       "  <tbody>\n",
       "    <tr>\n",
       "      <th>27</th>\n",
       "      <td>29</td>\n",
       "      <td>0.129636</td>\n",
       "      <td>849.411539</td>\n",
       "    </tr>\n",
       "    <tr>\n",
       "      <th>28</th>\n",
       "      <td>30</td>\n",
       "      <td>0.129616</td>\n",
       "      <td>847.973657</td>\n",
       "    </tr>\n",
       "    <tr>\n",
       "      <th>26</th>\n",
       "      <td>28</td>\n",
       "      <td>0.129585</td>\n",
       "      <td>850.790604</td>\n",
       "    </tr>\n",
       "    <tr>\n",
       "      <th>25</th>\n",
       "      <td>27</td>\n",
       "      <td>0.129316</td>\n",
       "      <td>852.337106</td>\n",
       "    </tr>\n",
       "    <tr>\n",
       "      <th>24</th>\n",
       "      <td>26</td>\n",
       "      <td>0.128798</td>\n",
       "      <td>854.373349</td>\n",
       "    </tr>\n",
       "    <tr>\n",
       "      <th>23</th>\n",
       "      <td>25</td>\n",
       "      <td>0.128510</td>\n",
       "      <td>856.101311</td>\n",
       "    </tr>\n",
       "    <tr>\n",
       "      <th>22</th>\n",
       "      <td>24</td>\n",
       "      <td>0.125481</td>\n",
       "      <td>860.104913</td>\n",
       "    </tr>\n",
       "    <tr>\n",
       "      <th>19</th>\n",
       "      <td>21</td>\n",
       "      <td>0.123160</td>\n",
       "      <td>865.866615</td>\n",
       "    </tr>\n",
       "    <tr>\n",
       "      <th>14</th>\n",
       "      <td>16</td>\n",
       "      <td>0.123042</td>\n",
       "      <td>883.718962</td>\n",
       "    </tr>\n",
       "    <tr>\n",
       "      <th>13</th>\n",
       "      <td>15</td>\n",
       "      <td>0.122643</td>\n",
       "      <td>885.470893</td>\n",
       "    </tr>\n",
       "    <tr>\n",
       "      <th>21</th>\n",
       "      <td>23</td>\n",
       "      <td>0.122591</td>\n",
       "      <td>861.597606</td>\n",
       "    </tr>\n",
       "    <tr>\n",
       "      <th>20</th>\n",
       "      <td>22</td>\n",
       "      <td>0.122544</td>\n",
       "      <td>863.411749</td>\n",
       "    </tr>\n",
       "    <tr>\n",
       "      <th>15</th>\n",
       "      <td>17</td>\n",
       "      <td>0.120887</td>\n",
       "      <td>883.277154</td>\n",
       "    </tr>\n",
       "    <tr>\n",
       "      <th>12</th>\n",
       "      <td>14</td>\n",
       "      <td>0.120730</td>\n",
       "      <td>892.977034</td>\n",
       "    </tr>\n",
       "    <tr>\n",
       "      <th>11</th>\n",
       "      <td>13</td>\n",
       "      <td>0.119620</td>\n",
       "      <td>896.869123</td>\n",
       "    </tr>\n",
       "    <tr>\n",
       "      <th>9</th>\n",
       "      <td>11</td>\n",
       "      <td>0.119384</td>\n",
       "      <td>898.742570</td>\n",
       "    </tr>\n",
       "    <tr>\n",
       "      <th>16</th>\n",
       "      <td>18</td>\n",
       "      <td>0.119382</td>\n",
       "      <td>879.039411</td>\n",
       "    </tr>\n",
       "    <tr>\n",
       "      <th>10</th>\n",
       "      <td>12</td>\n",
       "      <td>0.119375</td>\n",
       "      <td>898.384609</td>\n",
       "    </tr>\n",
       "    <tr>\n",
       "      <th>17</th>\n",
       "      <td>19</td>\n",
       "      <td>0.119329</td>\n",
       "      <td>877.850657</td>\n",
       "    </tr>\n",
       "    <tr>\n",
       "      <th>18</th>\n",
       "      <td>20</td>\n",
       "      <td>0.118474</td>\n",
       "      <td>872.256187</td>\n",
       "    </tr>\n",
       "    <tr>\n",
       "      <th>8</th>\n",
       "      <td>10</td>\n",
       "      <td>0.115175</td>\n",
       "      <td>909.227093</td>\n",
       "    </tr>\n",
       "    <tr>\n",
       "      <th>7</th>\n",
       "      <td>9</td>\n",
       "      <td>0.114051</td>\n",
       "      <td>914.347871</td>\n",
       "    </tr>\n",
       "    <tr>\n",
       "      <th>6</th>\n",
       "      <td>8</td>\n",
       "      <td>0.111806</td>\n",
       "      <td>926.146181</td>\n",
       "    </tr>\n",
       "    <tr>\n",
       "      <th>5</th>\n",
       "      <td>7</td>\n",
       "      <td>0.103834</td>\n",
       "      <td>942.793676</td>\n",
       "    </tr>\n",
       "    <tr>\n",
       "      <th>4</th>\n",
       "      <td>6</td>\n",
       "      <td>0.101370</td>\n",
       "      <td>951.242083</td>\n",
       "    </tr>\n",
       "    <tr>\n",
       "      <th>3</th>\n",
       "      <td>5</td>\n",
       "      <td>0.085646</td>\n",
       "      <td>978.892024</td>\n",
       "    </tr>\n",
       "    <tr>\n",
       "      <th>2</th>\n",
       "      <td>4</td>\n",
       "      <td>0.083245</td>\n",
       "      <td>990.642272</td>\n",
       "    </tr>\n",
       "    <tr>\n",
       "      <th>1</th>\n",
       "      <td>3</td>\n",
       "      <td>0.052061</td>\n",
       "      <td>1028.038761</td>\n",
       "    </tr>\n",
       "    <tr>\n",
       "      <th>0</th>\n",
       "      <td>2</td>\n",
       "      <td>0.035427</td>\n",
       "      <td>1061.378536</td>\n",
       "    </tr>\n",
       "  </tbody>\n",
       "</table>\n",
       "</div>"
      ],
      "text/plain": [
       "     K  SilhouetteScore      Inertia\n",
       "27  29         0.129636   849.411539\n",
       "28  30         0.129616   847.973657\n",
       "26  28         0.129585   850.790604\n",
       "25  27         0.129316   852.337106\n",
       "24  26         0.128798   854.373349\n",
       "23  25         0.128510   856.101311\n",
       "22  24         0.125481   860.104913\n",
       "19  21         0.123160   865.866615\n",
       "14  16         0.123042   883.718962\n",
       "13  15         0.122643   885.470893\n",
       "21  23         0.122591   861.597606\n",
       "20  22         0.122544   863.411749\n",
       "15  17         0.120887   883.277154\n",
       "12  14         0.120730   892.977034\n",
       "11  13         0.119620   896.869123\n",
       "9   11         0.119384   898.742570\n",
       "16  18         0.119382   879.039411\n",
       "10  12         0.119375   898.384609\n",
       "17  19         0.119329   877.850657\n",
       "18  20         0.118474   872.256187\n",
       "8   10         0.115175   909.227093\n",
       "7    9         0.114051   914.347871\n",
       "6    8         0.111806   926.146181\n",
       "5    7         0.103834   942.793676\n",
       "4    6         0.101370   951.242083\n",
       "3    5         0.085646   978.892024\n",
       "2    4         0.083245   990.642272\n",
       "1    3         0.052061  1028.038761\n",
       "0    2         0.035427  1061.378536"
      ]
     },
     "execution_count": 46,
     "metadata": {},
     "output_type": "execute_result"
    }
   ],
   "source": [
    "all_clustering = kmeans_check_ks(df, 30)\n",
    "all_clustering"
   ]
  },
  {
   "cell_type": "code",
   "execution_count": null,
   "metadata": {
    "ExecuteTime": {
     "end_time": "2020-05-14T19:48:26.831765Z",
     "start_time": "2020-05-14T19:48:26.828308Z"
    }
   },
   "outputs": [],
   "source": [
    "# Dataframe viewing options for double checking\n",
    "# pd.set_option('display.max_rows', None)\n",
    "# pd.set_option('display.max_colwidth', None)\n"
   ]
  },
  {
   "cell_type": "code",
   "execution_count": 54,
   "metadata": {
    "ExecuteTime": {
     "end_time": "2020-05-15T01:04:52.717846Z",
     "start_time": "2020-05-15T01:04:52.710555Z"
    }
   },
   "outputs": [
    {
     "data": {
      "text/plain": [
       "clusters\n",
       "0    1.319372\n",
       "1    1.162162\n",
       "2    1.000000\n",
       "3    1.085714\n",
       "4    0.884615\n",
       "Name: key_score, dtype: float64"
      ]
     },
     "execution_count": 54,
     "metadata": {},
     "output_type": "execute_result"
    }
   ],
   "source": [
    "fire.groupby('clusters')['key_score'].mean()"
   ]
  },
  {
   "cell_type": "markdown",
   "metadata": {},
   "source": [
    "### chart k-means"
   ]
  },
  {
   "cell_type": "code",
   "execution_count": 32,
   "metadata": {
    "ExecuteTime": {
     "end_time": "2020-05-14T21:50:42.303564Z",
     "start_time": "2020-05-14T21:50:42.278074Z"
    },
    "collapsed": true
   },
   "outputs": [
    {
     "data": {
      "text/html": [
       "<div>\n",
       "<style scoped>\n",
       "    .dataframe tbody tr th:only-of-type {\n",
       "        vertical-align: middle;\n",
       "    }\n",
       "\n",
       "    .dataframe tbody tr th {\n",
       "        vertical-align: top;\n",
       "    }\n",
       "\n",
       "    .dataframe thead th {\n",
       "        text-align: right;\n",
       "    }\n",
       "</style>\n",
       "<table border=\"1\" class=\"dataframe\">\n",
       "  <thead>\n",
       "    <tr style=\"text-align: right;\">\n",
       "      <th></th>\n",
       "      <th>tweet_count</th>\n",
       "      <th>City</th>\n",
       "      <th>id</th>\n",
       "      <th>tweet_text</th>\n",
       "      <th>timestamp</th>\n",
       "      <th>hashtags</th>\n",
       "      <th>username</th>\n",
       "      <th>mentions</th>\n",
       "      <th>rewtweets</th>\n",
       "      <th>replies</th>\n",
       "      <th>...</th>\n",
       "      <th>day</th>\n",
       "      <th>hour</th>\n",
       "      <th>minute</th>\n",
       "      <th>during_fire</th>\n",
       "      <th>is-fire-related</th>\n",
       "      <th>text_nourl</th>\n",
       "      <th>key_score</th>\n",
       "      <th>from_locations</th>\n",
       "      <th>sent</th>\n",
       "      <th>locs_no</th>\n",
       "    </tr>\n",
       "  </thead>\n",
       "  <tbody>\n",
       "    <tr>\n",
       "      <th>0</th>\n",
       "      <td>366.0</td>\n",
       "      <td>Paradise, CA</td>\n",
       "      <td>1.060000e+18</td>\n",
       "      <td>::paradise baby:: meet jd, the grandson of my ...</td>\n",
       "      <td>2018-11-16 16:31:06+00:00</td>\n",
       "      <td>#campfire</td>\n",
       "      <td>trekcass</td>\n",
       "      <td>@JulieRems</td>\n",
       "      <td>0</td>\n",
       "      <td>0</td>\n",
       "      <td>...</td>\n",
       "      <td>16</td>\n",
       "      <td>16</td>\n",
       "      <td>31</td>\n",
       "      <td>1</td>\n",
       "      <td>1</td>\n",
       "      <td>::paradise baby:: meet JD, the grandson of my ...</td>\n",
       "      <td>2</td>\n",
       "      <td>Paradise, CA</td>\n",
       "      <td>1.0</td>\n",
       "      <td>Paradise, CA</td>\n",
       "    </tr>\n",
       "    <tr>\n",
       "      <th>1</th>\n",
       "      <td>700.0</td>\n",
       "      <td>Paradise, CA</td>\n",
       "      <td>1.060000e+18</td>\n",
       "      <td>¡coño! #campfire @chico, california https://ww...</td>\n",
       "      <td>2018-11-09 19:29:06+00:00</td>\n",
       "      <td>#CampFire</td>\n",
       "      <td>VXO</td>\n",
       "      <td>NaN</td>\n",
       "      <td>0</td>\n",
       "      <td>0</td>\n",
       "      <td>...</td>\n",
       "      <td>9</td>\n",
       "      <td>19</td>\n",
       "      <td>29</td>\n",
       "      <td>1</td>\n",
       "      <td>1</td>\n",
       "      <td>¡Coño! #CampFire @Chico, California</td>\n",
       "      <td>1</td>\n",
       "      <td>Chico, CA</td>\n",
       "      <td>1.0</td>\n",
       "      <td>Chico, CA</td>\n",
       "    </tr>\n",
       "    <tr>\n",
       "      <th>2</th>\n",
       "      <td>494.0</td>\n",
       "      <td>Paradise, CA</td>\n",
       "      <td>1.060000e+18</td>\n",
       "      <td>. . . . . #photography #instapics #photographe...</td>\n",
       "      <td>2018-11-13 15:51:31+00:00</td>\n",
       "      <td>#photography #instapics #photographersofig #pi...</td>\n",
       "      <td>sidewayseightp</td>\n",
       "      <td>NaN</td>\n",
       "      <td>0</td>\n",
       "      <td>0</td>\n",
       "      <td>...</td>\n",
       "      <td>13</td>\n",
       "      <td>15</td>\n",
       "      <td>51</td>\n",
       "      <td>1</td>\n",
       "      <td>0</td>\n",
       "      <td>. . . . . #photography #instapics #photographe...</td>\n",
       "      <td>0</td>\n",
       "      <td>Chico, CA</td>\n",
       "      <td>1.0</td>\n",
       "      <td>Chico, CA</td>\n",
       "    </tr>\n",
       "    <tr>\n",
       "      <th>3</th>\n",
       "      <td>53.0</td>\n",
       "      <td>Paradise, CA</td>\n",
       "      <td>1.070000e+18</td>\n",
       "      <td>.@stucam7771 nailed it! the man in the white h...</td>\n",
       "      <td>2018-11-24 11:29:40+00:00</td>\n",
       "      <td>NaN</td>\n",
       "      <td>XLComedy</td>\n",
       "      <td>@stucam7771</td>\n",
       "      <td>1</td>\n",
       "      <td>0</td>\n",
       "      <td>...</td>\n",
       "      <td>24</td>\n",
       "      <td>11</td>\n",
       "      <td>29</td>\n",
       "      <td>1</td>\n",
       "      <td>1</td>\n",
       "      <td>.@Stucam7771 nailed it! The man in the White H...</td>\n",
       "      <td>1</td>\n",
       "      <td>Paradise, CA</td>\n",
       "      <td>1.0</td>\n",
       "      <td>Paradise, CA</td>\n",
       "    </tr>\n",
       "    <tr>\n",
       "      <th>4</th>\n",
       "      <td>201.0</td>\n",
       "      <td>Oroville, CA</td>\n",
       "      <td>1.060000e+18</td>\n",
       "      <td>‘merurica... #voted #uklastudios #uklapictures...</td>\n",
       "      <td>2018-11-07 02:02:51+00:00</td>\n",
       "      <td>#voted #uklastudios #uklapictures</td>\n",
       "      <td>UKLA_Music</td>\n",
       "      <td>NaN</td>\n",
       "      <td>0</td>\n",
       "      <td>0</td>\n",
       "      <td>...</td>\n",
       "      <td>7</td>\n",
       "      <td>2</td>\n",
       "      <td>2</td>\n",
       "      <td>0</td>\n",
       "      <td>0</td>\n",
       "      <td>‘Merurica... #voted #uklastudios #uklapictures...</td>\n",
       "      <td>0</td>\n",
       "      <td>Gridley, CA</td>\n",
       "      <td>1.0</td>\n",
       "      <td>Gridley, CA</td>\n",
       "    </tr>\n",
       "  </tbody>\n",
       "</table>\n",
       "<p>5 rows × 21 columns</p>\n",
       "</div>"
      ],
      "text/plain": [
       "   tweet_count          City            id  \\\n",
       "0        366.0  Paradise, CA  1.060000e+18   \n",
       "1        700.0  Paradise, CA  1.060000e+18   \n",
       "2        494.0  Paradise, CA  1.060000e+18   \n",
       "3         53.0  Paradise, CA  1.070000e+18   \n",
       "4        201.0  Oroville, CA  1.060000e+18   \n",
       "\n",
       "                                          tweet_text  \\\n",
       "0  ::paradise baby:: meet jd, the grandson of my ...   \n",
       "1  ¡coño! #campfire @chico, california https://ww...   \n",
       "2  . . . . . #photography #instapics #photographe...   \n",
       "3  .@stucam7771 nailed it! the man in the white h...   \n",
       "4  ‘merurica... #voted #uklastudios #uklapictures...   \n",
       "\n",
       "                   timestamp  \\\n",
       "0  2018-11-16 16:31:06+00:00   \n",
       "1  2018-11-09 19:29:06+00:00   \n",
       "2  2018-11-13 15:51:31+00:00   \n",
       "3  2018-11-24 11:29:40+00:00   \n",
       "4  2018-11-07 02:02:51+00:00   \n",
       "\n",
       "                                            hashtags        username  \\\n",
       "0                                          #campfire        trekcass   \n",
       "1                                          #CampFire             VXO   \n",
       "2  #photography #instapics #photographersofig #pi...  sidewayseightp   \n",
       "3                                                NaN        XLComedy   \n",
       "4                  #voted #uklastudios #uklapictures      UKLA_Music   \n",
       "\n",
       "      mentions  rewtweets  replies  ... day  hour  minute  during_fire  \\\n",
       "0   @JulieRems          0        0  ...  16    16      31            1   \n",
       "1          NaN          0        0  ...   9    19      29            1   \n",
       "2          NaN          0        0  ...  13    15      51            1   \n",
       "3  @stucam7771          1        0  ...  24    11      29            1   \n",
       "4          NaN          0        0  ...   7     2       2            0   \n",
       "\n",
       "   is-fire-related                                         text_nourl  \\\n",
       "0                1  ::paradise baby:: meet JD, the grandson of my ...   \n",
       "1                1               ¡Coño! #CampFire @Chico, California    \n",
       "2                0  . . . . . #photography #instapics #photographe...   \n",
       "3                1  .@Stucam7771 nailed it! The man in the White H...   \n",
       "4                0  ‘Merurica... #voted #uklastudios #uklapictures...   \n",
       "\n",
       "  key_score  from_locations sent       locs_no  \n",
       "0         2    Paradise, CA  1.0  Paradise, CA  \n",
       "1         1       Chico, CA  1.0     Chico, CA  \n",
       "2         0       Chico, CA  1.0     Chico, CA  \n",
       "3         1    Paradise, CA  1.0  Paradise, CA  \n",
       "4         0     Gridley, CA  1.0   Gridley, CA  \n",
       "\n",
       "[5 rows x 21 columns]"
      ]
     },
     "execution_count": 32,
     "metadata": {},
     "output_type": "execute_result"
    }
   ],
   "source": [
    "df['locs_no'] = df['from_locations']\n",
    "df.head()"
   ]
  },
  {
   "cell_type": "code",
   "execution_count": 34,
   "metadata": {
    "ExecuteTime": {
     "end_time": "2020-05-14T21:50:44.694156Z",
     "start_time": "2020-05-14T21:50:44.689513Z"
    }
   },
   "outputs": [],
   "source": [
    "all_cities = ['Chico, CA', 'California, USA', 'Sacramento, CA', 'Reno, NV',\n",
    "       'Rocklin, CA', 'Folsom, CA', 'Oroville, CA', 'Florin, CA',\n",
    "       'Nevada City, CA', 'Yountville, CA', 'Redding, CA', 'Linda, CA',\n",
    "       'Magalia, CA', 'Paradise, CA', 'nolocationfound', 'Durham, CA',\n",
    "       'Napa, CA', 'Glen Ellen, CA', 'Oroville East, CA',\n",
    "       'South Oroville, CA', 'Thermalito, CA', 'Gridley, CA']\n",
    "\n",
    "butte_cty = ['Chico, CA',  'Oroville, CA', 'Magalia, CA', 'Paradise, CA',  \n",
    "             'Durham, CA', 'Oroville East, CA', 'South Oroville, CA', \n",
    "             'Thermalito, CA', 'Gridley, CA']\n",
    "\n",
    "not_butte = ['California, USA', 'Sacramento, CA', 'Reno, NV','Rocklin, CA', \n",
    "             'Folsom, CA', 'Florin, CA','Nevada City, CA', 'Yountville, CA', \n",
    "             'Redding, CA', 'Linda, CA', 'nolocationfound', 'Napa, CA', \n",
    "             'Glen Ellen, CA',]"
   ]
  },
  {
   "cell_type": "code",
   "execution_count": 35,
   "metadata": {
    "ExecuteTime": {
     "end_time": "2020-05-14T21:50:46.583582Z",
     "start_time": "2020-05-14T21:50:46.579552Z"
    }
   },
   "outputs": [],
   "source": [
    "df['locs_no'] = df['locs_no'].replace(['Chico, CA',  'Oroville, CA', 'Magalia, CA', 'Paradise, CA',  \n",
    "             'Durham, CA', 'Oroville East, CA', 'South Oroville, CA', \n",
    "             'Thermalito, CA', 'Gridley, CA'], 1)"
   ]
  },
  {
   "cell_type": "code",
   "execution_count": 36,
   "metadata": {
    "ExecuteTime": {
     "end_time": "2020-05-14T21:50:47.001446Z",
     "start_time": "2020-05-14T21:50:46.997014Z"
    }
   },
   "outputs": [],
   "source": [
    "df['locs_no'] = df['locs_no'].replace(['California, USA', 'Sacramento, CA', 'Reno, NV','Rocklin, CA', \n",
    "             'Folsom, CA', 'Florin, CA','Nevada City, CA', 'Yountville, CA', \n",
    "             'Redding, CA', 'Linda, CA', 'nolocationfound', 'Napa, CA', \n",
    "             'Glen Ellen, CA',], 0)"
   ]
  },
  {
   "cell_type": "code",
   "execution_count": null,
   "metadata": {},
   "outputs": [],
   "source": [
    "df.head()"
   ]
  },
  {
   "cell_type": "code",
   "execution_count": 37,
   "metadata": {
    "ExecuteTime": {
     "end_time": "2020-05-14T21:50:48.316295Z",
     "start_time": "2020-05-14T21:50:48.312159Z"
    }
   },
   "outputs": [],
   "source": [
    "df_cluster = df[['key_score', 'locs_no']]"
   ]
  },
  {
   "cell_type": "code",
   "execution_count": 39,
   "metadata": {
    "ExecuteTime": {
     "end_time": "2020-05-14T21:50:56.761863Z",
     "start_time": "2020-05-14T21:50:56.754726Z"
    },
    "collapsed": true
   },
   "outputs": [
    {
     "data": {
      "text/plain": [
       "376     2018-11-01 00:10:34+00:00\n",
       "554     2018-11-01 00:12:17+00:00\n",
       "551     2018-11-01 00:12:58+00:00\n",
       "697     2018-11-01 00:18:43+00:00\n",
       "698     2018-11-01 00:19:37+00:00\n",
       "                  ...            \n",
       "881     2018-11-25 23:45:36+00:00\n",
       "968     2018-11-25 23:48:52+00:00\n",
       "419     2018-11-25 23:51:06+00:00\n",
       "1104    2018-11-25 23:54:12+00:00\n",
       "735     2018-11-25 23:58:04+00:00\n",
       "Name: timestamp, Length: 1130, dtype: object"
      ]
     },
     "execution_count": 39,
     "metadata": {},
     "output_type": "execute_result"
    }
   ],
   "source": [
    "df['timestamp'].sort_values()"
   ]
  },
  {
   "cell_type": "code",
   "execution_count": null,
   "metadata": {},
   "outputs": [],
   "source": [
    "import chart_studio.plotly as py \n",
    "import plotly.graph_objs as go \n",
    "import plotly.express as px"
   ]
  },
  {
   "cell_type": "code",
   "execution_count": null,
   "metadata": {},
   "outputs": [],
   "source": [
    "# Simple line graph of apple high prices\n",
    "fig = px.line(df, # data\n",
    "             x = 'timestamp', # date for x-axis\n",
    "             y = 'key_score' ) # plot close price\n",
    "fig.show()"
   ]
  }
 ],
 "metadata": {
  "kernelspec": {
   "display_name": "Python 3",
   "language": "python",
   "name": "python3"
  },
  "language_info": {
   "codemirror_mode": {
    "name": "ipython",
    "version": 3
   },
   "file_extension": ".py",
   "mimetype": "text/x-python",
   "name": "python",
   "nbconvert_exporter": "python",
   "pygments_lexer": "ipython3",
   "version": "3.7.6"
  }
 },
 "nbformat": 4,
 "nbformat_minor": 4
}
