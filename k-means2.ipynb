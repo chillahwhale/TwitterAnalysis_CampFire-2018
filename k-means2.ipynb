{
 "cells": [
  {
   "cell_type": "code",
   "execution_count": 1,
   "metadata": {
    "ExecuteTime": {
     "end_time": "2020-05-14T21:47:42.555033Z",
     "start_time": "2020-05-14T21:47:41.235602Z"
    }
   },
   "outputs": [],
   "source": [
    "import numpy as np\n",
    "import pandas as pd\n",
    "import matplotlib.pyplot as plt\n",
    "from sklearn.cluster import KMeans\n",
    "from sklearn.metrics import silhouette_score\n",
    "from sklearn.preprocessing import StandardScaler\n",
    "from sklearn.feature_extraction.text import TfidfVectorizer, CountVectorizer\n",
    "\n",
    "%matplotlib inline"
   ]
  },
  {
   "cell_type": "code",
   "execution_count": 2,
   "metadata": {
    "ExecuteTime": {
     "end_time": "2020-05-14T21:47:43.164691Z",
     "start_time": "2020-05-14T21:47:43.145918Z"
    }
   },
   "outputs": [
    {
     "data": {
      "text/plain": [
       "(1130, 20)"
      ]
     },
     "execution_count": 2,
     "metadata": {},
     "output_type": "execute_result"
    }
   ],
   "source": [
    "df = pd.read_csv('./datasets/stacked_sentiment_again.csv')\n",
    "df.shape"
   ]
  },
  {
   "cell_type": "markdown",
   "metadata": {},
   "source": [
    "### basic k-means on all text\n",
    "- follow steps in [this](https://towardsdatascience.com/applying-machine-learning-to-classify-an-unsupervised-text-document-e7bb6265f52) article"
   ]
  },
  {
   "cell_type": "code",
   "execution_count": 3,
   "metadata": {
    "ExecuteTime": {
     "end_time": "2020-05-14T21:47:44.317702Z",
     "start_time": "2020-05-14T21:47:44.288582Z"
    }
   },
   "outputs": [],
   "source": [
    "vectorizer = TfidfVectorizer(stop_words='english')\n",
    "X = vectorizer.fit_transform(df['text_nourl'])"
   ]
  },
  {
   "cell_type": "code",
   "execution_count": 4,
   "metadata": {
    "ExecuteTime": {
     "end_time": "2020-05-14T21:47:45.108366Z",
     "start_time": "2020-05-14T21:47:44.786729Z"
    }
   },
   "outputs": [
    {
     "data": {
      "text/plain": [
       "KMeans(algorithm='auto', copy_x=True, init='k-means++', max_iter=100,\n",
       "       n_clusters=3, n_init=1, n_jobs=None, precompute_distances='auto',\n",
       "       random_state=None, tol=0.0001, verbose=0)"
      ]
     },
     "execution_count": 4,
     "metadata": {},
     "output_type": "execute_result"
    }
   ],
   "source": [
    "true_k = 3\n",
    "model = KMeans(n_clusters=true_k, init='k-means++', max_iter=100, n_init=1)\n",
    "model.fit(X)"
   ]
  },
  {
   "cell_type": "code",
   "execution_count": 5,
   "metadata": {
    "ExecuteTime": {
     "end_time": "2020-05-14T21:47:48.208852Z",
     "start_time": "2020-05-14T21:47:48.203082Z"
    }
   },
   "outputs": [],
   "source": [
    "order_centroids = model.cluster_centers_.argsort()[:, ::-1]\n",
    "terms = vectorizer.get_feature_names()"
   ]
  },
  {
   "cell_type": "code",
   "execution_count": null,
   "metadata": {
    "ExecuteTime": {
     "end_time": "2020-05-14T21:41:01.713891Z",
     "start_time": "2020-05-14T21:41:01.709512Z"
    }
   },
   "outputs": [],
   "source": [
    "for i in range(true_k):\n",
    "    print(f'Cluster %d:' % i),\n",
    "    for ind in order_centroids[i, :10]:\n",
    "        print(f'%s' % terms[ind])"
   ]
  },
  {
   "cell_type": "code",
   "execution_count": 6,
   "metadata": {
    "ExecuteTime": {
     "end_time": "2020-05-14T21:47:57.374285Z",
     "start_time": "2020-05-14T21:47:57.368758Z"
    }
   },
   "outputs": [
    {
     "name": "stdout",
     "output_type": "stream",
     "text": [
      "\n",
      "Prediction\n",
      "[0]\n"
     ]
    }
   ],
   "source": [
    "print('')\n",
    "print('Prediction')\n",
    "X = vectorizer.transform(['Nothing is easy in cricket. Maybe when you watch it on TV, it looks easy. But it is not. You have to use your brain and time the ball.'])\n",
    "predicted = model.predict(X)\n",
    "print(predicted)"
   ]
  },
  {
   "cell_type": "markdown",
   "metadata": {},
   "source": [
    "### basic k-means on fire text\n",
    "- follow steps in [this](https://towardsdatascience.com/applying-machine-learning-to-classify-an-unsupervised-text-document-e7bb6265f52) article"
   ]
  },
  {
   "cell_type": "code",
   "execution_count": null,
   "metadata": {},
   "outputs": [],
   "source": [
    "df.columns"
   ]
  },
  {
   "cell_type": "code",
   "execution_count": 18,
   "metadata": {
    "ExecuteTime": {
     "end_time": "2020-05-14T21:49:06.832387Z",
     "start_time": "2020-05-14T21:49:06.826895Z"
    }
   },
   "outputs": [
    {
     "data": {
      "text/plain": [
       "(616, 20)"
      ]
     },
     "execution_count": 18,
     "metadata": {},
     "output_type": "execute_result"
    }
   ],
   "source": [
    "fire = df[(df['is-fire-related'] == 1)].copy()\n",
    "fire.shape"
   ]
  },
  {
   "cell_type": "code",
   "execution_count": 19,
   "metadata": {
    "ExecuteTime": {
     "end_time": "2020-05-14T21:49:09.238052Z",
     "start_time": "2020-05-14T21:49:09.165373Z"
    }
   },
   "outputs": [
    {
     "data": {
      "text/plain": [
       "KMeans(algorithm='auto', copy_x=True, init='k-means++', max_iter=100,\n",
       "       n_clusters=3, n_init=1, n_jobs=None, precompute_distances='auto',\n",
       "       random_state=None, tol=0.0001, verbose=0)"
      ]
     },
     "execution_count": 19,
     "metadata": {},
     "output_type": "execute_result"
    }
   ],
   "source": [
    "vectorizer = TfidfVectorizer(stop_words='english')\n",
    "X = vectorizer.fit_transform(fire['text_nourl'])\n",
    "\n",
    "true_k = 3\n",
    "model = KMeans(n_clusters=true_k, init='k-means++', max_iter=100, n_init=1)\n",
    "model.fit(X)"
   ]
  },
  {
   "cell_type": "code",
   "execution_count": 20,
   "metadata": {
    "ExecuteTime": {
     "end_time": "2020-05-14T21:49:09.663886Z",
     "start_time": "2020-05-14T21:49:09.659632Z"
    }
   },
   "outputs": [],
   "source": [
    "order_centroids = model.cluster_centers_.argsort()[:, ::-1]\n",
    "terms = vectorizer.get_feature_names()"
   ]
  },
  {
   "cell_type": "code",
   "execution_count": 21,
   "metadata": {
    "ExecuteTime": {
     "end_time": "2020-05-14T21:49:10.258197Z",
     "start_time": "2020-05-14T21:49:10.254025Z"
    }
   },
   "outputs": [
    {
     "name": "stdout",
     "output_type": "stream",
     "text": [
      "Cluster 0:\n",
      "ca\n",
      "info\n",
      "unofficial\n",
      "disclaimers\n",
      "incorrect\n",
      "officials\n",
      "safety\n",
      "images\n",
      "sacramento\n",
      "update\n",
      "Cluster 1:\n",
      "took\n",
      "forget\n",
      "hoping\n",
      "away\n",
      "return\n",
      "lost\n",
      "day\n",
      "replace\n",
      "able\n",
      "paradise\n",
      "Cluster 2:\n",
      "california\n",
      "chico\n",
      "camp\n",
      "paradise\n",
      "rd\n",
      "ca\n",
      "campfire\n",
      "traffic\n",
      "closure\n",
      "nb\n"
     ]
    }
   ],
   "source": [
    "for i in range(true_k):\n",
    "    print(f'Cluster %d:' % i),\n",
    "    for ind in order_centroids[i, :10]:\n",
    "        print(f'%s' % terms[ind])"
   ]
  },
  {
   "cell_type": "code",
   "execution_count": 22,
   "metadata": {
    "ExecuteTime": {
     "end_time": "2020-05-14T21:49:10.759048Z",
     "start_time": "2020-05-14T21:49:10.757019Z"
    }
   },
   "outputs": [],
   "source": [
    "# 3 clusters\n",
    "# cluster 0: information-related\n",
    "# cluster 1: traffic-related\n",
    "# cluster 2: emotional"
   ]
  },
  {
   "cell_type": "code",
   "execution_count": 23,
   "metadata": {
    "ExecuteTime": {
     "end_time": "2020-05-14T21:49:11.510939Z",
     "start_time": "2020-05-14T21:49:11.432054Z"
    }
   },
   "outputs": [
    {
     "data": {
      "text/plain": [
       "KMeans(algorithm='auto', copy_x=True, init='k-means++', max_iter=100,\n",
       "       n_clusters=5, n_init=1, n_jobs=None, precompute_distances='auto',\n",
       "       random_state=None, tol=0.0001, verbose=0)"
      ]
     },
     "execution_count": 23,
     "metadata": {},
     "output_type": "execute_result"
    }
   ],
   "source": [
    "true_k = 5\n",
    "model = KMeans(n_clusters=true_k, init='k-means++', max_iter=100, n_init=1)\n",
    "model.fit(X)"
   ]
  },
  {
   "cell_type": "code",
   "execution_count": 24,
   "metadata": {
    "ExecuteTime": {
     "end_time": "2020-05-14T21:49:12.016000Z",
     "start_time": "2020-05-14T21:49:12.011531Z"
    }
   },
   "outputs": [],
   "source": [
    "order_centroids = model.cluster_centers_.argsort()[:, ::-1]\n",
    "terms = vectorizer.get_feature_names()"
   ]
  },
  {
   "cell_type": "code",
   "execution_count": 25,
   "metadata": {
    "ExecuteTime": {
     "end_time": "2020-05-14T21:49:12.908216Z",
     "start_time": "2020-05-14T21:49:12.902984Z"
    }
   },
   "outputs": [
    {
     "name": "stdout",
     "output_type": "stream",
     "text": [
      "Cluster 0:\n",
      "california\n",
      "chico\n",
      "paradise\n",
      "campfire\n",
      "just\n",
      "camp\n",
      "calfire\n",
      "butte\n",
      "posted\n",
      "people\n",
      "Cluster 1:\n",
      "took\n",
      "forget\n",
      "hoping\n",
      "away\n",
      "return\n",
      "lost\n",
      "day\n",
      "replace\n",
      "able\n",
      "paradise\n",
      "Cluster 2:\n",
      "rd\n",
      "traffic\n",
      "closure\n",
      "ca\n",
      "nb\n",
      "sb\n",
      "camp\n",
      "89\n",
      "hwy\n",
      "70\n",
      "Cluster 3:\n",
      "ca\n",
      "info\n",
      "unofficial\n",
      "disclaimers\n",
      "incorrect\n",
      "officials\n",
      "safety\n",
      "images\n",
      "sacramento\n",
      "update\n",
      "Cluster 4:\n",
      "family\n",
      "friends\n",
      "families\n",
      "life\n",
      "help\n",
      "paradise\n",
      "000\n",
      "ones\n",
      "today\n",
      "affected\n"
     ]
    }
   ],
   "source": [
    "for i in range(true_k):\n",
    "    print(f'Cluster %d:' % i),\n",
    "    for ind in order_centroids[i, :10]:\n",
    "        print(f'%s' % terms[ind])"
   ]
  },
  {
   "cell_type": "code",
   "execution_count": 26,
   "metadata": {
    "ExecuteTime": {
     "end_time": "2020-05-14T21:49:13.888402Z",
     "start_time": "2020-05-14T21:49:13.886110Z"
    }
   },
   "outputs": [],
   "source": [
    "# 5 clusters:\n",
    "# 0: photo \n",
    "# 1: emotional (negative sentiment)\n",
    "# 2: traffic\n",
    "# 3: information\n",
    "# 4: emotional (positive sentiment)"
   ]
  },
  {
   "cell_type": "code",
   "execution_count": 27,
   "metadata": {
    "ExecuteTime": {
     "end_time": "2020-05-14T21:49:15.265069Z",
     "start_time": "2020-05-14T21:49:15.259232Z"
    }
   },
   "outputs": [
    {
     "name": "stdout",
     "output_type": "stream",
     "text": [
      "Prediction\n",
      "[0]\n"
     ]
    }
   ],
   "source": [
    "print('Prediction')\n",
    "X = vectorizer.transform(['Nothing is easy in cricket. Maybe when you watch it on TV, it looks easy. But it is not. You have to use your brain and time the ball.'])\n",
    "predicted = model.predict(X)\n",
    "print(predicted)"
   ]
  },
  {
   "cell_type": "code",
   "execution_count": 28,
   "metadata": {
    "ExecuteTime": {
     "end_time": "2020-05-14T21:49:16.333897Z",
     "start_time": "2020-05-14T21:49:16.315346Z"
    }
   },
   "outputs": [
    {
     "data": {
      "text/html": [
       "<div>\n",
       "<style scoped>\n",
       "    .dataframe tbody tr th:only-of-type {\n",
       "        vertical-align: middle;\n",
       "    }\n",
       "\n",
       "    .dataframe tbody tr th {\n",
       "        vertical-align: top;\n",
       "    }\n",
       "\n",
       "    .dataframe thead th {\n",
       "        text-align: right;\n",
       "    }\n",
       "</style>\n",
       "<table border=\"1\" class=\"dataframe\">\n",
       "  <thead>\n",
       "    <tr style=\"text-align: right;\">\n",
       "      <th></th>\n",
       "      <th>tweet_count</th>\n",
       "      <th>City</th>\n",
       "      <th>id</th>\n",
       "      <th>tweet_text</th>\n",
       "      <th>timestamp</th>\n",
       "      <th>hashtags</th>\n",
       "      <th>username</th>\n",
       "      <th>mentions</th>\n",
       "      <th>rewtweets</th>\n",
       "      <th>replies</th>\n",
       "      <th>link</th>\n",
       "      <th>day</th>\n",
       "      <th>hour</th>\n",
       "      <th>minute</th>\n",
       "      <th>during_fire</th>\n",
       "      <th>is-fire-related</th>\n",
       "      <th>text_nourl</th>\n",
       "      <th>key_score</th>\n",
       "      <th>from_locations</th>\n",
       "      <th>sent</th>\n",
       "    </tr>\n",
       "  </thead>\n",
       "  <tbody>\n",
       "    <tr>\n",
       "      <th>0</th>\n",
       "      <td>366.0</td>\n",
       "      <td>Paradise, CA</td>\n",
       "      <td>1.060000e+18</td>\n",
       "      <td>::paradise baby:: meet jd, the grandson of my ...</td>\n",
       "      <td>2018-11-16 16:31:06+00:00</td>\n",
       "      <td>#campfire</td>\n",
       "      <td>trekcass</td>\n",
       "      <td>@JulieRems</td>\n",
       "      <td>0</td>\n",
       "      <td>0</td>\n",
       "      <td>https://twitter.com/trekcass/status/1063469521...</td>\n",
       "      <td>16</td>\n",
       "      <td>16</td>\n",
       "      <td>31</td>\n",
       "      <td>1</td>\n",
       "      <td>1</td>\n",
       "      <td>::paradise baby:: meet JD, the grandson of my ...</td>\n",
       "      <td>2</td>\n",
       "      <td>Paradise, CA</td>\n",
       "      <td>1.0</td>\n",
       "    </tr>\n",
       "    <tr>\n",
       "      <th>1</th>\n",
       "      <td>700.0</td>\n",
       "      <td>Paradise, CA</td>\n",
       "      <td>1.060000e+18</td>\n",
       "      <td>¡coño! #campfire @chico, california https://ww...</td>\n",
       "      <td>2018-11-09 19:29:06+00:00</td>\n",
       "      <td>#CampFire</td>\n",
       "      <td>VXO</td>\n",
       "      <td>NaN</td>\n",
       "      <td>0</td>\n",
       "      <td>0</td>\n",
       "      <td>https://twitter.com/VXO/status/106097760184037...</td>\n",
       "      <td>9</td>\n",
       "      <td>19</td>\n",
       "      <td>29</td>\n",
       "      <td>1</td>\n",
       "      <td>1</td>\n",
       "      <td>¡Coño! #CampFire @Chico, California</td>\n",
       "      <td>1</td>\n",
       "      <td>Chico, CA</td>\n",
       "      <td>1.0</td>\n",
       "    </tr>\n",
       "    <tr>\n",
       "      <th>3</th>\n",
       "      <td>53.0</td>\n",
       "      <td>Paradise, CA</td>\n",
       "      <td>1.070000e+18</td>\n",
       "      <td>.@stucam7771 nailed it! the man in the white h...</td>\n",
       "      <td>2018-11-24 11:29:40+00:00</td>\n",
       "      <td>NaN</td>\n",
       "      <td>XLComedy</td>\n",
       "      <td>@stucam7771</td>\n",
       "      <td>1</td>\n",
       "      <td>0</td>\n",
       "      <td>https://twitter.com/XLComedy/status/1066292766...</td>\n",
       "      <td>24</td>\n",
       "      <td>11</td>\n",
       "      <td>29</td>\n",
       "      <td>1</td>\n",
       "      <td>1</td>\n",
       "      <td>.@Stucam7771 nailed it! The man in the White H...</td>\n",
       "      <td>1</td>\n",
       "      <td>Paradise, CA</td>\n",
       "      <td>1.0</td>\n",
       "    </tr>\n",
       "    <tr>\n",
       "      <th>5</th>\n",
       "      <td>429.0</td>\n",
       "      <td>Paradise, CA</td>\n",
       "      <td>1.060000e+18</td>\n",
       "      <td>“and the peace of god, which transcends all un...</td>\n",
       "      <td>2018-11-15 01:20:54+00:00</td>\n",
       "      <td>#firefighter #calfire #firstresponders</td>\n",
       "      <td>AaronComfortDog</td>\n",
       "      <td>NaN</td>\n",
       "      <td>1</td>\n",
       "      <td>0</td>\n",
       "      <td>https://twitter.com/AaronComfortDog/status/106...</td>\n",
       "      <td>15</td>\n",
       "      <td>1</td>\n",
       "      <td>20</td>\n",
       "      <td>1</td>\n",
       "      <td>1</td>\n",
       "      <td>“And the peace of God, which transcends all un...</td>\n",
       "      <td>2</td>\n",
       "      <td>Chico, CA</td>\n",
       "      <td>1.0</td>\n",
       "    </tr>\n",
       "    <tr>\n",
       "      <th>8</th>\n",
       "      <td>185.0</td>\n",
       "      <td>Paradise, CA</td>\n",
       "      <td>1.070000e+18</td>\n",
       "      <td>“from the ashes, a fire shall be woken, a ligh...</td>\n",
       "      <td>2018-11-20 23:28:54+00:00</td>\n",
       "      <td>NaN</td>\n",
       "      <td>Marcella_renai</td>\n",
       "      <td>NaN</td>\n",
       "      <td>0</td>\n",
       "      <td>0</td>\n",
       "      <td>https://twitter.com/Marcella_renai/status/1065...</td>\n",
       "      <td>20</td>\n",
       "      <td>23</td>\n",
       "      <td>28</td>\n",
       "      <td>1</td>\n",
       "      <td>1</td>\n",
       "      <td>“From the ashes, a fire shall be woken, A ligh...</td>\n",
       "      <td>1</td>\n",
       "      <td>Chico, CA</td>\n",
       "      <td>1.0</td>\n",
       "    </tr>\n",
       "  </tbody>\n",
       "</table>\n",
       "</div>"
      ],
      "text/plain": [
       "   tweet_count          City            id  \\\n",
       "0        366.0  Paradise, CA  1.060000e+18   \n",
       "1        700.0  Paradise, CA  1.060000e+18   \n",
       "3         53.0  Paradise, CA  1.070000e+18   \n",
       "5        429.0  Paradise, CA  1.060000e+18   \n",
       "8        185.0  Paradise, CA  1.070000e+18   \n",
       "\n",
       "                                          tweet_text  \\\n",
       "0  ::paradise baby:: meet jd, the grandson of my ...   \n",
       "1  ¡coño! #campfire @chico, california https://ww...   \n",
       "3  .@stucam7771 nailed it! the man in the white h...   \n",
       "5  “and the peace of god, which transcends all un...   \n",
       "8  “from the ashes, a fire shall be woken, a ligh...   \n",
       "\n",
       "                   timestamp                                hashtags  \\\n",
       "0  2018-11-16 16:31:06+00:00                               #campfire   \n",
       "1  2018-11-09 19:29:06+00:00                               #CampFire   \n",
       "3  2018-11-24 11:29:40+00:00                                     NaN   \n",
       "5  2018-11-15 01:20:54+00:00  #firefighter #calfire #firstresponders   \n",
       "8  2018-11-20 23:28:54+00:00                                     NaN   \n",
       "\n",
       "          username     mentions  rewtweets  replies  \\\n",
       "0         trekcass   @JulieRems          0        0   \n",
       "1              VXO          NaN          0        0   \n",
       "3         XLComedy  @stucam7771          1        0   \n",
       "5  AaronComfortDog          NaN          1        0   \n",
       "8   Marcella_renai          NaN          0        0   \n",
       "\n",
       "                                                link  day  hour  minute  \\\n",
       "0  https://twitter.com/trekcass/status/1063469521...   16    16      31   \n",
       "1  https://twitter.com/VXO/status/106097760184037...    9    19      29   \n",
       "3  https://twitter.com/XLComedy/status/1066292766...   24    11      29   \n",
       "5  https://twitter.com/AaronComfortDog/status/106...   15     1      20   \n",
       "8  https://twitter.com/Marcella_renai/status/1065...   20    23      28   \n",
       "\n",
       "   during_fire  is-fire-related  \\\n",
       "0            1                1   \n",
       "1            1                1   \n",
       "3            1                1   \n",
       "5            1                1   \n",
       "8            1                1   \n",
       "\n",
       "                                          text_nourl  key_score  \\\n",
       "0  ::paradise baby:: meet JD, the grandson of my ...          2   \n",
       "1               ¡Coño! #CampFire @Chico, California           1   \n",
       "3  .@Stucam7771 nailed it! The man in the White H...          1   \n",
       "5  “And the peace of God, which transcends all un...          2   \n",
       "8  “From the ashes, a fire shall be woken, A ligh...          1   \n",
       "\n",
       "  from_locations  sent  \n",
       "0   Paradise, CA   1.0  \n",
       "1      Chico, CA   1.0  \n",
       "3   Paradise, CA   1.0  \n",
       "5      Chico, CA   1.0  \n",
       "8      Chico, CA   1.0  "
      ]
     },
     "execution_count": 28,
     "metadata": {},
     "output_type": "execute_result"
    }
   ],
   "source": [
    "fire.head()"
   ]
  },
  {
   "cell_type": "code",
   "execution_count": 29,
   "metadata": {
    "ExecuteTime": {
     "end_time": "2020-05-14T21:49:18.148106Z",
     "start_time": "2020-05-14T21:49:17.760636Z"
    }
   },
   "outputs": [
    {
     "data": {
      "text/html": [
       "<div>\n",
       "<style scoped>\n",
       "    .dataframe tbody tr th:only-of-type {\n",
       "        vertical-align: middle;\n",
       "    }\n",
       "\n",
       "    .dataframe tbody tr th {\n",
       "        vertical-align: top;\n",
       "    }\n",
       "\n",
       "    .dataframe thead th {\n",
       "        text-align: right;\n",
       "    }\n",
       "</style>\n",
       "<table border=\"1\" class=\"dataframe\">\n",
       "  <thead>\n",
       "    <tr style=\"text-align: right;\">\n",
       "      <th></th>\n",
       "      <th>tweet_count</th>\n",
       "      <th>City</th>\n",
       "      <th>id</th>\n",
       "      <th>tweet_text</th>\n",
       "      <th>timestamp</th>\n",
       "      <th>hashtags</th>\n",
       "      <th>username</th>\n",
       "      <th>mentions</th>\n",
       "      <th>rewtweets</th>\n",
       "      <th>replies</th>\n",
       "      <th>...</th>\n",
       "      <th>day</th>\n",
       "      <th>hour</th>\n",
       "      <th>minute</th>\n",
       "      <th>during_fire</th>\n",
       "      <th>is-fire-related</th>\n",
       "      <th>text_nourl</th>\n",
       "      <th>key_score</th>\n",
       "      <th>from_locations</th>\n",
       "      <th>sent</th>\n",
       "      <th>clusters</th>\n",
       "    </tr>\n",
       "  </thead>\n",
       "  <tbody>\n",
       "    <tr>\n",
       "      <th>0</th>\n",
       "      <td>366.0</td>\n",
       "      <td>Paradise, CA</td>\n",
       "      <td>1.060000e+18</td>\n",
       "      <td>::paradise baby:: meet jd, the grandson of my ...</td>\n",
       "      <td>2018-11-16 16:31:06+00:00</td>\n",
       "      <td>#campfire</td>\n",
       "      <td>trekcass</td>\n",
       "      <td>@JulieRems</td>\n",
       "      <td>0</td>\n",
       "      <td>0</td>\n",
       "      <td>...</td>\n",
       "      <td>16</td>\n",
       "      <td>16</td>\n",
       "      <td>31</td>\n",
       "      <td>1</td>\n",
       "      <td>1</td>\n",
       "      <td>::paradise baby:: meet JD, the grandson of my ...</td>\n",
       "      <td>2</td>\n",
       "      <td>Paradise, CA</td>\n",
       "      <td>1.0</td>\n",
       "      <td>0</td>\n",
       "    </tr>\n",
       "    <tr>\n",
       "      <th>1</th>\n",
       "      <td>700.0</td>\n",
       "      <td>Paradise, CA</td>\n",
       "      <td>1.060000e+18</td>\n",
       "      <td>¡coño! #campfire @chico, california https://ww...</td>\n",
       "      <td>2018-11-09 19:29:06+00:00</td>\n",
       "      <td>#CampFire</td>\n",
       "      <td>VXO</td>\n",
       "      <td>NaN</td>\n",
       "      <td>0</td>\n",
       "      <td>0</td>\n",
       "      <td>...</td>\n",
       "      <td>9</td>\n",
       "      <td>19</td>\n",
       "      <td>29</td>\n",
       "      <td>1</td>\n",
       "      <td>1</td>\n",
       "      <td>¡Coño! #CampFire @Chico, California</td>\n",
       "      <td>1</td>\n",
       "      <td>Chico, CA</td>\n",
       "      <td>1.0</td>\n",
       "      <td>0</td>\n",
       "    </tr>\n",
       "    <tr>\n",
       "      <th>3</th>\n",
       "      <td>53.0</td>\n",
       "      <td>Paradise, CA</td>\n",
       "      <td>1.070000e+18</td>\n",
       "      <td>.@stucam7771 nailed it! the man in the white h...</td>\n",
       "      <td>2018-11-24 11:29:40+00:00</td>\n",
       "      <td>NaN</td>\n",
       "      <td>XLComedy</td>\n",
       "      <td>@stucam7771</td>\n",
       "      <td>1</td>\n",
       "      <td>0</td>\n",
       "      <td>...</td>\n",
       "      <td>24</td>\n",
       "      <td>11</td>\n",
       "      <td>29</td>\n",
       "      <td>1</td>\n",
       "      <td>1</td>\n",
       "      <td>.@Stucam7771 nailed it! The man in the White H...</td>\n",
       "      <td>1</td>\n",
       "      <td>Paradise, CA</td>\n",
       "      <td>1.0</td>\n",
       "      <td>0</td>\n",
       "    </tr>\n",
       "    <tr>\n",
       "      <th>5</th>\n",
       "      <td>429.0</td>\n",
       "      <td>Paradise, CA</td>\n",
       "      <td>1.060000e+18</td>\n",
       "      <td>“and the peace of god, which transcends all un...</td>\n",
       "      <td>2018-11-15 01:20:54+00:00</td>\n",
       "      <td>#firefighter #calfire #firstresponders</td>\n",
       "      <td>AaronComfortDog</td>\n",
       "      <td>NaN</td>\n",
       "      <td>1</td>\n",
       "      <td>0</td>\n",
       "      <td>...</td>\n",
       "      <td>15</td>\n",
       "      <td>1</td>\n",
       "      <td>20</td>\n",
       "      <td>1</td>\n",
       "      <td>1</td>\n",
       "      <td>“And the peace of God, which transcends all un...</td>\n",
       "      <td>2</td>\n",
       "      <td>Chico, CA</td>\n",
       "      <td>1.0</td>\n",
       "      <td>0</td>\n",
       "    </tr>\n",
       "    <tr>\n",
       "      <th>8</th>\n",
       "      <td>185.0</td>\n",
       "      <td>Paradise, CA</td>\n",
       "      <td>1.070000e+18</td>\n",
       "      <td>“from the ashes, a fire shall be woken, a ligh...</td>\n",
       "      <td>2018-11-20 23:28:54+00:00</td>\n",
       "      <td>NaN</td>\n",
       "      <td>Marcella_renai</td>\n",
       "      <td>NaN</td>\n",
       "      <td>0</td>\n",
       "      <td>0</td>\n",
       "      <td>...</td>\n",
       "      <td>20</td>\n",
       "      <td>23</td>\n",
       "      <td>28</td>\n",
       "      <td>1</td>\n",
       "      <td>1</td>\n",
       "      <td>“From the ashes, a fire shall be woken, A ligh...</td>\n",
       "      <td>1</td>\n",
       "      <td>Chico, CA</td>\n",
       "      <td>1.0</td>\n",
       "      <td>0</td>\n",
       "    </tr>\n",
       "  </tbody>\n",
       "</table>\n",
       "<p>5 rows × 21 columns</p>\n",
       "</div>"
      ],
      "text/plain": [
       "   tweet_count          City            id  \\\n",
       "0        366.0  Paradise, CA  1.060000e+18   \n",
       "1        700.0  Paradise, CA  1.060000e+18   \n",
       "3         53.0  Paradise, CA  1.070000e+18   \n",
       "5        429.0  Paradise, CA  1.060000e+18   \n",
       "8        185.0  Paradise, CA  1.070000e+18   \n",
       "\n",
       "                                          tweet_text  \\\n",
       "0  ::paradise baby:: meet jd, the grandson of my ...   \n",
       "1  ¡coño! #campfire @chico, california https://ww...   \n",
       "3  .@stucam7771 nailed it! the man in the white h...   \n",
       "5  “and the peace of god, which transcends all un...   \n",
       "8  “from the ashes, a fire shall be woken, a ligh...   \n",
       "\n",
       "                   timestamp                                hashtags  \\\n",
       "0  2018-11-16 16:31:06+00:00                               #campfire   \n",
       "1  2018-11-09 19:29:06+00:00                               #CampFire   \n",
       "3  2018-11-24 11:29:40+00:00                                     NaN   \n",
       "5  2018-11-15 01:20:54+00:00  #firefighter #calfire #firstresponders   \n",
       "8  2018-11-20 23:28:54+00:00                                     NaN   \n",
       "\n",
       "          username     mentions  rewtweets  replies  ... day  hour  minute  \\\n",
       "0         trekcass   @JulieRems          0        0  ...  16    16      31   \n",
       "1              VXO          NaN          0        0  ...   9    19      29   \n",
       "3         XLComedy  @stucam7771          1        0  ...  24    11      29   \n",
       "5  AaronComfortDog          NaN          1        0  ...  15     1      20   \n",
       "8   Marcella_renai          NaN          0        0  ...  20    23      28   \n",
       "\n",
       "   during_fire  is-fire-related  \\\n",
       "0            1                1   \n",
       "1            1                1   \n",
       "3            1                1   \n",
       "5            1                1   \n",
       "8            1                1   \n",
       "\n",
       "                                          text_nourl key_score  \\\n",
       "0  ::paradise baby:: meet JD, the grandson of my ...         2   \n",
       "1               ¡Coño! #CampFire @Chico, California          1   \n",
       "3  .@Stucam7771 nailed it! The man in the White H...         1   \n",
       "5  “And the peace of God, which transcends all un...         2   \n",
       "8  “From the ashes, a fire shall be woken, A ligh...         1   \n",
       "\n",
       "   from_locations sent  clusters  \n",
       "0    Paradise, CA  1.0         0  \n",
       "1       Chico, CA  1.0         0  \n",
       "3    Paradise, CA  1.0         0  \n",
       "5       Chico, CA  1.0         0  \n",
       "8       Chico, CA  1.0         0  \n",
       "\n",
       "[5 rows x 21 columns]"
      ]
     },
     "execution_count": 29,
     "metadata": {},
     "output_type": "execute_result"
    }
   ],
   "source": [
    "fire['clusters'] = fire['text_nourl'].apply(lambda x: int(model.predict(vectorizer.transform([x]))[0]))\n",
    "fire.head()"
   ]
  },
  {
   "cell_type": "code",
   "execution_count": null,
   "metadata": {
    "ExecuteTime": {
     "end_time": "2020-05-14T19:53:10.789539Z",
     "start_time": "2020-05-14T19:53:10.738769Z"
    }
   },
   "outputs": [],
   "source": [
    "fire[(fire['key_score'] > 0) & (fire['text_nourl'].str.contains('fire'))][['text_nourl', 'key_score', 'clusters']]"
   ]
  },
  {
   "cell_type": "code",
   "execution_count": 40,
   "metadata": {
    "ExecuteTime": {
     "end_time": "2020-05-14T21:51:30.493815Z",
     "start_time": "2020-05-14T21:51:30.469587Z"
    }
   },
   "outputs": [
    {
     "data": {
      "text/html": [
       "<div>\n",
       "<style scoped>\n",
       "    .dataframe tbody tr th:only-of-type {\n",
       "        vertical-align: middle;\n",
       "    }\n",
       "\n",
       "    .dataframe tbody tr th {\n",
       "        vertical-align: top;\n",
       "    }\n",
       "\n",
       "    .dataframe thead th {\n",
       "        text-align: right;\n",
       "    }\n",
       "</style>\n",
       "<table border=\"1\" class=\"dataframe\">\n",
       "  <thead>\n",
       "    <tr style=\"text-align: right;\">\n",
       "      <th></th>\n",
       "      <th>tweet_count</th>\n",
       "      <th>City</th>\n",
       "      <th>id</th>\n",
       "      <th>tweet_text</th>\n",
       "      <th>timestamp</th>\n",
       "      <th>hashtags</th>\n",
       "      <th>username</th>\n",
       "      <th>mentions</th>\n",
       "      <th>rewtweets</th>\n",
       "      <th>replies</th>\n",
       "      <th>...</th>\n",
       "      <th>day</th>\n",
       "      <th>hour</th>\n",
       "      <th>minute</th>\n",
       "      <th>during_fire</th>\n",
       "      <th>is-fire-related</th>\n",
       "      <th>text_nourl</th>\n",
       "      <th>key_score</th>\n",
       "      <th>from_locations</th>\n",
       "      <th>sent</th>\n",
       "      <th>clusters</th>\n",
       "    </tr>\n",
       "  </thead>\n",
       "  <tbody>\n",
       "    <tr>\n",
       "      <th>0</th>\n",
       "      <td>366.0</td>\n",
       "      <td>Paradise, CA</td>\n",
       "      <td>1.060000e+18</td>\n",
       "      <td>::paradise baby:: meet jd, the grandson of my ...</td>\n",
       "      <td>2018-11-16 16:31:06+00:00</td>\n",
       "      <td>#campfire</td>\n",
       "      <td>trekcass</td>\n",
       "      <td>@JulieRems</td>\n",
       "      <td>0</td>\n",
       "      <td>0</td>\n",
       "      <td>...</td>\n",
       "      <td>16</td>\n",
       "      <td>16</td>\n",
       "      <td>31</td>\n",
       "      <td>1</td>\n",
       "      <td>1</td>\n",
       "      <td>::paradise baby:: meet JD, the grandson of my ...</td>\n",
       "      <td>2</td>\n",
       "      <td>Paradise, CA</td>\n",
       "      <td>1.0</td>\n",
       "      <td>0</td>\n",
       "    </tr>\n",
       "    <tr>\n",
       "      <th>1</th>\n",
       "      <td>700.0</td>\n",
       "      <td>Paradise, CA</td>\n",
       "      <td>1.060000e+18</td>\n",
       "      <td>¡coño! #campfire @chico, california https://ww...</td>\n",
       "      <td>2018-11-09 19:29:06+00:00</td>\n",
       "      <td>#CampFire</td>\n",
       "      <td>VXO</td>\n",
       "      <td>NaN</td>\n",
       "      <td>0</td>\n",
       "      <td>0</td>\n",
       "      <td>...</td>\n",
       "      <td>9</td>\n",
       "      <td>19</td>\n",
       "      <td>29</td>\n",
       "      <td>1</td>\n",
       "      <td>1</td>\n",
       "      <td>¡Coño! #CampFire @Chico, California</td>\n",
       "      <td>1</td>\n",
       "      <td>Chico, CA</td>\n",
       "      <td>1.0</td>\n",
       "      <td>0</td>\n",
       "    </tr>\n",
       "    <tr>\n",
       "      <th>3</th>\n",
       "      <td>53.0</td>\n",
       "      <td>Paradise, CA</td>\n",
       "      <td>1.070000e+18</td>\n",
       "      <td>.@stucam7771 nailed it! the man in the white h...</td>\n",
       "      <td>2018-11-24 11:29:40+00:00</td>\n",
       "      <td>NaN</td>\n",
       "      <td>XLComedy</td>\n",
       "      <td>@stucam7771</td>\n",
       "      <td>1</td>\n",
       "      <td>0</td>\n",
       "      <td>...</td>\n",
       "      <td>24</td>\n",
       "      <td>11</td>\n",
       "      <td>29</td>\n",
       "      <td>1</td>\n",
       "      <td>1</td>\n",
       "      <td>.@Stucam7771 nailed it! The man in the White H...</td>\n",
       "      <td>1</td>\n",
       "      <td>Paradise, CA</td>\n",
       "      <td>1.0</td>\n",
       "      <td>0</td>\n",
       "    </tr>\n",
       "    <tr>\n",
       "      <th>5</th>\n",
       "      <td>429.0</td>\n",
       "      <td>Paradise, CA</td>\n",
       "      <td>1.060000e+18</td>\n",
       "      <td>“and the peace of god, which transcends all un...</td>\n",
       "      <td>2018-11-15 01:20:54+00:00</td>\n",
       "      <td>#firefighter #calfire #firstresponders</td>\n",
       "      <td>AaronComfortDog</td>\n",
       "      <td>NaN</td>\n",
       "      <td>1</td>\n",
       "      <td>0</td>\n",
       "      <td>...</td>\n",
       "      <td>15</td>\n",
       "      <td>1</td>\n",
       "      <td>20</td>\n",
       "      <td>1</td>\n",
       "      <td>1</td>\n",
       "      <td>“And the peace of God, which transcends all un...</td>\n",
       "      <td>2</td>\n",
       "      <td>Chico, CA</td>\n",
       "      <td>1.0</td>\n",
       "      <td>0</td>\n",
       "    </tr>\n",
       "    <tr>\n",
       "      <th>8</th>\n",
       "      <td>185.0</td>\n",
       "      <td>Paradise, CA</td>\n",
       "      <td>1.070000e+18</td>\n",
       "      <td>“from the ashes, a fire shall be woken, a ligh...</td>\n",
       "      <td>2018-11-20 23:28:54+00:00</td>\n",
       "      <td>NaN</td>\n",
       "      <td>Marcella_renai</td>\n",
       "      <td>NaN</td>\n",
       "      <td>0</td>\n",
       "      <td>0</td>\n",
       "      <td>...</td>\n",
       "      <td>20</td>\n",
       "      <td>23</td>\n",
       "      <td>28</td>\n",
       "      <td>1</td>\n",
       "      <td>1</td>\n",
       "      <td>“From the ashes, a fire shall be woken, A ligh...</td>\n",
       "      <td>1</td>\n",
       "      <td>Chico, CA</td>\n",
       "      <td>1.0</td>\n",
       "      <td>0</td>\n",
       "    </tr>\n",
       "  </tbody>\n",
       "</table>\n",
       "<p>5 rows × 21 columns</p>\n",
       "</div>"
      ],
      "text/plain": [
       "   tweet_count          City            id  \\\n",
       "0        366.0  Paradise, CA  1.060000e+18   \n",
       "1        700.0  Paradise, CA  1.060000e+18   \n",
       "3         53.0  Paradise, CA  1.070000e+18   \n",
       "5        429.0  Paradise, CA  1.060000e+18   \n",
       "8        185.0  Paradise, CA  1.070000e+18   \n",
       "\n",
       "                                          tweet_text  \\\n",
       "0  ::paradise baby:: meet jd, the grandson of my ...   \n",
       "1  ¡coño! #campfire @chico, california https://ww...   \n",
       "3  .@stucam7771 nailed it! the man in the white h...   \n",
       "5  “and the peace of god, which transcends all un...   \n",
       "8  “from the ashes, a fire shall be woken, a ligh...   \n",
       "\n",
       "                   timestamp                                hashtags  \\\n",
       "0  2018-11-16 16:31:06+00:00                               #campfire   \n",
       "1  2018-11-09 19:29:06+00:00                               #CampFire   \n",
       "3  2018-11-24 11:29:40+00:00                                     NaN   \n",
       "5  2018-11-15 01:20:54+00:00  #firefighter #calfire #firstresponders   \n",
       "8  2018-11-20 23:28:54+00:00                                     NaN   \n",
       "\n",
       "          username     mentions  rewtweets  replies  ... day  hour  minute  \\\n",
       "0         trekcass   @JulieRems          0        0  ...  16    16      31   \n",
       "1              VXO          NaN          0        0  ...   9    19      29   \n",
       "3         XLComedy  @stucam7771          1        0  ...  24    11      29   \n",
       "5  AaronComfortDog          NaN          1        0  ...  15     1      20   \n",
       "8   Marcella_renai          NaN          0        0  ...  20    23      28   \n",
       "\n",
       "   during_fire  is-fire-related  \\\n",
       "0            1                1   \n",
       "1            1                1   \n",
       "3            1                1   \n",
       "5            1                1   \n",
       "8            1                1   \n",
       "\n",
       "                                          text_nourl key_score  \\\n",
       "0  ::paradise baby:: meet JD, the grandson of my ...         2   \n",
       "1               ¡Coño! #CampFire @Chico, California          1   \n",
       "3  .@Stucam7771 nailed it! The man in the White H...         1   \n",
       "5  “And the peace of God, which transcends all un...         2   \n",
       "8  “From the ashes, a fire shall be woken, A ligh...         1   \n",
       "\n",
       "   from_locations sent  clusters  \n",
       "0    Paradise, CA  1.0         0  \n",
       "1       Chico, CA  1.0         0  \n",
       "3    Paradise, CA  1.0         0  \n",
       "5       Chico, CA  1.0         0  \n",
       "8       Chico, CA  1.0         0  \n",
       "\n",
       "[5 rows x 21 columns]"
      ]
     },
     "execution_count": 40,
     "metadata": {},
     "output_type": "execute_result"
    }
   ],
   "source": [
    "fire.head()"
   ]
  },
  {
   "cell_type": "code",
   "execution_count": 41,
   "metadata": {
    "ExecuteTime": {
     "end_time": "2020-05-14T21:51:56.261033Z",
     "start_time": "2020-05-14T21:51:56.242918Z"
    }
   },
   "outputs": [],
   "source": [
    "fire.to_csv('./datasets/clustered_fires.csv', index = False)"
   ]
  },
  {
   "cell_type": "code",
   "execution_count": null,
   "metadata": {
    "ExecuteTime": {
     "end_time": "2020-05-14T19:48:26.831765Z",
     "start_time": "2020-05-14T19:48:26.828308Z"
    }
   },
   "outputs": [],
   "source": [
    "pd.set_option('display.max_rows', None)\n",
    "pd.set_option('display.max_colwidth', None)\n"
   ]
  },
  {
   "cell_type": "markdown",
   "metadata": {},
   "source": [
    "### chart k-means"
   ]
  },
  {
   "cell_type": "code",
   "execution_count": 30,
   "metadata": {
    "ExecuteTime": {
     "end_time": "2020-05-14T21:50:39.264430Z",
     "start_time": "2020-05-14T21:50:39.258477Z"
    }
   },
   "outputs": [
    {
     "data": {
      "text/plain": [
       "787     6\n",
       "1083    6\n",
       "716     6\n",
       "83      5\n",
       "85      5\n",
       "       ..\n",
       "620     0\n",
       "619     0\n",
       "618     0\n",
       "617     0\n",
       "564     0\n",
       "Name: key_score, Length: 1130, dtype: int64"
      ]
     },
     "execution_count": 30,
     "metadata": {},
     "output_type": "execute_result"
    }
   ],
   "source": [
    "df['key_score'].sort_values(ascending=False)"
   ]
  },
  {
   "cell_type": "code",
   "execution_count": null,
   "metadata": {},
   "outputs": [],
   "source": [
    "df.columns"
   ]
  },
  {
   "cell_type": "code",
   "execution_count": 31,
   "metadata": {
    "ExecuteTime": {
     "end_time": "2020-05-14T21:50:41.238184Z",
     "start_time": "2020-05-14T21:50:41.232279Z"
    }
   },
   "outputs": [
    {
     "data": {
      "text/plain": [
       "Chico, CA              487\n",
       "Paradise, CA           419\n",
       "Oroville, CA            71\n",
       "Butte County            46\n",
       "Magalia, CA             17\n",
       "Gridley, CA             14\n",
       "Sacramento, CA          13\n",
       "South Oroville, CA      13\n",
       "Durham, CA               7\n",
       "Thermalito, CA           5\n",
       "Folsom, CA               4\n",
       "Reno, NV                 3\n",
       "Carson City, NV          3\n",
       "Oroville East, CA        3\n",
       "Lodi, CA                 2\n",
       "Nevada City, CA          2\n",
       "Redding, CA              2\n",
       "nolocationfound          2\n",
       "Napa, CA                 2\n",
       "Sebastopol, CA           2\n",
       "Rocklin, CA              2\n",
       "Glen Ellen, CA           1\n",
       "Carnelian Bay, CA        1\n",
       "St Helena, CA            1\n",
       "Florin, CA               1\n",
       "Sonoma, CA               1\n",
       "Yountville, CA           1\n",
       "Lincoln, CA              1\n",
       "Incline Village, NV      1\n",
       "Truckee, CA              1\n",
       "Carmichael, CA           1\n",
       "Linda, CA                1\n",
       "Name: from_locations, dtype: int64"
      ]
     },
     "execution_count": 31,
     "metadata": {},
     "output_type": "execute_result"
    }
   ],
   "source": [
    "df['from_locations'].value_counts()"
   ]
  },
  {
   "cell_type": "code",
   "execution_count": 32,
   "metadata": {
    "ExecuteTime": {
     "end_time": "2020-05-14T21:50:42.303564Z",
     "start_time": "2020-05-14T21:50:42.278074Z"
    }
   },
   "outputs": [
    {
     "data": {
      "text/html": [
       "<div>\n",
       "<style scoped>\n",
       "    .dataframe tbody tr th:only-of-type {\n",
       "        vertical-align: middle;\n",
       "    }\n",
       "\n",
       "    .dataframe tbody tr th {\n",
       "        vertical-align: top;\n",
       "    }\n",
       "\n",
       "    .dataframe thead th {\n",
       "        text-align: right;\n",
       "    }\n",
       "</style>\n",
       "<table border=\"1\" class=\"dataframe\">\n",
       "  <thead>\n",
       "    <tr style=\"text-align: right;\">\n",
       "      <th></th>\n",
       "      <th>tweet_count</th>\n",
       "      <th>City</th>\n",
       "      <th>id</th>\n",
       "      <th>tweet_text</th>\n",
       "      <th>timestamp</th>\n",
       "      <th>hashtags</th>\n",
       "      <th>username</th>\n",
       "      <th>mentions</th>\n",
       "      <th>rewtweets</th>\n",
       "      <th>replies</th>\n",
       "      <th>...</th>\n",
       "      <th>day</th>\n",
       "      <th>hour</th>\n",
       "      <th>minute</th>\n",
       "      <th>during_fire</th>\n",
       "      <th>is-fire-related</th>\n",
       "      <th>text_nourl</th>\n",
       "      <th>key_score</th>\n",
       "      <th>from_locations</th>\n",
       "      <th>sent</th>\n",
       "      <th>locs_no</th>\n",
       "    </tr>\n",
       "  </thead>\n",
       "  <tbody>\n",
       "    <tr>\n",
       "      <th>0</th>\n",
       "      <td>366.0</td>\n",
       "      <td>Paradise, CA</td>\n",
       "      <td>1.060000e+18</td>\n",
       "      <td>::paradise baby:: meet jd, the grandson of my ...</td>\n",
       "      <td>2018-11-16 16:31:06+00:00</td>\n",
       "      <td>#campfire</td>\n",
       "      <td>trekcass</td>\n",
       "      <td>@JulieRems</td>\n",
       "      <td>0</td>\n",
       "      <td>0</td>\n",
       "      <td>...</td>\n",
       "      <td>16</td>\n",
       "      <td>16</td>\n",
       "      <td>31</td>\n",
       "      <td>1</td>\n",
       "      <td>1</td>\n",
       "      <td>::paradise baby:: meet JD, the grandson of my ...</td>\n",
       "      <td>2</td>\n",
       "      <td>Paradise, CA</td>\n",
       "      <td>1.0</td>\n",
       "      <td>Paradise, CA</td>\n",
       "    </tr>\n",
       "    <tr>\n",
       "      <th>1</th>\n",
       "      <td>700.0</td>\n",
       "      <td>Paradise, CA</td>\n",
       "      <td>1.060000e+18</td>\n",
       "      <td>¡coño! #campfire @chico, california https://ww...</td>\n",
       "      <td>2018-11-09 19:29:06+00:00</td>\n",
       "      <td>#CampFire</td>\n",
       "      <td>VXO</td>\n",
       "      <td>NaN</td>\n",
       "      <td>0</td>\n",
       "      <td>0</td>\n",
       "      <td>...</td>\n",
       "      <td>9</td>\n",
       "      <td>19</td>\n",
       "      <td>29</td>\n",
       "      <td>1</td>\n",
       "      <td>1</td>\n",
       "      <td>¡Coño! #CampFire @Chico, California</td>\n",
       "      <td>1</td>\n",
       "      <td>Chico, CA</td>\n",
       "      <td>1.0</td>\n",
       "      <td>Chico, CA</td>\n",
       "    </tr>\n",
       "    <tr>\n",
       "      <th>2</th>\n",
       "      <td>494.0</td>\n",
       "      <td>Paradise, CA</td>\n",
       "      <td>1.060000e+18</td>\n",
       "      <td>. . . . . #photography #instapics #photographe...</td>\n",
       "      <td>2018-11-13 15:51:31+00:00</td>\n",
       "      <td>#photography #instapics #photographersofig #pi...</td>\n",
       "      <td>sidewayseightp</td>\n",
       "      <td>NaN</td>\n",
       "      <td>0</td>\n",
       "      <td>0</td>\n",
       "      <td>...</td>\n",
       "      <td>13</td>\n",
       "      <td>15</td>\n",
       "      <td>51</td>\n",
       "      <td>1</td>\n",
       "      <td>0</td>\n",
       "      <td>. . . . . #photography #instapics #photographe...</td>\n",
       "      <td>0</td>\n",
       "      <td>Chico, CA</td>\n",
       "      <td>1.0</td>\n",
       "      <td>Chico, CA</td>\n",
       "    </tr>\n",
       "    <tr>\n",
       "      <th>3</th>\n",
       "      <td>53.0</td>\n",
       "      <td>Paradise, CA</td>\n",
       "      <td>1.070000e+18</td>\n",
       "      <td>.@stucam7771 nailed it! the man in the white h...</td>\n",
       "      <td>2018-11-24 11:29:40+00:00</td>\n",
       "      <td>NaN</td>\n",
       "      <td>XLComedy</td>\n",
       "      <td>@stucam7771</td>\n",
       "      <td>1</td>\n",
       "      <td>0</td>\n",
       "      <td>...</td>\n",
       "      <td>24</td>\n",
       "      <td>11</td>\n",
       "      <td>29</td>\n",
       "      <td>1</td>\n",
       "      <td>1</td>\n",
       "      <td>.@Stucam7771 nailed it! The man in the White H...</td>\n",
       "      <td>1</td>\n",
       "      <td>Paradise, CA</td>\n",
       "      <td>1.0</td>\n",
       "      <td>Paradise, CA</td>\n",
       "    </tr>\n",
       "    <tr>\n",
       "      <th>4</th>\n",
       "      <td>201.0</td>\n",
       "      <td>Oroville, CA</td>\n",
       "      <td>1.060000e+18</td>\n",
       "      <td>‘merurica... #voted #uklastudios #uklapictures...</td>\n",
       "      <td>2018-11-07 02:02:51+00:00</td>\n",
       "      <td>#voted #uklastudios #uklapictures</td>\n",
       "      <td>UKLA_Music</td>\n",
       "      <td>NaN</td>\n",
       "      <td>0</td>\n",
       "      <td>0</td>\n",
       "      <td>...</td>\n",
       "      <td>7</td>\n",
       "      <td>2</td>\n",
       "      <td>2</td>\n",
       "      <td>0</td>\n",
       "      <td>0</td>\n",
       "      <td>‘Merurica... #voted #uklastudios #uklapictures...</td>\n",
       "      <td>0</td>\n",
       "      <td>Gridley, CA</td>\n",
       "      <td>1.0</td>\n",
       "      <td>Gridley, CA</td>\n",
       "    </tr>\n",
       "  </tbody>\n",
       "</table>\n",
       "<p>5 rows × 21 columns</p>\n",
       "</div>"
      ],
      "text/plain": [
       "   tweet_count          City            id  \\\n",
       "0        366.0  Paradise, CA  1.060000e+18   \n",
       "1        700.0  Paradise, CA  1.060000e+18   \n",
       "2        494.0  Paradise, CA  1.060000e+18   \n",
       "3         53.0  Paradise, CA  1.070000e+18   \n",
       "4        201.0  Oroville, CA  1.060000e+18   \n",
       "\n",
       "                                          tweet_text  \\\n",
       "0  ::paradise baby:: meet jd, the grandson of my ...   \n",
       "1  ¡coño! #campfire @chico, california https://ww...   \n",
       "2  . . . . . #photography #instapics #photographe...   \n",
       "3  .@stucam7771 nailed it! the man in the white h...   \n",
       "4  ‘merurica... #voted #uklastudios #uklapictures...   \n",
       "\n",
       "                   timestamp  \\\n",
       "0  2018-11-16 16:31:06+00:00   \n",
       "1  2018-11-09 19:29:06+00:00   \n",
       "2  2018-11-13 15:51:31+00:00   \n",
       "3  2018-11-24 11:29:40+00:00   \n",
       "4  2018-11-07 02:02:51+00:00   \n",
       "\n",
       "                                            hashtags        username  \\\n",
       "0                                          #campfire        trekcass   \n",
       "1                                          #CampFire             VXO   \n",
       "2  #photography #instapics #photographersofig #pi...  sidewayseightp   \n",
       "3                                                NaN        XLComedy   \n",
       "4                  #voted #uklastudios #uklapictures      UKLA_Music   \n",
       "\n",
       "      mentions  rewtweets  replies  ... day  hour  minute  during_fire  \\\n",
       "0   @JulieRems          0        0  ...  16    16      31            1   \n",
       "1          NaN          0        0  ...   9    19      29            1   \n",
       "2          NaN          0        0  ...  13    15      51            1   \n",
       "3  @stucam7771          1        0  ...  24    11      29            1   \n",
       "4          NaN          0        0  ...   7     2       2            0   \n",
       "\n",
       "   is-fire-related                                         text_nourl  \\\n",
       "0                1  ::paradise baby:: meet JD, the grandson of my ...   \n",
       "1                1               ¡Coño! #CampFire @Chico, California    \n",
       "2                0  . . . . . #photography #instapics #photographe...   \n",
       "3                1  .@Stucam7771 nailed it! The man in the White H...   \n",
       "4                0  ‘Merurica... #voted #uklastudios #uklapictures...   \n",
       "\n",
       "  key_score  from_locations sent       locs_no  \n",
       "0         2    Paradise, CA  1.0  Paradise, CA  \n",
       "1         1       Chico, CA  1.0     Chico, CA  \n",
       "2         0       Chico, CA  1.0     Chico, CA  \n",
       "3         1    Paradise, CA  1.0  Paradise, CA  \n",
       "4         0     Gridley, CA  1.0   Gridley, CA  \n",
       "\n",
       "[5 rows x 21 columns]"
      ]
     },
     "execution_count": 32,
     "metadata": {},
     "output_type": "execute_result"
    }
   ],
   "source": [
    "df['locs_no'] = df['from_locations']\n",
    "df.head()"
   ]
  },
  {
   "cell_type": "code",
   "execution_count": 33,
   "metadata": {
    "ExecuteTime": {
     "end_time": "2020-05-14T21:50:43.768605Z",
     "start_time": "2020-05-14T21:50:43.764233Z"
    }
   },
   "outputs": [
    {
     "data": {
      "text/plain": [
       "array(['Paradise, CA', 'Chico, CA', 'Gridley, CA', 'Oroville, CA',\n",
       "       'nolocationfound', 'Magalia, CA', 'South Oroville, CA',\n",
       "       'Durham, CA', 'Nevada City, CA', 'Sacramento, CA', 'Reno, NV',\n",
       "       'Carson City, NV', 'Butte County', 'Folsom, CA', 'Sebastopol, CA',\n",
       "       'Napa, CA', 'Carnelian Bay, CA', 'Sonoma, CA', 'Lodi, CA',\n",
       "       'Carmichael, CA', 'Rocklin, CA', 'Redding, CA', 'Thermalito, CA',\n",
       "       'Florin, CA', 'Linda, CA', 'Truckee, CA', 'Glen Ellen, CA',\n",
       "       'St Helena, CA', 'Yountville, CA', 'Lincoln, CA',\n",
       "       'Oroville East, CA', 'Incline Village, NV'], dtype=object)"
      ]
     },
     "execution_count": 33,
     "metadata": {},
     "output_type": "execute_result"
    }
   ],
   "source": [
    "df['from_locations'].unique()"
   ]
  },
  {
   "cell_type": "code",
   "execution_count": 34,
   "metadata": {
    "ExecuteTime": {
     "end_time": "2020-05-14T21:50:44.694156Z",
     "start_time": "2020-05-14T21:50:44.689513Z"
    }
   },
   "outputs": [],
   "source": [
    "all_cities = ['Chico, CA', 'California, USA', 'Sacramento, CA', 'Reno, NV',\n",
    "       'Rocklin, CA', 'Folsom, CA', 'Oroville, CA', 'Florin, CA',\n",
    "       'Nevada City, CA', 'Yountville, CA', 'Redding, CA', 'Linda, CA',\n",
    "       'Magalia, CA', 'Paradise, CA', 'nolocationfound', 'Durham, CA',\n",
    "       'Napa, CA', 'Glen Ellen, CA', 'Oroville East, CA',\n",
    "       'South Oroville, CA', 'Thermalito, CA', 'Gridley, CA']\n",
    "\n",
    "butte_cty = ['Chico, CA',  'Oroville, CA', 'Magalia, CA', 'Paradise, CA',  \n",
    "             'Durham, CA', 'Oroville East, CA', 'South Oroville, CA', \n",
    "             'Thermalito, CA', 'Gridley, CA']\n",
    "\n",
    "not_butte = ['California, USA', 'Sacramento, CA', 'Reno, NV','Rocklin, CA', \n",
    "             'Folsom, CA', 'Florin, CA','Nevada City, CA', 'Yountville, CA', \n",
    "             'Redding, CA', 'Linda, CA', 'nolocationfound', 'Napa, CA', \n",
    "             'Glen Ellen, CA',]"
   ]
  },
  {
   "cell_type": "code",
   "execution_count": 35,
   "metadata": {
    "ExecuteTime": {
     "end_time": "2020-05-14T21:50:46.583582Z",
     "start_time": "2020-05-14T21:50:46.579552Z"
    }
   },
   "outputs": [],
   "source": [
    "df['locs_no'] = df['locs_no'].replace(['Chico, CA',  'Oroville, CA', 'Magalia, CA', 'Paradise, CA',  \n",
    "             'Durham, CA', 'Oroville East, CA', 'South Oroville, CA', \n",
    "             'Thermalito, CA', 'Gridley, CA'], 1)"
   ]
  },
  {
   "cell_type": "code",
   "execution_count": 36,
   "metadata": {
    "ExecuteTime": {
     "end_time": "2020-05-14T21:50:47.001446Z",
     "start_time": "2020-05-14T21:50:46.997014Z"
    }
   },
   "outputs": [],
   "source": [
    "df['locs_no'] = df['locs_no'].replace(['California, USA', 'Sacramento, CA', 'Reno, NV','Rocklin, CA', \n",
    "             'Folsom, CA', 'Florin, CA','Nevada City, CA', 'Yountville, CA', \n",
    "             'Redding, CA', 'Linda, CA', 'nolocationfound', 'Napa, CA', \n",
    "             'Glen Ellen, CA',], 0)"
   ]
  },
  {
   "cell_type": "code",
   "execution_count": null,
   "metadata": {},
   "outputs": [],
   "source": [
    "df.head()"
   ]
  },
  {
   "cell_type": "code",
   "execution_count": 37,
   "metadata": {
    "ExecuteTime": {
     "end_time": "2020-05-14T21:50:48.316295Z",
     "start_time": "2020-05-14T21:50:48.312159Z"
    }
   },
   "outputs": [],
   "source": [
    "df_cluster = df[['key_score', 'locs_no']]"
   ]
  },
  {
   "cell_type": "code",
   "execution_count": 38,
   "metadata": {
    "ExecuteTime": {
     "end_time": "2020-05-14T21:50:51.376809Z",
     "start_time": "2020-05-14T21:50:51.229568Z"
    }
   },
   "outputs": [
    {
     "ename": "ValueError",
     "evalue": "could not convert string to float: 'Carson City, NV'",
     "output_type": "error",
     "traceback": [
      "\u001b[0;31m---------------------------------------------------------------------------\u001b[0m",
      "\u001b[0;31mValueError\u001b[0m                                Traceback (most recent call last)",
      "\u001b[0;32m<ipython-input-38-6368e60d81fb>\u001b[0m in \u001b[0;36m<module>\u001b[0;34m\u001b[0m\n\u001b[1;32m      1\u001b[0m plt.scatter(x=df_cluster['key_score'],\n\u001b[1;32m      2\u001b[0m             \u001b[0my\u001b[0m\u001b[0;34m=\u001b[0m\u001b[0mdf_cluster\u001b[0m\u001b[0;34m[\u001b[0m\u001b[0;34m'locs_no'\u001b[0m\u001b[0;34m]\u001b[0m\u001b[0;34m,\u001b[0m\u001b[0;34m\u001b[0m\u001b[0;34m\u001b[0m\u001b[0m\n\u001b[0;32m----> 3\u001b[0;31m             c='b');\n\u001b[0m\u001b[1;32m      4\u001b[0m \u001b[0;34m\u001b[0m\u001b[0m\n\u001b[1;32m      5\u001b[0m \u001b[0mplt\u001b[0m\u001b[0;34m.\u001b[0m\u001b[0mxlabel\u001b[0m\u001b[0;34m(\u001b[0m\u001b[0;34m\"$X_1$\"\u001b[0m\u001b[0;34m,\u001b[0m \u001b[0mfontsize\u001b[0m\u001b[0;34m=\u001b[0m\u001b[0;36m18\u001b[0m\u001b[0;34m)\u001b[0m\u001b[0;34m;\u001b[0m\u001b[0;34m\u001b[0m\u001b[0;34m\u001b[0m\u001b[0m\n",
      "\u001b[0;32m~/opt/anaconda3/lib/python3.7/site-packages/matplotlib/pyplot.py\u001b[0m in \u001b[0;36mscatter\u001b[0;34m(x, y, s, c, marker, cmap, norm, vmin, vmax, alpha, linewidths, verts, edgecolors, plotnonfinite, data, **kwargs)\u001b[0m\n\u001b[1;32m   2814\u001b[0m         \u001b[0mverts\u001b[0m\u001b[0;34m=\u001b[0m\u001b[0mverts\u001b[0m\u001b[0;34m,\u001b[0m \u001b[0medgecolors\u001b[0m\u001b[0;34m=\u001b[0m\u001b[0medgecolors\u001b[0m\u001b[0;34m,\u001b[0m\u001b[0;34m\u001b[0m\u001b[0;34m\u001b[0m\u001b[0m\n\u001b[1;32m   2815\u001b[0m         plotnonfinite=plotnonfinite, **({\"data\": data} if data is not\n\u001b[0;32m-> 2816\u001b[0;31m         None else {}), **kwargs)\n\u001b[0m\u001b[1;32m   2817\u001b[0m     \u001b[0msci\u001b[0m\u001b[0;34m(\u001b[0m\u001b[0m__ret\u001b[0m\u001b[0;34m)\u001b[0m\u001b[0;34m\u001b[0m\u001b[0;34m\u001b[0m\u001b[0m\n\u001b[1;32m   2818\u001b[0m     \u001b[0;32mreturn\u001b[0m \u001b[0m__ret\u001b[0m\u001b[0;34m\u001b[0m\u001b[0;34m\u001b[0m\u001b[0m\n",
      "\u001b[0;32m~/opt/anaconda3/lib/python3.7/site-packages/matplotlib/__init__.py\u001b[0m in \u001b[0;36minner\u001b[0;34m(ax, data, *args, **kwargs)\u001b[0m\n\u001b[1;32m   1563\u001b[0m     \u001b[0;32mdef\u001b[0m \u001b[0minner\u001b[0m\u001b[0;34m(\u001b[0m\u001b[0max\u001b[0m\u001b[0;34m,\u001b[0m \u001b[0;34m*\u001b[0m\u001b[0margs\u001b[0m\u001b[0;34m,\u001b[0m \u001b[0mdata\u001b[0m\u001b[0;34m=\u001b[0m\u001b[0;32mNone\u001b[0m\u001b[0;34m,\u001b[0m \u001b[0;34m**\u001b[0m\u001b[0mkwargs\u001b[0m\u001b[0;34m)\u001b[0m\u001b[0;34m:\u001b[0m\u001b[0;34m\u001b[0m\u001b[0;34m\u001b[0m\u001b[0m\n\u001b[1;32m   1564\u001b[0m         \u001b[0;32mif\u001b[0m \u001b[0mdata\u001b[0m \u001b[0;32mis\u001b[0m \u001b[0;32mNone\u001b[0m\u001b[0;34m:\u001b[0m\u001b[0;34m\u001b[0m\u001b[0;34m\u001b[0m\u001b[0m\n\u001b[0;32m-> 1565\u001b[0;31m             \u001b[0;32mreturn\u001b[0m \u001b[0mfunc\u001b[0m\u001b[0;34m(\u001b[0m\u001b[0max\u001b[0m\u001b[0;34m,\u001b[0m \u001b[0;34m*\u001b[0m\u001b[0mmap\u001b[0m\u001b[0;34m(\u001b[0m\u001b[0msanitize_sequence\u001b[0m\u001b[0;34m,\u001b[0m \u001b[0margs\u001b[0m\u001b[0;34m)\u001b[0m\u001b[0;34m,\u001b[0m \u001b[0;34m**\u001b[0m\u001b[0mkwargs\u001b[0m\u001b[0;34m)\u001b[0m\u001b[0;34m\u001b[0m\u001b[0;34m\u001b[0m\u001b[0m\n\u001b[0m\u001b[1;32m   1566\u001b[0m \u001b[0;34m\u001b[0m\u001b[0m\n\u001b[1;32m   1567\u001b[0m         \u001b[0mbound\u001b[0m \u001b[0;34m=\u001b[0m \u001b[0mnew_sig\u001b[0m\u001b[0;34m.\u001b[0m\u001b[0mbind\u001b[0m\u001b[0;34m(\u001b[0m\u001b[0max\u001b[0m\u001b[0;34m,\u001b[0m \u001b[0;34m*\u001b[0m\u001b[0margs\u001b[0m\u001b[0;34m,\u001b[0m \u001b[0;34m**\u001b[0m\u001b[0mkwargs\u001b[0m\u001b[0;34m)\u001b[0m\u001b[0;34m\u001b[0m\u001b[0;34m\u001b[0m\u001b[0m\n",
      "\u001b[0;32m~/opt/anaconda3/lib/python3.7/site-packages/matplotlib/cbook/deprecation.py\u001b[0m in \u001b[0;36mwrapper\u001b[0;34m(*args, **kwargs)\u001b[0m\n\u001b[1;32m    356\u001b[0m                 \u001b[0;34mf\"%(removal)s.  If any parameter follows {name!r}, they \"\u001b[0m\u001b[0;34m\u001b[0m\u001b[0;34m\u001b[0m\u001b[0m\n\u001b[1;32m    357\u001b[0m                 f\"should be pass as keyword, not positionally.\")\n\u001b[0;32m--> 358\u001b[0;31m         \u001b[0;32mreturn\u001b[0m \u001b[0mfunc\u001b[0m\u001b[0;34m(\u001b[0m\u001b[0;34m*\u001b[0m\u001b[0margs\u001b[0m\u001b[0;34m,\u001b[0m \u001b[0;34m**\u001b[0m\u001b[0mkwargs\u001b[0m\u001b[0;34m)\u001b[0m\u001b[0;34m\u001b[0m\u001b[0;34m\u001b[0m\u001b[0m\n\u001b[0m\u001b[1;32m    359\u001b[0m \u001b[0;34m\u001b[0m\u001b[0m\n\u001b[1;32m    360\u001b[0m     \u001b[0;32mreturn\u001b[0m \u001b[0mwrapper\u001b[0m\u001b[0;34m\u001b[0m\u001b[0;34m\u001b[0m\u001b[0m\n",
      "\u001b[0;32m~/opt/anaconda3/lib/python3.7/site-packages/matplotlib/axes/_axes.py\u001b[0m in \u001b[0;36mscatter\u001b[0;34m(self, x, y, s, c, marker, cmap, norm, vmin, vmax, alpha, linewidths, verts, edgecolors, plotnonfinite, **kwargs)\u001b[0m\n\u001b[1;32m   4427\u001b[0m                 \u001b[0moffsets\u001b[0m\u001b[0;34m=\u001b[0m\u001b[0moffsets\u001b[0m\u001b[0;34m,\u001b[0m\u001b[0;34m\u001b[0m\u001b[0;34m\u001b[0m\u001b[0m\n\u001b[1;32m   4428\u001b[0m                 \u001b[0mtransOffset\u001b[0m\u001b[0;34m=\u001b[0m\u001b[0mkwargs\u001b[0m\u001b[0;34m.\u001b[0m\u001b[0mpop\u001b[0m\u001b[0;34m(\u001b[0m\u001b[0;34m'transform'\u001b[0m\u001b[0;34m,\u001b[0m \u001b[0mself\u001b[0m\u001b[0;34m.\u001b[0m\u001b[0mtransData\u001b[0m\u001b[0;34m)\u001b[0m\u001b[0;34m,\u001b[0m\u001b[0;34m\u001b[0m\u001b[0;34m\u001b[0m\u001b[0m\n\u001b[0;32m-> 4429\u001b[0;31m                 \u001b[0malpha\u001b[0m\u001b[0;34m=\u001b[0m\u001b[0malpha\u001b[0m\u001b[0;34m\u001b[0m\u001b[0;34m\u001b[0m\u001b[0m\n\u001b[0m\u001b[1;32m   4430\u001b[0m                 )\n\u001b[1;32m   4431\u001b[0m         \u001b[0mcollection\u001b[0m\u001b[0;34m.\u001b[0m\u001b[0mset_transform\u001b[0m\u001b[0;34m(\u001b[0m\u001b[0mmtransforms\u001b[0m\u001b[0;34m.\u001b[0m\u001b[0mIdentityTransform\u001b[0m\u001b[0;34m(\u001b[0m\u001b[0;34m)\u001b[0m\u001b[0;34m)\u001b[0m\u001b[0;34m\u001b[0m\u001b[0;34m\u001b[0m\u001b[0m\n",
      "\u001b[0;32m~/opt/anaconda3/lib/python3.7/site-packages/matplotlib/collections.py\u001b[0m in \u001b[0;36m__init__\u001b[0;34m(self, paths, sizes, **kwargs)\u001b[0m\n\u001b[1;32m    910\u001b[0m         \"\"\"\n\u001b[1;32m    911\u001b[0m \u001b[0;34m\u001b[0m\u001b[0m\n\u001b[0;32m--> 912\u001b[0;31m         \u001b[0mCollection\u001b[0m\u001b[0;34m.\u001b[0m\u001b[0m__init__\u001b[0m\u001b[0;34m(\u001b[0m\u001b[0mself\u001b[0m\u001b[0;34m,\u001b[0m \u001b[0;34m**\u001b[0m\u001b[0mkwargs\u001b[0m\u001b[0;34m)\u001b[0m\u001b[0;34m\u001b[0m\u001b[0;34m\u001b[0m\u001b[0m\n\u001b[0m\u001b[1;32m    913\u001b[0m         \u001b[0mself\u001b[0m\u001b[0;34m.\u001b[0m\u001b[0mset_paths\u001b[0m\u001b[0;34m(\u001b[0m\u001b[0mpaths\u001b[0m\u001b[0;34m)\u001b[0m\u001b[0;34m\u001b[0m\u001b[0;34m\u001b[0m\u001b[0m\n\u001b[1;32m    914\u001b[0m         \u001b[0mself\u001b[0m\u001b[0;34m.\u001b[0m\u001b[0mset_sizes\u001b[0m\u001b[0;34m(\u001b[0m\u001b[0msizes\u001b[0m\u001b[0;34m)\u001b[0m\u001b[0;34m\u001b[0m\u001b[0;34m\u001b[0m\u001b[0m\n",
      "\u001b[0;32m~/opt/anaconda3/lib/python3.7/site-packages/matplotlib/collections.py\u001b[0m in \u001b[0;36m__init__\u001b[0;34m(self, edgecolors, facecolors, linewidths, linestyles, capstyle, joinstyle, antialiaseds, offsets, transOffset, norm, cmap, pickradius, hatch, urls, offset_position, zorder, **kwargs)\u001b[0m\n\u001b[1;32m    151\u001b[0m         \u001b[0mself\u001b[0m\u001b[0;34m.\u001b[0m\u001b[0m_uniform_offsets\u001b[0m \u001b[0;34m=\u001b[0m \u001b[0;32mNone\u001b[0m\u001b[0;34m\u001b[0m\u001b[0;34m\u001b[0m\u001b[0m\n\u001b[1;32m    152\u001b[0m         \u001b[0;32mif\u001b[0m \u001b[0moffsets\u001b[0m \u001b[0;32mis\u001b[0m \u001b[0;32mnot\u001b[0m \u001b[0;32mNone\u001b[0m\u001b[0;34m:\u001b[0m\u001b[0;34m\u001b[0m\u001b[0;34m\u001b[0m\u001b[0m\n\u001b[0;32m--> 153\u001b[0;31m             \u001b[0moffsets\u001b[0m \u001b[0;34m=\u001b[0m \u001b[0mnp\u001b[0m\u001b[0;34m.\u001b[0m\u001b[0masanyarray\u001b[0m\u001b[0;34m(\u001b[0m\u001b[0moffsets\u001b[0m\u001b[0;34m,\u001b[0m \u001b[0mfloat\u001b[0m\u001b[0;34m)\u001b[0m\u001b[0;34m\u001b[0m\u001b[0;34m\u001b[0m\u001b[0m\n\u001b[0m\u001b[1;32m    154\u001b[0m             \u001b[0;31m# Broadcast (2,) -> (1, 2) but nothing else.\u001b[0m\u001b[0;34m\u001b[0m\u001b[0;34m\u001b[0m\u001b[0;34m\u001b[0m\u001b[0m\n\u001b[1;32m    155\u001b[0m             \u001b[0;32mif\u001b[0m \u001b[0moffsets\u001b[0m\u001b[0;34m.\u001b[0m\u001b[0mshape\u001b[0m \u001b[0;34m==\u001b[0m \u001b[0;34m(\u001b[0m\u001b[0;36m2\u001b[0m\u001b[0;34m,\u001b[0m\u001b[0;34m)\u001b[0m\u001b[0;34m:\u001b[0m\u001b[0;34m\u001b[0m\u001b[0;34m\u001b[0m\u001b[0m\n",
      "\u001b[0;32m~/opt/anaconda3/lib/python3.7/site-packages/numpy/core/_asarray.py\u001b[0m in \u001b[0;36masanyarray\u001b[0;34m(a, dtype, order)\u001b[0m\n\u001b[1;32m    136\u001b[0m \u001b[0;34m\u001b[0m\u001b[0m\n\u001b[1;32m    137\u001b[0m     \"\"\"\n\u001b[0;32m--> 138\u001b[0;31m     \u001b[0;32mreturn\u001b[0m \u001b[0marray\u001b[0m\u001b[0;34m(\u001b[0m\u001b[0ma\u001b[0m\u001b[0;34m,\u001b[0m \u001b[0mdtype\u001b[0m\u001b[0;34m,\u001b[0m \u001b[0mcopy\u001b[0m\u001b[0;34m=\u001b[0m\u001b[0;32mFalse\u001b[0m\u001b[0;34m,\u001b[0m \u001b[0morder\u001b[0m\u001b[0;34m=\u001b[0m\u001b[0morder\u001b[0m\u001b[0;34m,\u001b[0m \u001b[0msubok\u001b[0m\u001b[0;34m=\u001b[0m\u001b[0;32mTrue\u001b[0m\u001b[0;34m)\u001b[0m\u001b[0;34m\u001b[0m\u001b[0;34m\u001b[0m\u001b[0m\n\u001b[0m\u001b[1;32m    139\u001b[0m \u001b[0;34m\u001b[0m\u001b[0m\n\u001b[1;32m    140\u001b[0m \u001b[0;34m\u001b[0m\u001b[0m\n",
      "\u001b[0;31mValueError\u001b[0m: could not convert string to float: 'Carson City, NV'"
     ]
    },
    {
     "data": {
      "image/png": "[encoded data removed]",
      "text/plain": [
       "<Figure size 432x288 with 1 Axes>"
      ]
     },
     "metadata": {
      "needs_background": "light"
     },
     "output_type": "display_data"
    }
   ],
   "source": [
    "plt.scatter(x=df_cluster['key_score'],\n",
    "            y=df_cluster['locs_no'],\n",
    "            c='b');\n",
    "\n",
    "plt.xlabel(\"$X_1$\", fontsize=18);\n",
    "plt.ylabel(\"$X_2$\", fontsize=18);"
   ]
  },
  {
   "cell_type": "code",
   "execution_count": 39,
   "metadata": {
    "ExecuteTime": {
     "end_time": "2020-05-14T21:50:56.761863Z",
     "start_time": "2020-05-14T21:50:56.754726Z"
    }
   },
   "outputs": [
    {
     "data": {
      "text/plain": [
       "376     2018-11-01 00:10:34+00:00\n",
       "554     2018-11-01 00:12:17+00:00\n",
       "551     2018-11-01 00:12:58+00:00\n",
       "697     2018-11-01 00:18:43+00:00\n",
       "698     2018-11-01 00:19:37+00:00\n",
       "                  ...            \n",
       "881     2018-11-25 23:45:36+00:00\n",
       "968     2018-11-25 23:48:52+00:00\n",
       "419     2018-11-25 23:51:06+00:00\n",
       "1104    2018-11-25 23:54:12+00:00\n",
       "735     2018-11-25 23:58:04+00:00\n",
       "Name: timestamp, Length: 1130, dtype: object"
      ]
     },
     "execution_count": 39,
     "metadata": {},
     "output_type": "execute_result"
    }
   ],
   "source": [
    "df['timestamp'].sort_values()"
   ]
  },
  {
   "cell_type": "code",
   "execution_count": null,
   "metadata": {
    "scrolled": true
   },
   "outputs": [],
   "source": [
    "df.sort_values(by='timestamp')"
   ]
  },
  {
   "cell_type": "code",
   "execution_count": null,
   "metadata": {},
   "outputs": [],
   "source": [
    "cities = pd.read_csv('./datasets/cities_clean.csv')"
   ]
  },
  {
   "cell_type": "code",
   "execution_count": null,
   "metadata": {},
   "outputs": [],
   "source": [
    "cities.sort_values(by='timestamp')"
   ]
  },
  {
   "cell_type": "code",
   "execution_count": null,
   "metadata": {},
   "outputs": [],
   "source": [
    "cities.drop_duplicates(subset =\"id\", \n",
    "                     keep = 'first', inplace = True) "
   ]
  },
  {
   "cell_type": "code",
   "execution_count": null,
   "metadata": {},
   "outputs": [],
   "source": [
    "cities.shape"
   ]
  },
  {
   "cell_type": "code",
   "execution_count": null,
   "metadata": {},
   "outputs": [],
   "source": [
    "cities.drop_duplicates(subset =\"id\", \n",
    "                     keep = 'first', inplace = True) \n",
    "cities.shape"
   ]
  },
  {
   "cell_type": "code",
   "execution_count": null,
   "metadata": {},
   "outputs": [],
   "source": [
    "cities.dtypes"
   ]
  },
  {
   "cell_type": "code",
   "execution_count": null,
   "metadata": {},
   "outputs": [],
   "source": [
    "cities['timestamp'] = pd.to_datetime(cities['timestamp'])"
   ]
  },
  {
   "cell_type": "code",
   "execution_count": null,
   "metadata": {},
   "outputs": [],
   "source": [
    "cities.dtypes"
   ]
  },
  {
   "cell_type": "code",
   "execution_count": null,
   "metadata": {},
   "outputs": [],
   "source": [
    "plt.hist(cities['timestamp'])"
   ]
  },
  {
   "cell_type": "code",
   "execution_count": null,
   "metadata": {},
   "outputs": [],
   "source": [
    "import datetime"
   ]
  },
  {
   "cell_type": "code",
   "execution_count": null,
   "metadata": {},
   "outputs": [],
   "source": [
    "cities.shape"
   ]
  },
  {
   "cell_type": "code",
   "execution_count": null,
   "metadata": {},
   "outputs": [],
   "source": [
    "cities.columns"
   ]
  },
  {
   "cell_type": "code",
   "execution_count": null,
   "metadata": {},
   "outputs": [],
   "source": [
    "df.head()"
   ]
  },
  {
   "cell_type": "code",
   "execution_count": null,
   "metadata": {},
   "outputs": [],
   "source": [
    "df.drop_duplicates(subset =\"id\", \n",
    "                     keep = 'first', inplace = True) \n",
    "df.head()"
   ]
  },
  {
   "cell_type": "code",
   "execution_count": null,
   "metadata": {},
   "outputs": [],
   "source": [
    "df.shape"
   ]
  },
  {
   "cell_type": "code",
   "execution_count": null,
   "metadata": {},
   "outputs": [],
   "source": [
    "import chart_studio.plotly as py \n",
    "import plotly.graph_objs as go \n",
    "import plotly.express as px"
   ]
  },
  {
   "cell_type": "code",
   "execution_count": null,
   "metadata": {},
   "outputs": [],
   "source": [
    "# Simple line graph of apple high prices\n",
    "fig = px.line(df, # data\n",
    "             x = 'timestamp', # date for x-axis\n",
    "             y = 'key_score' ) # plot close price\n",
    "fig.show()"
   ]
  },
  {
   "cell_type": "code",
   "execution_count": null,
   "metadata": {},
   "outputs": [],
   "source": [
    "df.columns"
   ]
  },
  {
   "cell_type": "code",
   "execution_count": null,
   "metadata": {},
   "outputs": [],
   "source": [
    "df.from_locations.value_counts()"
   ]
  },
  {
   "cell_type": "code",
   "execution_count": null,
   "metadata": {},
   "outputs": [],
   "source": [
    "pd.set_option('display.max_rows', 500) #display max rows\n",
    "df[(df.from_locations == 'California, USA')] "
   ]
  },
  {
   "cell_type": "code",
   "execution_count": null,
   "metadata": {},
   "outputs": [],
   "source": []
  }
 ],
 "metadata": {
  "kernelspec": {
   "display_name": "Python 3",
   "language": "python",
   "name": "python3"
  },
  "language_info": {
   "codemirror_mode": {
    "name": "ipython",
    "version": 3
   },
   "file_extension": ".py",
   "mimetype": "text/x-python",
   "name": "python",
   "nbconvert_exporter": "python",
   "pygments_lexer": "ipython3",
   "version": "3.7.6"
  }
 },
 "nbformat": 4,
 "nbformat_minor": 4
}
