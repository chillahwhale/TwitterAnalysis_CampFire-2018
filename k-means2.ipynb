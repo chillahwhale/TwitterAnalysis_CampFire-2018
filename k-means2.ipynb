{
 "cells": [
  {
   "cell_type": "code",
   "execution_count": 1,
   "metadata": {},
   "outputs": [],
   "source": [
    "import numpy as np\n",
    "import pandas as pd\n",
    "import matplotlib.pyplot as plt\n",
    "from sklearn.cluster import KMeans\n",
    "from sklearn.metrics import silhouette_score\n",
    "from sklearn.preprocessing import StandardScaler\n",
    "from sklearn.feature_extraction.text import TfidfVectorizer, CountVectorizer\n",
    "\n",
    "%matplotlib inline"
   ]
  },
  {
   "cell_type": "code",
   "execution_count": 2,
   "metadata": {},
   "outputs": [
    {
     "data": {
      "text/plain": [
       "(1130, 20)"
      ]
     },
     "execution_count": 2,
     "metadata": {},
     "output_type": "execute_result"
    }
   ],
   "source": [
    "df = pd.read_csv('../datasets/stacked_classified.csv')\n",
    "df.shape"
   ]
  },
  {
   "cell_type": "markdown",
   "metadata": {},
   "source": [
    "### basic k-means on all text\n",
    "- follow steps in [this](https://towardsdatascience.com/applying-machine-learning-to-classify-an-unsupervised-text-document-e7bb6265f52) article"
   ]
  },
  {
   "cell_type": "code",
   "execution_count": 3,
   "metadata": {},
   "outputs": [],
   "source": [
    "vectorizer = TfidfVectorizer(stop_words='english')\n",
    "X = vectorizer.fit_transform(df['text_nourl'])"
   ]
  },
  {
   "cell_type": "code",
   "execution_count": 4,
   "metadata": {},
   "outputs": [
    {
     "data": {
      "text/plain": [
       "KMeans(algorithm='auto', copy_x=True, init='k-means++', max_iter=100,\n",
       "       n_clusters=3, n_init=1, n_jobs=None, precompute_distances='auto',\n",
       "       random_state=None, tol=0.0001, verbose=0)"
      ]
     },
     "execution_count": 4,
     "metadata": {},
     "output_type": "execute_result"
    }
   ],
   "source": [
    "true_k = 3\n",
    "model = KMeans(n_clusters=true_k, init='k-means++', max_iter=100, n_init=1)\n",
    "model.fit(X)"
   ]
  },
  {
   "cell_type": "code",
   "execution_count": 5,
   "metadata": {},
   "outputs": [],
   "source": [
    "order_centroids = model.cluster_centers_.argsort()[:, ::-1]\n",
    "terms = vectorizer.get_feature_names()"
   ]
  },
  {
   "cell_type": "code",
   "execution_count": 6,
   "metadata": {},
   "outputs": [
    {
     "name": "stdout",
     "output_type": "stream",
     "text": [
      "Cluster 0:\n",
      "took\n",
      "forget\n",
      "hoping\n",
      "away\n",
      "lost\n",
      "return\n",
      "paradise\n",
      "day\n",
      "replace\n",
      "able\n",
      "Cluster 1:\n",
      "california\n",
      "chico\n",
      "ca\n",
      "paradise\n",
      "feather\n",
      "running\n",
      "campfire\n",
      "camp\n",
      "rd\n",
      "oroville\n",
      "Cluster 2:\n",
      "photographer\n",
      "nature\n",
      "flyinghorsedesigncom\n",
      "naturephotography\n",
      "pmgridchallenge\n",
      "love\n",
      "picoftheday\n",
      "bio\n",
      "link\n",
      "instalike\n"
     ]
    }
   ],
   "source": [
    "for i in range(true_k):\n",
    "    print(f'Cluster %d:' % i),\n",
    "    for ind in order_centroids[i, :10]:\n",
    "        print(f'%s' % terms[ind])"
   ]
  },
  {
   "cell_type": "code",
   "execution_count": 7,
   "metadata": {},
   "outputs": [
    {
     "name": "stdout",
     "output_type": "stream",
     "text": [
      "\n",
      "Prediction\n",
      "[1]\n"
     ]
    }
   ],
   "source": [
    "print('')\n",
    "print('Prediction')\n",
    "X = vectorizer.transform(['Nothing is easy in cricket. Maybe when you watch it on TV, it looks easy. But it is not. You have to use your brain and time the ball.'])\n",
    "predicted = model.predict(X)\n",
    "print(predicted)"
   ]
  },
  {
   "cell_type": "markdown",
   "metadata": {},
   "source": [
    "### basic k-means on fire text\n",
    "- follow steps in [this](https://towardsdatascience.com/applying-machine-learning-to-classify-an-unsupervised-text-document-e7bb6265f52) article"
   ]
  },
  {
   "cell_type": "code",
   "execution_count": 8,
   "metadata": {},
   "outputs": [
    {
     "data": {
      "text/plain": [
       "Index(['tweet_count', 'City', 'id', 'tweet_text', 'timestamp', 'hashtags',\n",
       "       'username', 'mentions', 'rewtweets', 'replies', 'link', 'day', 'hour',\n",
       "       'minute', 'during_fire', 'is-fire-related', 'text_nourl', 'key_score',\n",
       "       'from_locations', 'sent'],\n",
       "      dtype='object')"
      ]
     },
     "execution_count": 8,
     "metadata": {},
     "output_type": "execute_result"
    }
   ],
   "source": [
    "df.columns"
   ]
  },
  {
   "cell_type": "code",
   "execution_count": 9,
   "metadata": {},
   "outputs": [
    {
     "data": {
      "text/plain": [
       "(616, 20)"
      ]
     },
     "execution_count": 9,
     "metadata": {},
     "output_type": "execute_result"
    }
   ],
   "source": [
    "fire = df[(df['is-fire-related'] == 1)]\n",
    "fire.shape"
   ]
  },
  {
   "cell_type": "code",
   "execution_count": 10,
   "metadata": {},
   "outputs": [
    {
     "data": {
      "text/plain": [
       "KMeans(algorithm='auto', copy_x=True, init='k-means++', max_iter=100,\n",
       "       n_clusters=3, n_init=1, n_jobs=None, precompute_distances='auto',\n",
       "       random_state=None, tol=0.0001, verbose=0)"
      ]
     },
     "execution_count": 10,
     "metadata": {},
     "output_type": "execute_result"
    }
   ],
   "source": [
    "vectorizer = TfidfVectorizer(stop_words='english')\n",
    "X = vectorizer.fit_transform(fire['text_nourl'])\n",
    "\n",
    "true_k = 3\n",
    "model = KMeans(n_clusters=true_k, init='k-means++', max_iter=100, n_init=1)\n",
    "model.fit(X)"
   ]
  },
  {
   "cell_type": "code",
   "execution_count": 11,
   "metadata": {},
   "outputs": [],
   "source": [
    "order_centroids = model.cluster_centers_.argsort()[:, ::-1]\n",
    "terms = vectorizer.get_feature_names()"
   ]
  },
  {
   "cell_type": "code",
   "execution_count": 12,
   "metadata": {},
   "outputs": [
    {
     "name": "stdout",
     "output_type": "stream",
     "text": [
      "Cluster 0:\n",
      "rd\n",
      "traffic\n",
      "closure\n",
      "ca\n",
      "nb\n",
      "sb\n",
      "camp\n",
      "89\n",
      "hwy\n",
      "70\n",
      "Cluster 1:\n",
      "california\n",
      "campfire\n",
      "chico\n",
      "paradise\n",
      "ca\n",
      "buttecounty\n",
      "000\n",
      "acres\n",
      "camp\n",
      "contained\n",
      "Cluster 2:\n",
      "took\n",
      "forget\n",
      "hoping\n",
      "away\n",
      "return\n",
      "lost\n",
      "day\n",
      "replace\n",
      "able\n",
      "paradise\n"
     ]
    }
   ],
   "source": [
    "for i in range(true_k):\n",
    "    print(f'Cluster %d:' % i),\n",
    "    for ind in order_centroids[i, :10]:\n",
    "        print(f'%s' % terms[ind])"
   ]
  },
  {
   "cell_type": "code",
   "execution_count": 13,
   "metadata": {},
   "outputs": [],
   "source": [
    "# 3 clusters\n",
    "# cluster 0: information-related\n",
    "# cluster 1: traffic-related\n",
    "# cluster 2: emotional"
   ]
  },
  {
   "cell_type": "code",
   "execution_count": 14,
   "metadata": {},
   "outputs": [
    {
     "data": {
      "text/plain": [
       "KMeans(algorithm='auto', copy_x=True, init='k-means++', max_iter=100,\n",
       "       n_clusters=5, n_init=1, n_jobs=None, precompute_distances='auto',\n",
       "       random_state=None, tol=0.0001, verbose=0)"
      ]
     },
     "execution_count": 14,
     "metadata": {},
     "output_type": "execute_result"
    }
   ],
   "source": [
    "true_k = 5\n",
    "model = KMeans(n_clusters=true_k, init='k-means++', max_iter=100, n_init=1)\n",
    "model.fit(X)"
   ]
  },
  {
   "cell_type": "code",
   "execution_count": 15,
   "metadata": {},
   "outputs": [],
   "source": [
    "order_centroids = model.cluster_centers_.argsort()[:, ::-1]\n",
    "terms = vectorizer.get_feature_names()"
   ]
  },
  {
   "cell_type": "code",
   "execution_count": 16,
   "metadata": {
    "collapsed": true
   },
   "outputs": [
    {
     "name": "stdout",
     "output_type": "stream",
     "text": [
      "Cluster 0:\n",
      "rd\n",
      "traffic\n",
      "closure\n",
      "ca\n",
      "nb\n",
      "sb\n",
      "camp\n",
      "89\n",
      "hwy\n",
      "70\n",
      "Cluster 1:\n",
      "california\n",
      "paradise\n",
      "campfire\n",
      "people\n",
      "camp\n",
      "help\n",
      "family\n",
      "today\n",
      "butte\n",
      "county\n",
      "Cluster 2:\n",
      "chico\n",
      "california\n",
      "campfire\n",
      "posted\n",
      "just\n",
      "paradise\n",
      "photo\n",
      "calfire\n",
      "church\n",
      "wildfire\n",
      "Cluster 3:\n",
      "took\n",
      "forget\n",
      "hoping\n",
      "away\n",
      "return\n",
      "lost\n",
      "day\n",
      "replace\n",
      "able\n",
      "paradise\n",
      "Cluster 4:\n",
      "ca\n",
      "info\n",
      "unofficial\n",
      "disclaimers\n",
      "incorrect\n",
      "officials\n",
      "safety\n",
      "images\n",
      "sacramento\n",
      "update\n"
     ]
    }
   ],
   "source": [
    "for i in range(true_k):\n",
    "    print(f'Cluster %d:' % i),\n",
    "    for ind in order_centroids[i, :10]:\n",
    "        print(f'%s' % terms[ind])"
   ]
  },
  {
   "cell_type": "code",
   "execution_count": 17,
   "metadata": {},
   "outputs": [],
   "source": [
    "# 5 clusters:\n",
    "# 0: photo \n",
    "# 1: emotional (negative sentiment)\n",
    "# 2: traffic\n",
    "# 3: information\n",
    "# 4: emotional (positive sentiment)"
   ]
  },
  {
   "cell_type": "code",
   "execution_count": 18,
   "metadata": {},
   "outputs": [
    {
     "name": "stdout",
     "output_type": "stream",
     "text": [
      "Prediction\n",
      "[1]\n"
     ]
    }
   ],
   "source": [
    "print('Prediction')\n",
    "X = vectorizer.transform(['Nothing is easy in cricket. Maybe when you watch it on TV, it looks easy. But it is not. You have to use your brain and time the ball.'])\n",
    "predicted = model.predict(X)\n",
    "print(predicted)"
   ]
  },
  {
   "cell_type": "code",
   "execution_count": 33,
   "metadata": {},
   "outputs": [
    {
     "ename": "ValueError",
     "evalue": "Iterable over raw text documents expected, string object received.",
     "output_type": "error",
     "traceback": [
      "\u001b[0;31m---------------------------------------------------------------------------\u001b[0m",
      "\u001b[0;31mValueError\u001b[0m                                Traceback (most recent call last)",
      "\u001b[0;32m<ipython-input-33-b18bffd200c3>\u001b[0m in \u001b[0;36m<module>\u001b[0;34m\u001b[0m\n\u001b[0;32m----> 1\u001b[0;31m \u001b[0mfire\u001b[0m\u001b[0;34m[\u001b[0m\u001b[0;34m'cluster'\u001b[0m\u001b[0;34m]\u001b[0m \u001b[0;34m=\u001b[0m \u001b[0mfire\u001b[0m\u001b[0;34m[\u001b[0m\u001b[0;34m'text_nourl'\u001b[0m\u001b[0;34m]\u001b[0m\u001b[0;34m.\u001b[0m\u001b[0mmap\u001b[0m\u001b[0;34m(\u001b[0m\u001b[0;32mlambda\u001b[0m \u001b[0mx\u001b[0m\u001b[0;34m:\u001b[0m \u001b[0mmodel\u001b[0m\u001b[0;34m.\u001b[0m\u001b[0mpredict\u001b[0m\u001b[0;34m(\u001b[0m\u001b[0mvectorizer\u001b[0m\u001b[0;34m.\u001b[0m\u001b[0mtransform\u001b[0m\u001b[0;34m(\u001b[0m\u001b[0mx\u001b[0m\u001b[0;34m)\u001b[0m\u001b[0;34m)\u001b[0m\u001b[0;34m)\u001b[0m\u001b[0;34m\u001b[0m\u001b[0;34m\u001b[0m\u001b[0m\n\u001b[0m\u001b[1;32m      2\u001b[0m \u001b[0mfire\u001b[0m\u001b[0;34m.\u001b[0m\u001b[0mhead\u001b[0m\u001b[0;34m(\u001b[0m\u001b[0;34m)\u001b[0m\u001b[0;34m\u001b[0m\u001b[0;34m\u001b[0m\u001b[0m\n",
      "\u001b[0;32m~/anaconda/envs/dsi/lib/python3.7/site-packages/pandas/core/series.py\u001b[0m in \u001b[0;36mmap\u001b[0;34m(self, arg, na_action)\u001b[0m\n\u001b[1;32m   3628\u001b[0m         \u001b[0mdtype\u001b[0m\u001b[0;34m:\u001b[0m \u001b[0mobject\u001b[0m\u001b[0;34m\u001b[0m\u001b[0;34m\u001b[0m\u001b[0m\n\u001b[1;32m   3629\u001b[0m         \"\"\"\n\u001b[0;32m-> 3630\u001b[0;31m         \u001b[0mnew_values\u001b[0m \u001b[0;34m=\u001b[0m \u001b[0msuper\u001b[0m\u001b[0;34m(\u001b[0m\u001b[0;34m)\u001b[0m\u001b[0;34m.\u001b[0m\u001b[0m_map_values\u001b[0m\u001b[0;34m(\u001b[0m\u001b[0marg\u001b[0m\u001b[0;34m,\u001b[0m \u001b[0mna_action\u001b[0m\u001b[0;34m=\u001b[0m\u001b[0mna_action\u001b[0m\u001b[0;34m)\u001b[0m\u001b[0;34m\u001b[0m\u001b[0;34m\u001b[0m\u001b[0m\n\u001b[0m\u001b[1;32m   3631\u001b[0m         \u001b[0;32mreturn\u001b[0m \u001b[0mself\u001b[0m\u001b[0;34m.\u001b[0m\u001b[0m_constructor\u001b[0m\u001b[0;34m(\u001b[0m\u001b[0mnew_values\u001b[0m\u001b[0;34m,\u001b[0m \u001b[0mindex\u001b[0m\u001b[0;34m=\u001b[0m\u001b[0mself\u001b[0m\u001b[0;34m.\u001b[0m\u001b[0mindex\u001b[0m\u001b[0;34m)\u001b[0m\u001b[0;34m.\u001b[0m\u001b[0m__finalize__\u001b[0m\u001b[0;34m(\u001b[0m\u001b[0mself\u001b[0m\u001b[0;34m)\u001b[0m\u001b[0;34m\u001b[0m\u001b[0;34m\u001b[0m\u001b[0m\n\u001b[1;32m   3632\u001b[0m \u001b[0;34m\u001b[0m\u001b[0m\n",
      "\u001b[0;32m~/anaconda/envs/dsi/lib/python3.7/site-packages/pandas/core/base.py\u001b[0m in \u001b[0;36m_map_values\u001b[0;34m(self, mapper, na_action)\u001b[0m\n\u001b[1;32m   1143\u001b[0m \u001b[0;34m\u001b[0m\u001b[0m\n\u001b[1;32m   1144\u001b[0m         \u001b[0;31m# mapper is a function\u001b[0m\u001b[0;34m\u001b[0m\u001b[0;34m\u001b[0m\u001b[0;34m\u001b[0m\u001b[0m\n\u001b[0;32m-> 1145\u001b[0;31m         \u001b[0mnew_values\u001b[0m \u001b[0;34m=\u001b[0m \u001b[0mmap_f\u001b[0m\u001b[0;34m(\u001b[0m\u001b[0mvalues\u001b[0m\u001b[0;34m,\u001b[0m \u001b[0mmapper\u001b[0m\u001b[0;34m)\u001b[0m\u001b[0;34m\u001b[0m\u001b[0;34m\u001b[0m\u001b[0m\n\u001b[0m\u001b[1;32m   1146\u001b[0m \u001b[0;34m\u001b[0m\u001b[0m\n\u001b[1;32m   1147\u001b[0m         \u001b[0;32mreturn\u001b[0m \u001b[0mnew_values\u001b[0m\u001b[0;34m\u001b[0m\u001b[0;34m\u001b[0m\u001b[0m\n",
      "\u001b[0;32mpandas/_libs/lib.pyx\u001b[0m in \u001b[0;36mpandas._libs.lib.map_infer\u001b[0;34m()\u001b[0m\n",
      "\u001b[0;32m<ipython-input-33-b18bffd200c3>\u001b[0m in \u001b[0;36m<lambda>\u001b[0;34m(x)\u001b[0m\n\u001b[0;32m----> 1\u001b[0;31m \u001b[0mfire\u001b[0m\u001b[0;34m[\u001b[0m\u001b[0;34m'cluster'\u001b[0m\u001b[0;34m]\u001b[0m \u001b[0;34m=\u001b[0m \u001b[0mfire\u001b[0m\u001b[0;34m[\u001b[0m\u001b[0;34m'text_nourl'\u001b[0m\u001b[0;34m]\u001b[0m\u001b[0;34m.\u001b[0m\u001b[0mmap\u001b[0m\u001b[0;34m(\u001b[0m\u001b[0;32mlambda\u001b[0m \u001b[0mx\u001b[0m\u001b[0;34m:\u001b[0m \u001b[0mmodel\u001b[0m\u001b[0;34m.\u001b[0m\u001b[0mpredict\u001b[0m\u001b[0;34m(\u001b[0m\u001b[0mvectorizer\u001b[0m\u001b[0;34m.\u001b[0m\u001b[0mtransform\u001b[0m\u001b[0;34m(\u001b[0m\u001b[0mx\u001b[0m\u001b[0;34m)\u001b[0m\u001b[0;34m)\u001b[0m\u001b[0;34m)\u001b[0m\u001b[0;34m\u001b[0m\u001b[0;34m\u001b[0m\u001b[0m\n\u001b[0m\u001b[1;32m      2\u001b[0m \u001b[0mfire\u001b[0m\u001b[0;34m.\u001b[0m\u001b[0mhead\u001b[0m\u001b[0;34m(\u001b[0m\u001b[0;34m)\u001b[0m\u001b[0;34m\u001b[0m\u001b[0;34m\u001b[0m\u001b[0m\n",
      "\u001b[0;32m~/anaconda/envs/dsi/lib/python3.7/site-packages/sklearn/feature_extraction/text.py\u001b[0m in \u001b[0;36mtransform\u001b[0;34m(self, raw_documents, copy)\u001b[0m\n\u001b[1;32m   1896\u001b[0m                    \"be removed in 0.24.\")\n\u001b[1;32m   1897\u001b[0m             \u001b[0mwarnings\u001b[0m\u001b[0;34m.\u001b[0m\u001b[0mwarn\u001b[0m\u001b[0;34m(\u001b[0m\u001b[0mmsg\u001b[0m\u001b[0;34m,\u001b[0m \u001b[0mFutureWarning\u001b[0m\u001b[0;34m)\u001b[0m\u001b[0;34m\u001b[0m\u001b[0;34m\u001b[0m\u001b[0m\n\u001b[0;32m-> 1898\u001b[0;31m         \u001b[0mX\u001b[0m \u001b[0;34m=\u001b[0m \u001b[0msuper\u001b[0m\u001b[0;34m(\u001b[0m\u001b[0;34m)\u001b[0m\u001b[0;34m.\u001b[0m\u001b[0mtransform\u001b[0m\u001b[0;34m(\u001b[0m\u001b[0mraw_documents\u001b[0m\u001b[0;34m)\u001b[0m\u001b[0;34m\u001b[0m\u001b[0;34m\u001b[0m\u001b[0m\n\u001b[0m\u001b[1;32m   1899\u001b[0m         \u001b[0;32mreturn\u001b[0m \u001b[0mself\u001b[0m\u001b[0;34m.\u001b[0m\u001b[0m_tfidf\u001b[0m\u001b[0;34m.\u001b[0m\u001b[0mtransform\u001b[0m\u001b[0;34m(\u001b[0m\u001b[0mX\u001b[0m\u001b[0;34m,\u001b[0m \u001b[0mcopy\u001b[0m\u001b[0;34m=\u001b[0m\u001b[0;32mFalse\u001b[0m\u001b[0;34m)\u001b[0m\u001b[0;34m\u001b[0m\u001b[0;34m\u001b[0m\u001b[0m\n\u001b[1;32m   1900\u001b[0m \u001b[0;34m\u001b[0m\u001b[0m\n",
      "\u001b[0;32m~/anaconda/envs/dsi/lib/python3.7/site-packages/sklearn/feature_extraction/text.py\u001b[0m in \u001b[0;36mtransform\u001b[0;34m(self, raw_documents)\u001b[0m\n\u001b[1;32m   1263\u001b[0m         \u001b[0;32mif\u001b[0m \u001b[0misinstance\u001b[0m\u001b[0;34m(\u001b[0m\u001b[0mraw_documents\u001b[0m\u001b[0;34m,\u001b[0m \u001b[0mstr\u001b[0m\u001b[0;34m)\u001b[0m\u001b[0;34m:\u001b[0m\u001b[0;34m\u001b[0m\u001b[0;34m\u001b[0m\u001b[0m\n\u001b[1;32m   1264\u001b[0m             raise ValueError(\n\u001b[0;32m-> 1265\u001b[0;31m                 \u001b[0;34m\"Iterable over raw text documents expected, \"\u001b[0m\u001b[0;34m\u001b[0m\u001b[0;34m\u001b[0m\u001b[0m\n\u001b[0m\u001b[1;32m   1266\u001b[0m                 \"string object received.\")\n\u001b[1;32m   1267\u001b[0m         \u001b[0mself\u001b[0m\u001b[0;34m.\u001b[0m\u001b[0m_check_vocabulary\u001b[0m\u001b[0;34m(\u001b[0m\u001b[0;34m)\u001b[0m\u001b[0;34m\u001b[0m\u001b[0;34m\u001b[0m\u001b[0m\n",
      "\u001b[0;31mValueError\u001b[0m: Iterable over raw text documents expected, string object received."
     ]
    }
   ],
   "source": [
    "fire['cluster'] = fire['text_nourl'].map(lambda x: model.predict(vectorizer.transform(x)))\n",
    "fire.head()"
   ]
  },
  {
   "cell_type": "code",
   "execution_count": null,
   "metadata": {},
   "outputs": [],
   "source": []
  },
  {
   "cell_type": "markdown",
   "metadata": {},
   "source": [
    "### chart k-means"
   ]
  },
  {
   "cell_type": "code",
   "execution_count": 19,
   "metadata": {},
   "outputs": [
    {
     "data": {
      "text/plain": [
       "787     5\n",
       "994     5\n",
       "1000    5\n",
       "85      5\n",
       "716     5\n",
       "       ..\n",
       "638     0\n",
       "637     0\n",
       "634     0\n",
       "633     0\n",
       "564     0\n",
       "Name: key_score, Length: 1130, dtype: int64"
      ]
     },
     "execution_count": 19,
     "metadata": {},
     "output_type": "execute_result"
    }
   ],
   "source": [
    "df['key_score'].sort_values(ascending=False)"
   ]
  },
  {
   "cell_type": "code",
   "execution_count": 20,
   "metadata": {},
   "outputs": [
    {
     "data": {
      "text/plain": [
       "Index(['tweet_count', 'City', 'id', 'tweet_text', 'timestamp', 'hashtags',\n",
       "       'username', 'mentions', 'rewtweets', 'replies', 'link', 'day', 'hour',\n",
       "       'minute', 'during_fire', 'is-fire-related', 'text_nourl', 'key_score',\n",
       "       'from_locations', 'sent'],\n",
       "      dtype='object')"
      ]
     },
     "execution_count": 20,
     "metadata": {},
     "output_type": "execute_result"
    }
   ],
   "source": [
    "df.columns"
   ]
  },
  {
   "cell_type": "code",
   "execution_count": 21,
   "metadata": {},
   "outputs": [
    {
     "data": {
      "text/plain": [
       "Chico, CA              487\n",
       "Paradise, CA           419\n",
       "Oroville, CA            71\n",
       "Butte County            46\n",
       "Magalia, CA             17\n",
       "Gridley, CA             14\n",
       "South Oroville, CA      13\n",
       "Sacramento, CA          13\n",
       "Durham, CA               7\n",
       "Thermalito, CA           5\n",
       "Folsom, CA               4\n",
       "Reno, NV                 3\n",
       "Oroville East, CA        3\n",
       "Carson City, NV          3\n",
       "Rocklin, CA              2\n",
       "Redding, CA              2\n",
       "Lodi, CA                 2\n",
       "Nevada City, CA          2\n",
       "Napa, CA                 2\n",
       "Sebastopol, CA           2\n",
       "nolocationfound          2\n",
       "Carmichael, CA           1\n",
       "St Helena, CA            1\n",
       "Carnelian Bay, CA        1\n",
       "Truckee, CA              1\n",
       "Glen Ellen, CA           1\n",
       "Florin, CA               1\n",
       "Sonoma, CA               1\n",
       "Linda, CA                1\n",
       "Yountville, CA           1\n",
       "Lincoln, CA              1\n",
       "Incline Village, NV      1\n",
       "Name: from_locations, dtype: int64"
      ]
     },
     "execution_count": 21,
     "metadata": {},
     "output_type": "execute_result"
    }
   ],
   "source": [
    "df['from_locations'].value_counts()"
   ]
  },
  {
   "cell_type": "code",
   "execution_count": 22,
   "metadata": {},
   "outputs": [
    {
     "data": {
      "text/html": [
       "<div>\n",
       "<style scoped>\n",
       "    .dataframe tbody tr th:only-of-type {\n",
       "        vertical-align: middle;\n",
       "    }\n",
       "\n",
       "    .dataframe tbody tr th {\n",
       "        vertical-align: top;\n",
       "    }\n",
       "\n",
       "    .dataframe thead th {\n",
       "        text-align: right;\n",
       "    }\n",
       "</style>\n",
       "<table border=\"1\" class=\"dataframe\">\n",
       "  <thead>\n",
       "    <tr style=\"text-align: right;\">\n",
       "      <th></th>\n",
       "      <th>tweet_count</th>\n",
       "      <th>City</th>\n",
       "      <th>id</th>\n",
       "      <th>tweet_text</th>\n",
       "      <th>timestamp</th>\n",
       "      <th>hashtags</th>\n",
       "      <th>username</th>\n",
       "      <th>mentions</th>\n",
       "      <th>rewtweets</th>\n",
       "      <th>replies</th>\n",
       "      <th>...</th>\n",
       "      <th>day</th>\n",
       "      <th>hour</th>\n",
       "      <th>minute</th>\n",
       "      <th>during_fire</th>\n",
       "      <th>is-fire-related</th>\n",
       "      <th>text_nourl</th>\n",
       "      <th>key_score</th>\n",
       "      <th>from_locations</th>\n",
       "      <th>sent</th>\n",
       "      <th>locs_no</th>\n",
       "    </tr>\n",
       "  </thead>\n",
       "  <tbody>\n",
       "    <tr>\n",
       "      <th>0</th>\n",
       "      <td>366.0</td>\n",
       "      <td>Paradise, CA</td>\n",
       "      <td>1.060000e+18</td>\n",
       "      <td>::paradise baby:: meet JD, the grandson of my ...</td>\n",
       "      <td>2018-11-16 16:31:06+00:00</td>\n",
       "      <td>#campfire</td>\n",
       "      <td>trekcass</td>\n",
       "      <td>@JulieRems</td>\n",
       "      <td>0</td>\n",
       "      <td>0</td>\n",
       "      <td>...</td>\n",
       "      <td>16</td>\n",
       "      <td>16</td>\n",
       "      <td>31</td>\n",
       "      <td>1</td>\n",
       "      <td>1</td>\n",
       "      <td>::paradise baby:: meet JD, the grandson of my ...</td>\n",
       "      <td>2</td>\n",
       "      <td>Paradise, CA</td>\n",
       "      <td>1</td>\n",
       "      <td>Paradise, CA</td>\n",
       "    </tr>\n",
       "    <tr>\n",
       "      <th>1</th>\n",
       "      <td>700.0</td>\n",
       "      <td>Paradise, CA</td>\n",
       "      <td>1.060000e+18</td>\n",
       "      <td>¡Coño! #CampFire @Chico, California https://ww...</td>\n",
       "      <td>2018-11-09 19:29:06+00:00</td>\n",
       "      <td>#CampFire</td>\n",
       "      <td>VXO</td>\n",
       "      <td>NaN</td>\n",
       "      <td>0</td>\n",
       "      <td>0</td>\n",
       "      <td>...</td>\n",
       "      <td>9</td>\n",
       "      <td>19</td>\n",
       "      <td>29</td>\n",
       "      <td>1</td>\n",
       "      <td>1</td>\n",
       "      <td>¡Coño! #CampFire @Chico, California</td>\n",
       "      <td>1</td>\n",
       "      <td>Chico, CA</td>\n",
       "      <td>1</td>\n",
       "      <td>Chico, CA</td>\n",
       "    </tr>\n",
       "    <tr>\n",
       "      <th>2</th>\n",
       "      <td>494.0</td>\n",
       "      <td>Paradise, CA</td>\n",
       "      <td>1.060000e+18</td>\n",
       "      <td>. . . . . #photography #instapics #photographe...</td>\n",
       "      <td>2018-11-13 15:51:31+00:00</td>\n",
       "      <td>#photography #instapics #photographersofig #pi...</td>\n",
       "      <td>sidewayseightp</td>\n",
       "      <td>NaN</td>\n",
       "      <td>0</td>\n",
       "      <td>0</td>\n",
       "      <td>...</td>\n",
       "      <td>13</td>\n",
       "      <td>15</td>\n",
       "      <td>51</td>\n",
       "      <td>1</td>\n",
       "      <td>0</td>\n",
       "      <td>. . . . . #photography #instapics #photographe...</td>\n",
       "      <td>0</td>\n",
       "      <td>Chico, CA</td>\n",
       "      <td>1</td>\n",
       "      <td>Chico, CA</td>\n",
       "    </tr>\n",
       "    <tr>\n",
       "      <th>3</th>\n",
       "      <td>53.0</td>\n",
       "      <td>Paradise, CA</td>\n",
       "      <td>1.070000e+18</td>\n",
       "      <td>.@Stucam7771 nailed it! The man in the White H...</td>\n",
       "      <td>2018-11-24 11:29:40+00:00</td>\n",
       "      <td>NaN</td>\n",
       "      <td>XLComedy</td>\n",
       "      <td>@stucam7771</td>\n",
       "      <td>1</td>\n",
       "      <td>0</td>\n",
       "      <td>...</td>\n",
       "      <td>24</td>\n",
       "      <td>11</td>\n",
       "      <td>29</td>\n",
       "      <td>1</td>\n",
       "      <td>1</td>\n",
       "      <td>.@Stucam7771 nailed it! The man in the White H...</td>\n",
       "      <td>0</td>\n",
       "      <td>Paradise, CA</td>\n",
       "      <td>1</td>\n",
       "      <td>Paradise, CA</td>\n",
       "    </tr>\n",
       "    <tr>\n",
       "      <th>4</th>\n",
       "      <td>201.0</td>\n",
       "      <td>Oroville, CA</td>\n",
       "      <td>1.060000e+18</td>\n",
       "      <td>‘Merurica... #voted #uklastudios #uklapictures...</td>\n",
       "      <td>2018-11-07 02:02:51+00:00</td>\n",
       "      <td>#voted #uklastudios #uklapictures</td>\n",
       "      <td>UKLA_Music</td>\n",
       "      <td>NaN</td>\n",
       "      <td>0</td>\n",
       "      <td>0</td>\n",
       "      <td>...</td>\n",
       "      <td>7</td>\n",
       "      <td>2</td>\n",
       "      <td>2</td>\n",
       "      <td>0</td>\n",
       "      <td>0</td>\n",
       "      <td>‘Merurica... #voted #uklastudios #uklapictures...</td>\n",
       "      <td>0</td>\n",
       "      <td>Gridley, CA</td>\n",
       "      <td>1</td>\n",
       "      <td>Gridley, CA</td>\n",
       "    </tr>\n",
       "  </tbody>\n",
       "</table>\n",
       "<p>5 rows × 21 columns</p>\n",
       "</div>"
      ],
      "text/plain": [
       "   tweet_count          City            id  \\\n",
       "0        366.0  Paradise, CA  1.060000e+18   \n",
       "1        700.0  Paradise, CA  1.060000e+18   \n",
       "2        494.0  Paradise, CA  1.060000e+18   \n",
       "3         53.0  Paradise, CA  1.070000e+18   \n",
       "4        201.0  Oroville, CA  1.060000e+18   \n",
       "\n",
       "                                          tweet_text  \\\n",
       "0  ::paradise baby:: meet JD, the grandson of my ...   \n",
       "1  ¡Coño! #CampFire @Chico, California https://ww...   \n",
       "2  . . . . . #photography #instapics #photographe...   \n",
       "3  .@Stucam7771 nailed it! The man in the White H...   \n",
       "4  ‘Merurica... #voted #uklastudios #uklapictures...   \n",
       "\n",
       "                   timestamp  \\\n",
       "0  2018-11-16 16:31:06+00:00   \n",
       "1  2018-11-09 19:29:06+00:00   \n",
       "2  2018-11-13 15:51:31+00:00   \n",
       "3  2018-11-24 11:29:40+00:00   \n",
       "4  2018-11-07 02:02:51+00:00   \n",
       "\n",
       "                                            hashtags        username  \\\n",
       "0                                          #campfire        trekcass   \n",
       "1                                          #CampFire             VXO   \n",
       "2  #photography #instapics #photographersofig #pi...  sidewayseightp   \n",
       "3                                                NaN        XLComedy   \n",
       "4                  #voted #uklastudios #uklapictures      UKLA_Music   \n",
       "\n",
       "      mentions  rewtweets  replies  ... day  hour  minute  during_fire  \\\n",
       "0   @JulieRems          0        0  ...  16    16      31            1   \n",
       "1          NaN          0        0  ...   9    19      29            1   \n",
       "2          NaN          0        0  ...  13    15      51            1   \n",
       "3  @stucam7771          1        0  ...  24    11      29            1   \n",
       "4          NaN          0        0  ...   7     2       2            0   \n",
       "\n",
       "   is-fire-related                                         text_nourl  \\\n",
       "0                1  ::paradise baby:: meet JD, the grandson of my ...   \n",
       "1                1                ¡Coño! #CampFire @Chico, California   \n",
       "2                0  . . . . . #photography #instapics #photographe...   \n",
       "3                1  .@Stucam7771 nailed it! The man in the White H...   \n",
       "4                0  ‘Merurica... #voted #uklastudios #uklapictures...   \n",
       "\n",
       "  key_score  from_locations sent       locs_no  \n",
       "0         2    Paradise, CA    1  Paradise, CA  \n",
       "1         1       Chico, CA    1     Chico, CA  \n",
       "2         0       Chico, CA    1     Chico, CA  \n",
       "3         0    Paradise, CA    1  Paradise, CA  \n",
       "4         0     Gridley, CA    1   Gridley, CA  \n",
       "\n",
       "[5 rows x 21 columns]"
      ]
     },
     "execution_count": 22,
     "metadata": {},
     "output_type": "execute_result"
    }
   ],
   "source": [
    "df['locs_no'] = df['from_locations']\n",
    "df.head()"
   ]
  },
  {
   "cell_type": "code",
   "execution_count": 23,
   "metadata": {},
   "outputs": [
    {
     "data": {
      "text/plain": [
       "array(['Paradise, CA', 'Chico, CA', 'Gridley, CA', 'Oroville, CA',\n",
       "       'nolocationfound', 'Magalia, CA', 'South Oroville, CA',\n",
       "       'Durham, CA', 'Nevada City, CA', 'Sacramento, CA', 'Reno, NV',\n",
       "       'Carson City, NV', 'Butte County', 'Folsom, CA', 'Sebastopol, CA',\n",
       "       'Napa, CA', 'Carnelian Bay, CA', 'Sonoma, CA', 'Lodi, CA',\n",
       "       'Carmichael, CA', 'Rocklin, CA', 'Redding, CA', 'Thermalito, CA',\n",
       "       'Florin, CA', 'Linda, CA', 'Truckee, CA', 'Glen Ellen, CA',\n",
       "       'St Helena, CA', 'Yountville, CA', 'Lincoln, CA',\n",
       "       'Oroville East, CA', 'Incline Village, NV'], dtype=object)"
      ]
     },
     "execution_count": 23,
     "metadata": {},
     "output_type": "execute_result"
    }
   ],
   "source": [
    "df['from_locations'].unique()"
   ]
  },
  {
   "cell_type": "code",
   "execution_count": 24,
   "metadata": {},
   "outputs": [],
   "source": [
    "all_cities = ['Chico, CA', 'California, USA', 'Sacramento, CA', 'Reno, NV',\n",
    "       'Rocklin, CA', 'Folsom, CA', 'Oroville, CA', 'Florin, CA',\n",
    "       'Nevada City, CA', 'Yountville, CA', 'Redding, CA', 'Linda, CA',\n",
    "       'Magalia, CA', 'Paradise, CA', 'nolocationfound', 'Durham, CA',\n",
    "       'Napa, CA', 'Glen Ellen, CA', 'Oroville East, CA',\n",
    "       'South Oroville, CA', 'Thermalito, CA', 'Gridley, CA']\n",
    "\n",
    "butte_cty = ['Chico, CA',  'Oroville, CA', 'Magalia, CA', 'Paradise, CA',  \n",
    "             'Durham, CA', 'Oroville East, CA', 'South Oroville, CA', \n",
    "             'Thermalito, CA', 'Gridley, CA']\n",
    "\n",
    "not_butte = ['California, USA', 'Sacramento, CA', 'Reno, NV','Rocklin, CA', \n",
    "             'Folsom, CA', 'Florin, CA','Nevada City, CA', 'Yountville, CA', \n",
    "             'Redding, CA', 'Linda, CA', 'nolocationfound', 'Napa, CA', \n",
    "             'Glen Ellen, CA',]"
   ]
  },
  {
   "cell_type": "code",
   "execution_count": 25,
   "metadata": {},
   "outputs": [],
   "source": [
    "df['locs_no'] = df['locs_no'].replace(['Chico, CA',  'Oroville, CA', 'Magalia, CA', 'Paradise, CA',  \n",
    "             'Durham, CA', 'Oroville East, CA', 'South Oroville, CA', \n",
    "             'Thermalito, CA', 'Gridley, CA'], 1)"
   ]
  },
  {
   "cell_type": "code",
   "execution_count": 26,
   "metadata": {},
   "outputs": [],
   "source": [
    "df['locs_no'] = df['locs_no'].replace(['California, USA', 'Sacramento, CA', 'Reno, NV','Rocklin, CA', \n",
    "             'Folsom, CA', 'Florin, CA','Nevada City, CA', 'Yountville, CA', \n",
    "             'Redding, CA', 'Linda, CA', 'nolocationfound', 'Napa, CA', \n",
    "             'Glen Ellen, CA',], 0)"
   ]
  },
  {
   "cell_type": "code",
   "execution_count": 27,
   "metadata": {},
   "outputs": [
    {
     "data": {
      "text/html": [
       "<div>\n",
       "<style scoped>\n",
       "    .dataframe tbody tr th:only-of-type {\n",
       "        vertical-align: middle;\n",
       "    }\n",
       "\n",
       "    .dataframe tbody tr th {\n",
       "        vertical-align: top;\n",
       "    }\n",
       "\n",
       "    .dataframe thead th {\n",
       "        text-align: right;\n",
       "    }\n",
       "</style>\n",
       "<table border=\"1\" class=\"dataframe\">\n",
       "  <thead>\n",
       "    <tr style=\"text-align: right;\">\n",
       "      <th></th>\n",
       "      <th>tweet_count</th>\n",
       "      <th>City</th>\n",
       "      <th>id</th>\n",
       "      <th>tweet_text</th>\n",
       "      <th>timestamp</th>\n",
       "      <th>hashtags</th>\n",
       "      <th>username</th>\n",
       "      <th>mentions</th>\n",
       "      <th>rewtweets</th>\n",
       "      <th>replies</th>\n",
       "      <th>...</th>\n",
       "      <th>day</th>\n",
       "      <th>hour</th>\n",
       "      <th>minute</th>\n",
       "      <th>during_fire</th>\n",
       "      <th>is-fire-related</th>\n",
       "      <th>text_nourl</th>\n",
       "      <th>key_score</th>\n",
       "      <th>from_locations</th>\n",
       "      <th>sent</th>\n",
       "      <th>locs_no</th>\n",
       "    </tr>\n",
       "  </thead>\n",
       "  <tbody>\n",
       "    <tr>\n",
       "      <th>0</th>\n",
       "      <td>366.0</td>\n",
       "      <td>Paradise, CA</td>\n",
       "      <td>1.060000e+18</td>\n",
       "      <td>::paradise baby:: meet JD, the grandson of my ...</td>\n",
       "      <td>2018-11-16 16:31:06+00:00</td>\n",
       "      <td>#campfire</td>\n",
       "      <td>trekcass</td>\n",
       "      <td>@JulieRems</td>\n",
       "      <td>0</td>\n",
       "      <td>0</td>\n",
       "      <td>...</td>\n",
       "      <td>16</td>\n",
       "      <td>16</td>\n",
       "      <td>31</td>\n",
       "      <td>1</td>\n",
       "      <td>1</td>\n",
       "      <td>::paradise baby:: meet JD, the grandson of my ...</td>\n",
       "      <td>2</td>\n",
       "      <td>Paradise, CA</td>\n",
       "      <td>1</td>\n",
       "      <td>1</td>\n",
       "    </tr>\n",
       "    <tr>\n",
       "      <th>1</th>\n",
       "      <td>700.0</td>\n",
       "      <td>Paradise, CA</td>\n",
       "      <td>1.060000e+18</td>\n",
       "      <td>¡Coño! #CampFire @Chico, California https://ww...</td>\n",
       "      <td>2018-11-09 19:29:06+00:00</td>\n",
       "      <td>#CampFire</td>\n",
       "      <td>VXO</td>\n",
       "      <td>NaN</td>\n",
       "      <td>0</td>\n",
       "      <td>0</td>\n",
       "      <td>...</td>\n",
       "      <td>9</td>\n",
       "      <td>19</td>\n",
       "      <td>29</td>\n",
       "      <td>1</td>\n",
       "      <td>1</td>\n",
       "      <td>¡Coño! #CampFire @Chico, California</td>\n",
       "      <td>1</td>\n",
       "      <td>Chico, CA</td>\n",
       "      <td>1</td>\n",
       "      <td>1</td>\n",
       "    </tr>\n",
       "    <tr>\n",
       "      <th>2</th>\n",
       "      <td>494.0</td>\n",
       "      <td>Paradise, CA</td>\n",
       "      <td>1.060000e+18</td>\n",
       "      <td>. . . . . #photography #instapics #photographe...</td>\n",
       "      <td>2018-11-13 15:51:31+00:00</td>\n",
       "      <td>#photography #instapics #photographersofig #pi...</td>\n",
       "      <td>sidewayseightp</td>\n",
       "      <td>NaN</td>\n",
       "      <td>0</td>\n",
       "      <td>0</td>\n",
       "      <td>...</td>\n",
       "      <td>13</td>\n",
       "      <td>15</td>\n",
       "      <td>51</td>\n",
       "      <td>1</td>\n",
       "      <td>0</td>\n",
       "      <td>. . . . . #photography #instapics #photographe...</td>\n",
       "      <td>0</td>\n",
       "      <td>Chico, CA</td>\n",
       "      <td>1</td>\n",
       "      <td>1</td>\n",
       "    </tr>\n",
       "    <tr>\n",
       "      <th>3</th>\n",
       "      <td>53.0</td>\n",
       "      <td>Paradise, CA</td>\n",
       "      <td>1.070000e+18</td>\n",
       "      <td>.@Stucam7771 nailed it! The man in the White H...</td>\n",
       "      <td>2018-11-24 11:29:40+00:00</td>\n",
       "      <td>NaN</td>\n",
       "      <td>XLComedy</td>\n",
       "      <td>@stucam7771</td>\n",
       "      <td>1</td>\n",
       "      <td>0</td>\n",
       "      <td>...</td>\n",
       "      <td>24</td>\n",
       "      <td>11</td>\n",
       "      <td>29</td>\n",
       "      <td>1</td>\n",
       "      <td>1</td>\n",
       "      <td>.@Stucam7771 nailed it! The man in the White H...</td>\n",
       "      <td>0</td>\n",
       "      <td>Paradise, CA</td>\n",
       "      <td>1</td>\n",
       "      <td>1</td>\n",
       "    </tr>\n",
       "    <tr>\n",
       "      <th>4</th>\n",
       "      <td>201.0</td>\n",
       "      <td>Oroville, CA</td>\n",
       "      <td>1.060000e+18</td>\n",
       "      <td>‘Merurica... #voted #uklastudios #uklapictures...</td>\n",
       "      <td>2018-11-07 02:02:51+00:00</td>\n",
       "      <td>#voted #uklastudios #uklapictures</td>\n",
       "      <td>UKLA_Music</td>\n",
       "      <td>NaN</td>\n",
       "      <td>0</td>\n",
       "      <td>0</td>\n",
       "      <td>...</td>\n",
       "      <td>7</td>\n",
       "      <td>2</td>\n",
       "      <td>2</td>\n",
       "      <td>0</td>\n",
       "      <td>0</td>\n",
       "      <td>‘Merurica... #voted #uklastudios #uklapictures...</td>\n",
       "      <td>0</td>\n",
       "      <td>Gridley, CA</td>\n",
       "      <td>1</td>\n",
       "      <td>1</td>\n",
       "    </tr>\n",
       "  </tbody>\n",
       "</table>\n",
       "<p>5 rows × 21 columns</p>\n",
       "</div>"
      ],
      "text/plain": [
       "   tweet_count          City            id  \\\n",
       "0        366.0  Paradise, CA  1.060000e+18   \n",
       "1        700.0  Paradise, CA  1.060000e+18   \n",
       "2        494.0  Paradise, CA  1.060000e+18   \n",
       "3         53.0  Paradise, CA  1.070000e+18   \n",
       "4        201.0  Oroville, CA  1.060000e+18   \n",
       "\n",
       "                                          tweet_text  \\\n",
       "0  ::paradise baby:: meet JD, the grandson of my ...   \n",
       "1  ¡Coño! #CampFire @Chico, California https://ww...   \n",
       "2  . . . . . #photography #instapics #photographe...   \n",
       "3  .@Stucam7771 nailed it! The man in the White H...   \n",
       "4  ‘Merurica... #voted #uklastudios #uklapictures...   \n",
       "\n",
       "                   timestamp  \\\n",
       "0  2018-11-16 16:31:06+00:00   \n",
       "1  2018-11-09 19:29:06+00:00   \n",
       "2  2018-11-13 15:51:31+00:00   \n",
       "3  2018-11-24 11:29:40+00:00   \n",
       "4  2018-11-07 02:02:51+00:00   \n",
       "\n",
       "                                            hashtags        username  \\\n",
       "0                                          #campfire        trekcass   \n",
       "1                                          #CampFire             VXO   \n",
       "2  #photography #instapics #photographersofig #pi...  sidewayseightp   \n",
       "3                                                NaN        XLComedy   \n",
       "4                  #voted #uklastudios #uklapictures      UKLA_Music   \n",
       "\n",
       "      mentions  rewtweets  replies  ... day  hour  minute  during_fire  \\\n",
       "0   @JulieRems          0        0  ...  16    16      31            1   \n",
       "1          NaN          0        0  ...   9    19      29            1   \n",
       "2          NaN          0        0  ...  13    15      51            1   \n",
       "3  @stucam7771          1        0  ...  24    11      29            1   \n",
       "4          NaN          0        0  ...   7     2       2            0   \n",
       "\n",
       "   is-fire-related                                         text_nourl  \\\n",
       "0                1  ::paradise baby:: meet JD, the grandson of my ...   \n",
       "1                1                ¡Coño! #CampFire @Chico, California   \n",
       "2                0  . . . . . #photography #instapics #photographe...   \n",
       "3                1  .@Stucam7771 nailed it! The man in the White H...   \n",
       "4                0  ‘Merurica... #voted #uklastudios #uklapictures...   \n",
       "\n",
       "  key_score  from_locations sent  locs_no  \n",
       "0         2    Paradise, CA    1        1  \n",
       "1         1       Chico, CA    1        1  \n",
       "2         0       Chico, CA    1        1  \n",
       "3         0    Paradise, CA    1        1  \n",
       "4         0     Gridley, CA    1        1  \n",
       "\n",
       "[5 rows x 21 columns]"
      ]
     },
     "execution_count": 27,
     "metadata": {},
     "output_type": "execute_result"
    }
   ],
   "source": [
    "df.head()"
   ]
  },
  {
   "cell_type": "code",
   "execution_count": 28,
   "metadata": {},
   "outputs": [],
   "source": [
    "df_cluster = df[['key_score', 'locs_no']]"
   ]
  },
  {
   "cell_type": "code",
   "execution_count": 29,
   "metadata": {},
   "outputs": [
    {
     "ename": "ValueError",
     "evalue": "could not convert string to float: 'Carson City, NV'",
     "output_type": "error",
     "traceback": [
      "\u001b[0;31m---------------------------------------------------------------------------\u001b[0m",
      "\u001b[0;31mValueError\u001b[0m                                Traceback (most recent call last)",
      "\u001b[0;32m<ipython-input-29-6368e60d81fb>\u001b[0m in \u001b[0;36m<module>\u001b[0;34m\u001b[0m\n\u001b[1;32m      1\u001b[0m plt.scatter(x=df_cluster['key_score'],\n\u001b[1;32m      2\u001b[0m             \u001b[0my\u001b[0m\u001b[0;34m=\u001b[0m\u001b[0mdf_cluster\u001b[0m\u001b[0;34m[\u001b[0m\u001b[0;34m'locs_no'\u001b[0m\u001b[0;34m]\u001b[0m\u001b[0;34m,\u001b[0m\u001b[0;34m\u001b[0m\u001b[0;34m\u001b[0m\u001b[0m\n\u001b[0;32m----> 3\u001b[0;31m             c='b');\n\u001b[0m\u001b[1;32m      4\u001b[0m \u001b[0;34m\u001b[0m\u001b[0m\n\u001b[1;32m      5\u001b[0m \u001b[0mplt\u001b[0m\u001b[0;34m.\u001b[0m\u001b[0mxlabel\u001b[0m\u001b[0;34m(\u001b[0m\u001b[0;34m\"$X_1$\"\u001b[0m\u001b[0;34m,\u001b[0m \u001b[0mfontsize\u001b[0m\u001b[0;34m=\u001b[0m\u001b[0;36m18\u001b[0m\u001b[0;34m)\u001b[0m\u001b[0;34m;\u001b[0m\u001b[0;34m\u001b[0m\u001b[0;34m\u001b[0m\u001b[0m\n",
      "\u001b[0;32m~/anaconda/envs/dsi/lib/python3.7/site-packages/matplotlib/pyplot.py\u001b[0m in \u001b[0;36mscatter\u001b[0;34m(x, y, s, c, marker, cmap, norm, vmin, vmax, alpha, linewidths, verts, edgecolors, plotnonfinite, data, **kwargs)\u001b[0m\n\u001b[1;32m   2814\u001b[0m         \u001b[0mverts\u001b[0m\u001b[0;34m=\u001b[0m\u001b[0mverts\u001b[0m\u001b[0;34m,\u001b[0m \u001b[0medgecolors\u001b[0m\u001b[0;34m=\u001b[0m\u001b[0medgecolors\u001b[0m\u001b[0;34m,\u001b[0m\u001b[0;34m\u001b[0m\u001b[0;34m\u001b[0m\u001b[0m\n\u001b[1;32m   2815\u001b[0m         plotnonfinite=plotnonfinite, **({\"data\": data} if data is not\n\u001b[0;32m-> 2816\u001b[0;31m         None else {}), **kwargs)\n\u001b[0m\u001b[1;32m   2817\u001b[0m     \u001b[0msci\u001b[0m\u001b[0;34m(\u001b[0m\u001b[0m__ret\u001b[0m\u001b[0;34m)\u001b[0m\u001b[0;34m\u001b[0m\u001b[0;34m\u001b[0m\u001b[0m\n\u001b[1;32m   2818\u001b[0m     \u001b[0;32mreturn\u001b[0m \u001b[0m__ret\u001b[0m\u001b[0;34m\u001b[0m\u001b[0;34m\u001b[0m\u001b[0m\n",
      "\u001b[0;32m~/anaconda/envs/dsi/lib/python3.7/site-packages/matplotlib/__init__.py\u001b[0m in \u001b[0;36minner\u001b[0;34m(ax, data, *args, **kwargs)\u001b[0m\n\u001b[1;32m   1563\u001b[0m     \u001b[0;32mdef\u001b[0m \u001b[0minner\u001b[0m\u001b[0;34m(\u001b[0m\u001b[0max\u001b[0m\u001b[0;34m,\u001b[0m \u001b[0;34m*\u001b[0m\u001b[0margs\u001b[0m\u001b[0;34m,\u001b[0m \u001b[0mdata\u001b[0m\u001b[0;34m=\u001b[0m\u001b[0;32mNone\u001b[0m\u001b[0;34m,\u001b[0m \u001b[0;34m**\u001b[0m\u001b[0mkwargs\u001b[0m\u001b[0;34m)\u001b[0m\u001b[0;34m:\u001b[0m\u001b[0;34m\u001b[0m\u001b[0;34m\u001b[0m\u001b[0m\n\u001b[1;32m   1564\u001b[0m         \u001b[0;32mif\u001b[0m \u001b[0mdata\u001b[0m \u001b[0;32mis\u001b[0m \u001b[0;32mNone\u001b[0m\u001b[0;34m:\u001b[0m\u001b[0;34m\u001b[0m\u001b[0;34m\u001b[0m\u001b[0m\n\u001b[0;32m-> 1565\u001b[0;31m             \u001b[0;32mreturn\u001b[0m \u001b[0mfunc\u001b[0m\u001b[0;34m(\u001b[0m\u001b[0max\u001b[0m\u001b[0;34m,\u001b[0m \u001b[0;34m*\u001b[0m\u001b[0mmap\u001b[0m\u001b[0;34m(\u001b[0m\u001b[0msanitize_sequence\u001b[0m\u001b[0;34m,\u001b[0m \u001b[0margs\u001b[0m\u001b[0;34m)\u001b[0m\u001b[0;34m,\u001b[0m \u001b[0;34m**\u001b[0m\u001b[0mkwargs\u001b[0m\u001b[0;34m)\u001b[0m\u001b[0;34m\u001b[0m\u001b[0;34m\u001b[0m\u001b[0m\n\u001b[0m\u001b[1;32m   1566\u001b[0m \u001b[0;34m\u001b[0m\u001b[0m\n\u001b[1;32m   1567\u001b[0m         \u001b[0mbound\u001b[0m \u001b[0;34m=\u001b[0m \u001b[0mnew_sig\u001b[0m\u001b[0;34m.\u001b[0m\u001b[0mbind\u001b[0m\u001b[0;34m(\u001b[0m\u001b[0max\u001b[0m\u001b[0;34m,\u001b[0m \u001b[0;34m*\u001b[0m\u001b[0margs\u001b[0m\u001b[0;34m,\u001b[0m \u001b[0;34m**\u001b[0m\u001b[0mkwargs\u001b[0m\u001b[0;34m)\u001b[0m\u001b[0;34m\u001b[0m\u001b[0;34m\u001b[0m\u001b[0m\n",
      "\u001b[0;32m~/anaconda/envs/dsi/lib/python3.7/site-packages/matplotlib/cbook/deprecation.py\u001b[0m in \u001b[0;36mwrapper\u001b[0;34m(*args, **kwargs)\u001b[0m\n\u001b[1;32m    356\u001b[0m                 \u001b[0;34mf\"%(removal)s.  If any parameter follows {name!r}, they \"\u001b[0m\u001b[0;34m\u001b[0m\u001b[0;34m\u001b[0m\u001b[0m\n\u001b[1;32m    357\u001b[0m                 f\"should be pass as keyword, not positionally.\")\n\u001b[0;32m--> 358\u001b[0;31m         \u001b[0;32mreturn\u001b[0m \u001b[0mfunc\u001b[0m\u001b[0;34m(\u001b[0m\u001b[0;34m*\u001b[0m\u001b[0margs\u001b[0m\u001b[0;34m,\u001b[0m \u001b[0;34m**\u001b[0m\u001b[0mkwargs\u001b[0m\u001b[0;34m)\u001b[0m\u001b[0;34m\u001b[0m\u001b[0;34m\u001b[0m\u001b[0m\n\u001b[0m\u001b[1;32m    359\u001b[0m \u001b[0;34m\u001b[0m\u001b[0m\n\u001b[1;32m    360\u001b[0m     \u001b[0;32mreturn\u001b[0m \u001b[0mwrapper\u001b[0m\u001b[0;34m\u001b[0m\u001b[0;34m\u001b[0m\u001b[0m\n",
      "\u001b[0;32m~/anaconda/envs/dsi/lib/python3.7/site-packages/matplotlib/axes/_axes.py\u001b[0m in \u001b[0;36mscatter\u001b[0;34m(self, x, y, s, c, marker, cmap, norm, vmin, vmax, alpha, linewidths, verts, edgecolors, plotnonfinite, **kwargs)\u001b[0m\n\u001b[1;32m   4427\u001b[0m                 \u001b[0moffsets\u001b[0m\u001b[0;34m=\u001b[0m\u001b[0moffsets\u001b[0m\u001b[0;34m,\u001b[0m\u001b[0;34m\u001b[0m\u001b[0;34m\u001b[0m\u001b[0m\n\u001b[1;32m   4428\u001b[0m                 \u001b[0mtransOffset\u001b[0m\u001b[0;34m=\u001b[0m\u001b[0mkwargs\u001b[0m\u001b[0;34m.\u001b[0m\u001b[0mpop\u001b[0m\u001b[0;34m(\u001b[0m\u001b[0;34m'transform'\u001b[0m\u001b[0;34m,\u001b[0m \u001b[0mself\u001b[0m\u001b[0;34m.\u001b[0m\u001b[0mtransData\u001b[0m\u001b[0;34m)\u001b[0m\u001b[0;34m,\u001b[0m\u001b[0;34m\u001b[0m\u001b[0;34m\u001b[0m\u001b[0m\n\u001b[0;32m-> 4429\u001b[0;31m                 \u001b[0malpha\u001b[0m\u001b[0;34m=\u001b[0m\u001b[0malpha\u001b[0m\u001b[0;34m\u001b[0m\u001b[0;34m\u001b[0m\u001b[0m\n\u001b[0m\u001b[1;32m   4430\u001b[0m                 )\n\u001b[1;32m   4431\u001b[0m         \u001b[0mcollection\u001b[0m\u001b[0;34m.\u001b[0m\u001b[0mset_transform\u001b[0m\u001b[0;34m(\u001b[0m\u001b[0mmtransforms\u001b[0m\u001b[0;34m.\u001b[0m\u001b[0mIdentityTransform\u001b[0m\u001b[0;34m(\u001b[0m\u001b[0;34m)\u001b[0m\u001b[0;34m)\u001b[0m\u001b[0;34m\u001b[0m\u001b[0;34m\u001b[0m\u001b[0m\n",
      "\u001b[0;32m~/anaconda/envs/dsi/lib/python3.7/site-packages/matplotlib/collections.py\u001b[0m in \u001b[0;36m__init__\u001b[0;34m(self, paths, sizes, **kwargs)\u001b[0m\n\u001b[1;32m    910\u001b[0m         \"\"\"\n\u001b[1;32m    911\u001b[0m \u001b[0;34m\u001b[0m\u001b[0m\n\u001b[0;32m--> 912\u001b[0;31m         \u001b[0mCollection\u001b[0m\u001b[0;34m.\u001b[0m\u001b[0m__init__\u001b[0m\u001b[0;34m(\u001b[0m\u001b[0mself\u001b[0m\u001b[0;34m,\u001b[0m \u001b[0;34m**\u001b[0m\u001b[0mkwargs\u001b[0m\u001b[0;34m)\u001b[0m\u001b[0;34m\u001b[0m\u001b[0;34m\u001b[0m\u001b[0m\n\u001b[0m\u001b[1;32m    913\u001b[0m         \u001b[0mself\u001b[0m\u001b[0;34m.\u001b[0m\u001b[0mset_paths\u001b[0m\u001b[0;34m(\u001b[0m\u001b[0mpaths\u001b[0m\u001b[0;34m)\u001b[0m\u001b[0;34m\u001b[0m\u001b[0;34m\u001b[0m\u001b[0m\n\u001b[1;32m    914\u001b[0m         \u001b[0mself\u001b[0m\u001b[0;34m.\u001b[0m\u001b[0mset_sizes\u001b[0m\u001b[0;34m(\u001b[0m\u001b[0msizes\u001b[0m\u001b[0;34m)\u001b[0m\u001b[0;34m\u001b[0m\u001b[0;34m\u001b[0m\u001b[0m\n",
      "\u001b[0;32m~/anaconda/envs/dsi/lib/python3.7/site-packages/matplotlib/collections.py\u001b[0m in \u001b[0;36m__init__\u001b[0;34m(self, edgecolors, facecolors, linewidths, linestyles, capstyle, joinstyle, antialiaseds, offsets, transOffset, norm, cmap, pickradius, hatch, urls, offset_position, zorder, **kwargs)\u001b[0m\n\u001b[1;32m    151\u001b[0m         \u001b[0mself\u001b[0m\u001b[0;34m.\u001b[0m\u001b[0m_uniform_offsets\u001b[0m \u001b[0;34m=\u001b[0m \u001b[0;32mNone\u001b[0m\u001b[0;34m\u001b[0m\u001b[0;34m\u001b[0m\u001b[0m\n\u001b[1;32m    152\u001b[0m         \u001b[0;32mif\u001b[0m \u001b[0moffsets\u001b[0m \u001b[0;32mis\u001b[0m \u001b[0;32mnot\u001b[0m \u001b[0;32mNone\u001b[0m\u001b[0;34m:\u001b[0m\u001b[0;34m\u001b[0m\u001b[0;34m\u001b[0m\u001b[0m\n\u001b[0;32m--> 153\u001b[0;31m             \u001b[0moffsets\u001b[0m \u001b[0;34m=\u001b[0m \u001b[0mnp\u001b[0m\u001b[0;34m.\u001b[0m\u001b[0masanyarray\u001b[0m\u001b[0;34m(\u001b[0m\u001b[0moffsets\u001b[0m\u001b[0;34m,\u001b[0m \u001b[0mfloat\u001b[0m\u001b[0;34m)\u001b[0m\u001b[0;34m\u001b[0m\u001b[0;34m\u001b[0m\u001b[0m\n\u001b[0m\u001b[1;32m    154\u001b[0m             \u001b[0;31m# Broadcast (2,) -> (1, 2) but nothing else.\u001b[0m\u001b[0;34m\u001b[0m\u001b[0;34m\u001b[0m\u001b[0;34m\u001b[0m\u001b[0m\n\u001b[1;32m    155\u001b[0m             \u001b[0;32mif\u001b[0m \u001b[0moffsets\u001b[0m\u001b[0;34m.\u001b[0m\u001b[0mshape\u001b[0m \u001b[0;34m==\u001b[0m \u001b[0;34m(\u001b[0m\u001b[0;36m2\u001b[0m\u001b[0;34m,\u001b[0m\u001b[0;34m)\u001b[0m\u001b[0;34m:\u001b[0m\u001b[0;34m\u001b[0m\u001b[0;34m\u001b[0m\u001b[0m\n",
      "\u001b[0;32m~/anaconda/envs/dsi/lib/python3.7/site-packages/numpy/core/_asarray.py\u001b[0m in \u001b[0;36masanyarray\u001b[0;34m(a, dtype, order)\u001b[0m\n\u001b[1;32m    136\u001b[0m \u001b[0;34m\u001b[0m\u001b[0m\n\u001b[1;32m    137\u001b[0m     \"\"\"\n\u001b[0;32m--> 138\u001b[0;31m     \u001b[0;32mreturn\u001b[0m \u001b[0marray\u001b[0m\u001b[0;34m(\u001b[0m\u001b[0ma\u001b[0m\u001b[0;34m,\u001b[0m \u001b[0mdtype\u001b[0m\u001b[0;34m,\u001b[0m \u001b[0mcopy\u001b[0m\u001b[0;34m=\u001b[0m\u001b[0;32mFalse\u001b[0m\u001b[0;34m,\u001b[0m \u001b[0morder\u001b[0m\u001b[0;34m=\u001b[0m\u001b[0morder\u001b[0m\u001b[0;34m,\u001b[0m \u001b[0msubok\u001b[0m\u001b[0;34m=\u001b[0m\u001b[0;32mTrue\u001b[0m\u001b[0;34m)\u001b[0m\u001b[0;34m\u001b[0m\u001b[0;34m\u001b[0m\u001b[0m\n\u001b[0m\u001b[1;32m    139\u001b[0m \u001b[0;34m\u001b[0m\u001b[0m\n\u001b[1;32m    140\u001b[0m \u001b[0;34m\u001b[0m\u001b[0m\n",
      "\u001b[0;31mValueError\u001b[0m: could not convert string to float: 'Carson City, NV'"
     ]
    },
    {
     "data": {
      "image/png": "[encoded data removed]",
      "text/plain": [
       "<Figure size 432x288 with 1 Axes>"
      ]
     },
     "metadata": {
      "needs_background": "light"
     },
     "output_type": "display_data"
    }
   ],
   "source": [
    "plt.scatter(x=df_cluster['key_score'],\n",
    "            y=df_cluster['locs_no'],\n",
    "            c='b');\n",
    "\n",
    "plt.xlabel(\"$X_1$\", fontsize=18);\n",
    "plt.ylabel(\"$X_2$\", fontsize=18);"
   ]
  },
  {
   "cell_type": "code",
   "execution_count": null,
   "metadata": {},
   "outputs": [],
   "source": [
    "df['timestamp'].sort_values()"
   ]
  },
  {
   "cell_type": "code",
   "execution_count": null,
   "metadata": {
    "scrolled": true
   },
   "outputs": [],
   "source": [
    "df.sort_values(by='timestamp')"
   ]
  },
  {
   "cell_type": "code",
   "execution_count": null,
   "metadata": {},
   "outputs": [],
   "source": [
    "cities = pd.read_csv('./datasets/cities_clean.csv')"
   ]
  },
  {
   "cell_type": "code",
   "execution_count": null,
   "metadata": {},
   "outputs": [],
   "source": [
    "cities.sort_values(by='timestamp')"
   ]
  },
  {
   "cell_type": "code",
   "execution_count": null,
   "metadata": {},
   "outputs": [],
   "source": [
    "cities.drop_duplicates(subset =\"id\", \n",
    "                     keep = 'first', inplace = True) "
   ]
  },
  {
   "cell_type": "code",
   "execution_count": null,
   "metadata": {},
   "outputs": [],
   "source": [
    "cities.shape"
   ]
  },
  {
   "cell_type": "code",
   "execution_count": null,
   "metadata": {},
   "outputs": [],
   "source": [
    "cities.drop_duplicates(subset =\"id\", \n",
    "                     keep = 'first', inplace = True) \n",
    "cities.shape"
   ]
  },
  {
   "cell_type": "code",
   "execution_count": null,
   "metadata": {},
   "outputs": [],
   "source": [
    "cities.dtypes"
   ]
  },
  {
   "cell_type": "code",
   "execution_count": null,
   "metadata": {},
   "outputs": [],
   "source": [
    "cities['timestamp'] = pd.to_datetime(cities['timestamp'])"
   ]
  },
  {
   "cell_type": "code",
   "execution_count": null,
   "metadata": {},
   "outputs": [],
   "source": [
    "cities.dtypes"
   ]
  },
  {
   "cell_type": "code",
   "execution_count": null,
   "metadata": {},
   "outputs": [],
   "source": [
    "plt.hist(cities['timestamp'])"
   ]
  },
  {
   "cell_type": "code",
   "execution_count": null,
   "metadata": {},
   "outputs": [],
   "source": [
    "import datetime"
   ]
  },
  {
   "cell_type": "code",
   "execution_count": null,
   "metadata": {},
   "outputs": [],
   "source": [
    "cities.shape"
   ]
  },
  {
   "cell_type": "code",
   "execution_count": null,
   "metadata": {},
   "outputs": [],
   "source": [
    "cities.columns"
   ]
  },
  {
   "cell_type": "code",
   "execution_count": null,
   "metadata": {},
   "outputs": [],
   "source": [
    "df.head()"
   ]
  },
  {
   "cell_type": "code",
   "execution_count": null,
   "metadata": {},
   "outputs": [],
   "source": [
    "df.drop_duplicates(subset =\"id\", \n",
    "                     keep = 'first', inplace = True) \n",
    "df.head()"
   ]
  },
  {
   "cell_type": "code",
   "execution_count": null,
   "metadata": {},
   "outputs": [],
   "source": [
    "df.shape"
   ]
  },
  {
   "cell_type": "code",
   "execution_count": null,
   "metadata": {},
   "outputs": [],
   "source": [
    "import chart_studio.plotly as py \n",
    "import plotly.graph_objs as go \n",
    "import plotly.express as px"
   ]
  },
  {
   "cell_type": "code",
   "execution_count": null,
   "metadata": {},
   "outputs": [],
   "source": [
    "# Simple line graph of apple high prices\n",
    "fig = px.line(df, # data\n",
    "             x = 'timestamp', # date for x-axis\n",
    "             y = 'key_score' ) # plot close price\n",
    "fig.show()"
   ]
  },
  {
   "cell_type": "code",
   "execution_count": null,
   "metadata": {},
   "outputs": [],
   "source": [
    "df.columns"
   ]
  },
  {
   "cell_type": "code",
   "execution_count": null,
   "metadata": {},
   "outputs": [],
   "source": [
    "df.from_locations.value_counts()"
   ]
  },
  {
   "cell_type": "code",
   "execution_count": null,
   "metadata": {},
   "outputs": [],
   "source": [
    "pd.set_option('display.max_rows', 500) #display max rows\n",
    "df[(df.from_locations == 'California, USA')] "
   ]
  },
  {
   "cell_type": "code",
   "execution_count": null,
   "metadata": {},
   "outputs": [],
   "source": []
  }
 ],
 "metadata": {
  "kernelspec": {
   "display_name": "Python 3",
   "language": "python",
   "name": "python3"
  },
  "language_info": {
   "codemirror_mode": {
    "name": "ipython",
    "version": 3
   },
   "file_extension": ".py",
   "mimetype": "text/x-python",
   "name": "python",
   "nbconvert_exporter": "python",
   "pygments_lexer": "ipython3",
   "version": "3.7.6"
  }
 },
 "nbformat": 4,
 "nbformat_minor": 4
}
