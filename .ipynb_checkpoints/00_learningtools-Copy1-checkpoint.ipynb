{
 "cells": [
  {
   "cell_type": "code",
   "execution_count": 1,
   "metadata": {
    "ExecuteTime": {
     "end_time": "2020-05-11T15:37:51.210973Z",
     "start_time": "2020-05-11T15:37:49.600010Z"
    }
   },
   "outputs": [],
   "source": [
    "import GetOldTweets3 as got\n",
    "import pandas as pd\n",
    "import requests\n",
    "from bs4 import BeautifulSoup\n",
    "import gensim"
   ]
  },
  {
   "cell_type": "code",
   "execution_count": 61,
   "metadata": {
    "ExecuteTime": {
     "end_time": "2020-05-06T23:38:52.215919Z",
     "start_time": "2020-05-06T23:38:50.696936Z"
    }
   },
   "outputs": [
    {
     "name": "stdout",
     "output_type": "stream",
     "text": [
      "Those are all the breweries within 15 miles of me right now. #holyshit #brewerymap #amazing… https://www.instagram.com/p/BAz3kvwPG7A/\n"
     ]
    }
   ],
   "source": [
    "tweetCriteria = got.manager.TweetCriteria().setNear(\"Denver, Co\")\\\n",
    "                                            .setWithin('15 miles')\\\n",
    "                                            .setMaxTweets(10)\n",
    "tweet = got.manager.TweetManager.getTweets(tweetCriteria)[0]\n",
    "print(tweet.text)\n",
    "\n"
   ]
  },
  {
   "cell_type": "code",
   "execution_count": 2,
   "metadata": {
    "ExecuteTime": {
     "end_time": "2020-05-08T00:11:38.198621Z",
     "start_time": "2020-05-08T00:11:36.899158Z"
    }
   },
   "outputs": [],
   "source": [
    "tweetCriteria = got.manager.TweetCriteria().setNear(\"Paradise, Ca\")\\\n",
    "                                            .setSince(\"2018-11-07\")\\\n",
    "                                           .setUntil(\"2018-11-15\")\\\n",
    "                                           .setMaxTweets(30)\n",
    "tweets = got.manager.TweetManager.getTweets(tweetCriteria)\n"
   ]
  },
  {
   "cell_type": "code",
   "execution_count": 3,
   "metadata": {
    "ExecuteTime": {
     "end_time": "2020-05-08T00:11:42.420131Z",
     "start_time": "2020-05-08T00:11:41.110972Z"
    }
   },
   "outputs": [
    {
     "data": {
      "text/html": [
       "<div>\n",
       "<style scoped>\n",
       "    .dataframe tbody tr th:only-of-type {\n",
       "        vertical-align: middle;\n",
       "    }\n",
       "\n",
       "    .dataframe tbody tr th {\n",
       "        vertical-align: top;\n",
       "    }\n",
       "\n",
       "    .dataframe thead th {\n",
       "        text-align: right;\n",
       "    }\n",
       "</style>\n",
       "<table border=\"1\" class=\"dataframe\">\n",
       "  <thead>\n",
       "    <tr style=\"text-align: right;\">\n",
       "      <th></th>\n",
       "      <th>tweet_count</th>\n",
       "      <th>City</th>\n",
       "      <th>id</th>\n",
       "      <th>tweet_text</th>\n",
       "      <th>date</th>\n",
       "      <th>hashtags</th>\n",
       "      <th>username</th>\n",
       "      <th>mentions</th>\n",
       "      <th>rewtweets</th>\n",
       "      <th>replies</th>\n",
       "      <th>link</th>\n",
       "    </tr>\n",
       "  </thead>\n",
       "  <tbody>\n",
       "    <tr>\n",
       "      <th>0</th>\n",
       "      <td>0</td>\n",
       "      <td>Butte County</td>\n",
       "      <td>1062855646867935232</td>\n",
       "      <td>RISE. #campfire #paradise #california #califor...</td>\n",
       "      <td>2018-11-14 23:51:47+00:00</td>\n",
       "      <td>#campfire #paradise #california #californiafir...</td>\n",
       "      <td>DraperStudios</td>\n",
       "      <td></td>\n",
       "      <td>0</td>\n",
       "      <td>0</td>\n",
       "      <td>https://twitter.com/DraperStudios/status/10628...</td>\n",
       "    </tr>\n",
       "    <tr>\n",
       "      <th>1</th>\n",
       "      <td>1</td>\n",
       "      <td>Butte County</td>\n",
       "      <td>1062853658596069377</td>\n",
       "      <td>The air quality is a reminder of the lost peop...</td>\n",
       "      <td>2018-11-14 23:43:53+00:00</td>\n",
       "      <td>#fire #pray #help</td>\n",
       "      <td>jhowell805</td>\n",
       "      <td></td>\n",
       "      <td>0</td>\n",
       "      <td>0</td>\n",
       "      <td>https://twitter.com/jhowell805/status/10628536...</td>\n",
       "    </tr>\n",
       "    <tr>\n",
       "      <th>2</th>\n",
       "      <td>2</td>\n",
       "      <td>Butte County</td>\n",
       "      <td>1062849282598952960</td>\n",
       "      <td>Showing luv from #tuffcookie4godsownheart We l...</td>\n",
       "      <td>2018-11-14 23:26:30+00:00</td>\n",
       "      <td>#tuffcookie4godsownheart</td>\n",
       "      <td>MizshakurDon</td>\n",
       "      <td></td>\n",
       "      <td>1</td>\n",
       "      <td>0</td>\n",
       "      <td>https://twitter.com/MizshakurDon/status/106284...</td>\n",
       "    </tr>\n",
       "    <tr>\n",
       "      <th>3</th>\n",
       "      <td>3</td>\n",
       "      <td>Butte County</td>\n",
       "      <td>1062848037930835968</td>\n",
       "      <td>All of the sudden this afternoon, the smoke an...</td>\n",
       "      <td>2018-11-14 23:21:33+00:00</td>\n",
       "      <td></td>\n",
       "      <td>mmburleson</td>\n",
       "      <td></td>\n",
       "      <td>0</td>\n",
       "      <td>1</td>\n",
       "      <td>https://twitter.com/mmburleson/status/10628480...</td>\n",
       "    </tr>\n",
       "    <tr>\n",
       "      <th>4</th>\n",
       "      <td>4</td>\n",
       "      <td>Butte County</td>\n",
       "      <td>1062846655094050817</td>\n",
       "      <td>Our thoughts and prayers are with those that h...</td>\n",
       "      <td>2018-11-14 23:16:03+00:00</td>\n",
       "      <td></td>\n",
       "      <td>FederalistAlley</td>\n",
       "      <td></td>\n",
       "      <td>0</td>\n",
       "      <td>0</td>\n",
       "      <td>https://twitter.com/FederalistAlley/status/106...</td>\n",
       "    </tr>\n",
       "  </tbody>\n",
       "</table>\n",
       "</div>"
      ],
      "text/plain": [
       "   tweet_count          City                   id  \\\n",
       "0            0  Butte County  1062855646867935232   \n",
       "1            1  Butte County  1062853658596069377   \n",
       "2            2  Butte County  1062849282598952960   \n",
       "3            3  Butte County  1062848037930835968   \n",
       "4            4  Butte County  1062846655094050817   \n",
       "\n",
       "                                          tweet_text  \\\n",
       "0  RISE. #campfire #paradise #california #califor...   \n",
       "1  The air quality is a reminder of the lost peop...   \n",
       "2  Showing luv from #tuffcookie4godsownheart We l...   \n",
       "3  All of the sudden this afternoon, the smoke an...   \n",
       "4  Our thoughts and prayers are with those that h...   \n",
       "\n",
       "                       date  \\\n",
       "0 2018-11-14 23:51:47+00:00   \n",
       "1 2018-11-14 23:43:53+00:00   \n",
       "2 2018-11-14 23:26:30+00:00   \n",
       "3 2018-11-14 23:21:33+00:00   \n",
       "4 2018-11-14 23:16:03+00:00   \n",
       "\n",
       "                                            hashtags         username  \\\n",
       "0  #campfire #paradise #california #californiafir...    DraperStudios   \n",
       "1                                  #fire #pray #help       jhowell805   \n",
       "2                           #tuffcookie4godsownheart     MizshakurDon   \n",
       "3                                                          mmburleson   \n",
       "4                                                     FederalistAlley   \n",
       "\n",
       "  mentions  rewtweets  replies  \\\n",
       "0                   0        0   \n",
       "1                   0        0   \n",
       "2                   1        0   \n",
       "3                   0        1   \n",
       "4                   0        0   \n",
       "\n",
       "                                                link  \n",
       "0  https://twitter.com/DraperStudios/status/10628...  \n",
       "1  https://twitter.com/jhowell805/status/10628536...  \n",
       "2  https://twitter.com/MizshakurDon/status/106284...  \n",
       "3  https://twitter.com/mmburleson/status/10628480...  \n",
       "4  https://twitter.com/FederalistAlley/status/106...  "
      ]
     },
     "execution_count": 3,
     "metadata": {},
     "output_type": "execute_result"
    }
   ],
   "source": [
    "def get_twitter_info():\n",
    "    tweet_df[\"id\"] = tweet_df[\"got_criteria\"].apply(lambda x: x.id)\n",
    "    tweet_df[\"tweet_text\"] = tweet_df[\"got_criteria\"].apply(lambda x: x.text)\n",
    "    tweet_df[\"date\"] = tweet_df[\"got_criteria\"].apply(lambda x: x.date)\n",
    "    tweet_df[\"hashtags\"] = tweet_df[\"got_criteria\"].apply(lambda x: x.hashtags)\n",
    "    tweet_df[\"username\"] = tweet_df[\"got_criteria\"].apply(lambda x: x.username)\n",
    "    tweet_df[\"mentions\"] = tweet_df[\"got_criteria\"].apply(lambda x: x.mentions)\n",
    "    tweet_df[\"rewtweets\"] = tweet_df[\"got_criteria\"].apply(lambda x: x.retweets)\n",
    "    tweet_df[\"replies\"] = tweet_df[\"got_criteria\"].apply(lambda x: x.replies)\n",
    "    tweet_df[\"link\"] = tweet_df[\"got_criteria\"].apply(lambda x: x.permalink)\n",
    "# https://medium.com/@robbiegeoghegan/download-twitter-data-with-10-lines-of-code-42eb2ba1ab0f\n",
    "#set search variables\n",
    "keyword = \"fire\"\n",
    "oldest_date = \"2018-11-01\"    \n",
    "newest_date = \"2018-11-15\"\n",
    "locations = [\"Butte County\", \"Sacramento\"]\n",
    "number_tweets = 10         #per location\n",
    "#get old tweets\n",
    "tweetCriteria_list = []\n",
    "for location in locations:\n",
    "    tweetCriteria = got.manager.TweetCriteria().setQuerySearch(keyword)\\\n",
    "                                            .setSince(oldest_date)\\\n",
    "                                            .setUntil(newest_date)\\\n",
    "                                            .setNear(location)\\\n",
    "                                            .setWithin('300mi')\\\n",
    "                                            .setMaxTweets(number_tweets)\n",
    "    tweetCriteria_list.append(tweetCriteria)\n",
    "#create twitter info for each city\n",
    "tweet_dict = {}\n",
    "for criteria, location in zip(tweetCriteria_list, locations):\n",
    "    tweets = got.manager.TweetManager.getTweets(criteria)\n",
    "    tweet_dict[location] = tweets\n",
    "#create df\n",
    "tweet_df = pd.DataFrame(dict([ (k,pd.Series(v)) for k,v in tweet_dict.items() ]))\n",
    "tweet_df['tweet_count'] = tweet_df.index\n",
    "tweet_df = pd.melt(tweet_df, id_vars=[\"tweet_count\"], var_name='City', value_name='got_criteria')\n",
    "# tweet_df = tweet_df.dropna()\n",
    "#extract twitter information\n",
    "get_twitter_info()\n",
    "tweet_df = tweet_df.drop(\"got_criteria\", 1)\n",
    "tweet_df.head()"
   ]
  },
  {
   "cell_type": "code",
   "execution_count": 4,
   "metadata": {
    "ExecuteTime": {
     "end_time": "2020-05-08T00:11:45.598161Z",
     "start_time": "2020-05-08T00:11:45.261724Z"
    }
   },
   "outputs": [
    {
     "data": {
      "text/plain": [
       "200"
      ]
     },
     "execution_count": 4,
     "metadata": {},
     "output_type": "execute_result"
    }
   ],
   "source": [
    "# Location from tweet extractor\n",
    "\n",
    "url = tweet_dict['Butte County'][0].permalink\n",
    "res = requests.get(url)\n",
    "\n",
    "\n",
    "soup = BeautifulSoup(res.content, 'lxml')\n",
    "\n",
    "spans = soup.find_all('span', {'class' : 'permalink-tweet-geo-text'})\n",
    "\n",
    "spans[0].text.replace(\"from\",'').strip()"
   ]
  },
  {
   "cell_type": "code",
   "execution_count": 32,
   "metadata": {
    "ExecuteTime": {
     "end_time": "2020-05-08T00:22:32.113006Z",
     "start_time": "2020-05-08T00:22:32.108196Z"
    }
   },
   "outputs": [],
   "source": [
    "for span in soup.find_all('span'):\n",
    "    if span.text == 'Instagram':\n",
    "        print('find')"
   ]
  },
  {
   "cell_type": "code",
   "execution_count": null,
   "metadata": {},
   "outputs": [],
   "source": [
    "{'class' : 'css-901oao css-16my406 r-1qd0xha r-ad9z0x r-bcqeeo r-qvutc0'}\n"
   ]
  },
  {
   "cell_type": "code",
   "execution_count": 46,
   "metadata": {
    "ExecuteTime": {
     "end_time": "2020-05-06T22:34:11.950512Z",
     "start_time": "2020-05-06T22:34:11.947593Z"
    }
   },
   "outputs": [
    {
     "data": {
      "text/plain": [
       "'MembersGetIt'"
      ]
     },
     "execution_count": 46,
     "metadata": {},
     "output_type": "execute_result"
    }
   ],
   "source": [
    "tweets[22].username"
   ]
  },
  {
   "cell_type": "code",
   "execution_count": 3,
   "metadata": {
    "ExecuteTime": {
     "end_time": "2020-05-08T20:58:41.517540Z",
     "start_time": "2020-05-08T20:58:40.803091Z"
    },
    "scrolled": true
   },
   "outputs": [
    {
     "data": {
      "text/plain": [
       "7"
      ]
     },
     "execution_count": 3,
     "metadata": {},
     "output_type": "execute_result"
    }
   ],
   "source": [
    "tweetCriteria = got.manager.TweetCriteria().setQuerySearch(\"CAL_FIRE\")\\\n",
    "                                            .setSince(\"2018-11-01\")\\\n",
    "                                           .setUntil(\"2018-11-30\")\\\n",
    "                                            .setNear(\"Los Angeles, Ca\")\n",
    "\n",
    "tweets = got.manager.TweetManager.getTweets(tweetCriteria)\n",
    "len(tweets)"
   ]
  },
  {
   "cell_type": "code",
   "execution_count": 2,
   "metadata": {
    "ExecuteTime": {
     "end_time": "2020-05-11T15:39:26.254152Z",
     "start_time": "2020-05-11T15:37:55.545708Z"
    }
   },
   "outputs": [],
   "source": [
    "# Import word vectors into \"model.\"\n",
    "model = gensim.models.KeyedVectors.load_word2vec_format('../lexvec.enwiki+newscrawl.300d.W.pos.vectors')\n"
   ]
  },
  {
   "cell_type": "code",
   "execution_count": 14,
   "metadata": {
    "ExecuteTime": {
     "end_time": "2020-05-11T20:35:29.123369Z",
     "start_time": "2020-05-11T20:35:28.632386Z"
    },
    "scrolled": true
   },
   "outputs": [],
   "source": [
    "keyterms = []\n",
    "keywords = ['fire', 'smoke', 'wildfire', 'campfire', 'forest', 'evacuate', 'hell']\n",
    "\n",
    "for word in keywords:\n",
    "    kt = [x[0] for x in model.most_similar(word, topn = 25)]\n",
    "    keyterms+= kt\n",
    "query_list = list(set(keyterms))"
   ]
  }
 ],
 "metadata": {
  "kernelspec": {
   "display_name": "Python 3",
   "language": "python",
   "name": "python3"
  },
  "language_info": {
   "codemirror_mode": {
    "name": "ipython",
    "version": 3
   },
   "file_extension": ".py",
   "mimetype": "text/x-python",
   "name": "python",
   "nbconvert_exporter": "python",
   "pygments_lexer": "ipython3",
   "version": "3.7.6"
  }
 },
 "nbformat": 4,
 "nbformat_minor": 4
}
